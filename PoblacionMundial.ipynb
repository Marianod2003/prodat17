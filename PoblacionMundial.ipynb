{
 "cells": [
  {
   "attachments": {},
   "cell_type": "markdown",
   "metadata": {},
   "source": [
    "### **tk-01**  Verificar que el archivo exista en la ruta espacificada "
   ]
  },
  {
   "cell_type": "code",
   "execution_count": 2,
   "metadata": {},
   "outputs": [
    {
     "name": "stdout",
     "output_type": "stream",
     "text": [
      "El archivo existe en la ruta especificada.\n"
     ]
    }
   ],
   "source": [
    "import os\n",
    "\n",
    "ruta = \"./poblacion-mundial.csv\"\n",
    "\n",
    "if os.path.exists(ruta):\n",
    "    print(\"El archivo existe en la ruta especificada.\")\n",
    "else:\n",
    "    print(\"El archivo no existe en la ruta especificada.\")"
   ]
  },
  {
   "attachments": {},
   "cell_type": "markdown",
   "metadata": {},
   "source": [
    "### **tk-02** Cargar el archivo CSV en el DataFrame e importar librerías necesarias"
   ]
  },
  {
   "cell_type": "code",
   "execution_count": null,
   "metadata": {},
   "outputs": [],
   "source": [
    "import pandas as pd\n",
    "import matplotlib.pyplot as plt\n",
    "import seaborn as sns\n",
    "\n",
    "df_poblacion_mundial = pd.read_csv(\"./poblacion-mundial.csv\")"
   ]
  },
  {
   "attachments": {},
   "cell_type": "markdown",
   "metadata": {},
   "source": [
    "#### **tk-9** Obtener la población de un país en un año determinado"
   ]
  },
  {
   "cell_type": "code",
   "execution_count": null,
   "metadata": {},
   "outputs": [],
   "source": [
    "pais_consulta = 'Rwanda'\n",
    "anio_consulta = '2019'\n",
    "poblacion = df_poblacion_mundial.loc[df_poblacion_mundial['Entity'] == pais_consulta,\n",
    "anio_consulta].values[0]\n",
    "print(\"Poblacion de \", pais_consulta, \"en el año \", anio_consulta + \":\", poblacion)"
   ]
  },
  {
   "attachments": {},
   "cell_type": "markdown",
   "metadata": {},
   "source": [
    "#### **tk-10** Podemos seleccionar un subconjunto de países de interés para analizar y trazar la población a lo largo de los años utilizando un gráfico de líneas. Aquí podemos comparar las tendencias de población entre diferentes países de forma más clara."
   ]
  },
  {
   "cell_type": "code",
   "execution_count": null,
   "metadata": {},
   "outputs": [],
   "source": [
    "# Seleccionamos los países que queremos analizar\n",
    "paises_interesantes = ['Argentina', 'China', 'Serbia', 'India', 'Mexico', 'Tajikistan']\n",
    "\n",
    "# Filtramos el DataFrame para incluir solo los países de interés\n",
    "df_interes = df_poblacion_mundial[df_poblacion_mundial['Entity'].isin(paises_interesantes)]\n",
    "\n",
    "# Transponemos el DataFrame para que los años sean las columnas y los países sean las filas\n",
    "df_interes = df_interes.set_index('Entity').T\n",
    "\n",
    "# Creamos el gráfico de líneas\n",
    "df_interes.plot(kind='line', figsize=(10, 6))\n",
    "plt.xlabel('Año')\n",
    "plt.ylabel('Población (millones)')\n",
    "plt.title('Población mundial por país')\n",
    "plt.legend(loc='best')\n",
    "plt.show()"
   ]
  },
  {
   "attachments": {},
   "cell_type": "markdown",
   "metadata": {},
   "source": [
    "#### **tk-12** Gráfico de barras con población de los paises en un año determinado "
   ]
  },
  {
   "cell_type": "code",
   "execution_count": null,
   "metadata": {},
   "outputs": [],
   "source": [
    "# Seleccionamos una columna\n",
    "poblacion_1850 = df_poblacion_mundial['1850']\n",
    "\n",
    "# Filtramos los datos\n",
    "valor = 1000000\n",
    "datos_filtrados = df_poblacion_mundial[df_poblacion_mundial['1850'] > valor]\n",
    "\n",
    "\n",
    "import seaborn as sns\n",
    "import matplotlib.pyplot as plt\n",
    "\n",
    "plt.figure(figsize=(14, 6))  # Ajustamos el tamaño del lienzo según nuestras necesidades\n",
    "\n",
    "sns.barplot(x=[]'Entity', y='1850', data=datos_filtrados)\n",
    "plt.xlabel('Países')\n",
    "plt.ylabel('Población')\n",
    "plt.title('Gráfico de barras con datos filtrados')\n",
    "plt.xticks(rotation=90)  # Rotamos las etiquetas del eje x para una mejor legibilidad\n",
    "plt.show()\n",
    "\n"
   ]
  }
 ],
 "metadata": {
  "kernelspec": {
   "display_name": "base",
   "language": "python",
   "name": "python3"
  },
  "language_info": {
   "codemirror_mode": {
    "name": "ipython",
    "version": 3
   },
   "file_extension": ".py",
   "mimetype": "text/x-python",
   "name": "python",
   "nbconvert_exporter": "python",
   "pygments_lexer": "ipython3",
   "version": "3.10.6"
  },
  "orig_nbformat": 4
 },
 "nbformat": 4,
 "nbformat_minor": 2
}
