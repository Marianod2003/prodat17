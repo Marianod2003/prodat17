{
  "cells": [
    {
      "attachments": {},
      "cell_type": "markdown",
      "metadata": {
        "id": "eJa84QsWN6OU"
      },
      "source": [
        "### **tk-01**  Verificar que el archivo exista en la ruta espacificada"
      ]
    },
    {
      "cell_type": "code",
      "execution_count": 2,
      "metadata": {
        "id": "9b9r6_c5N6OX",
        "outputId": "f070201e-b544-4b78-a84a-661667632cab"
      },
      "outputs": [
        {
          "name": "stdout",
          "output_type": "stream",
          "text": [
            "El archivo existe en la ruta especificada.\n"
          ]
        }
      ],
      "source": [
        "import os\n",
        "\n",
        "ruta = \"./poblacion-mundial.csv\"\n",
        "\n",
        "if os.path.exists(ruta):\n",
        "    print(\"El archivo existe en la ruta especificada.\")\n",
        "else:\n",
        "    print(\"El archivo no existe en la ruta especificada.\")"
      ]
    },
    {
      "attachments": {},
      "cell_type": "markdown",
      "metadata": {
        "id": "I_9fhBTjN6Oa"
      },
      "source": [
        "### **tk-02** Cargar el archivo CSV en el DataFrame e importar librerías necesarias"
      ]
    },
    {
      "cell_type": "code",
      "execution_count": 3,
      "metadata": {
        "id": "s-Agjbz8N6Ob"
      },
      "outputs": [],
      "source": [
        "import pandas as pd\n",
        "import matplotlib.pyplot as plt\n",
        "import seaborn as sns\n",
        "\n",
        "df_poblacion_mundial = pd.read_csv(\"./poblacion-mundial.csv\")"
      ]
    },
    {
      "attachments": {},
      "cell_type": "markdown",
      "metadata": {},
      "source": [
        "tk-08 Obtener una lista con todos los países que figuran en el DataSet"
      ]
    },
    {
      "cell_type": "code",
      "execution_count": null,
      "metadata": {},
      "outputs": [],
      "source": [
        "\n",
        "data = pd.read_csv(\"poblacion-mundial.csv\")\n",
        "# Obtener una lista de los países únicos\n",
        "lista_paises = data[\"Entity\"].unique()\n",
        "\n",
        "# Imprimir la lista de países\n",
        "for Entity in lista_paises:\n",
        "    print(Entity)"
      ]
    },
    {
      "attachments": {},
      "cell_type": "markdown",
      "metadata": {},
      "source": [
        "tk-03 Mostrar los primeros 5 países de la tabla"
      ]
    },
    {
      "cell_type": "code",
      "execution_count": null,
      "metadata": {},
      "outputs": [],
      "source": [
        "# Mostrar los primeros 5 países\n",
        "data = pd.read_csv(\"poblacion-mundial.csv\")\n",
        "primeros_paises = data.head(5)\n",
        "print(primeros_paises)\n"
      ]
    },
    {
      "attachments": {},
      "cell_type": "markdown",
      "metadata": {
        "id": "g6reWdSsOZ3u"
      },
      "source": [
        "#### **tk-07** Información del DataSet"
      ]
    },
    {
      "cell_type": "code",
      "execution_count": 4,
      "metadata": {
        "colab": {
          "base_uri": "https://localhost:8080/"
        },
        "id": "dYMypz63Oele",
        "outputId": "f506ef45-8638-4df6-db78-bcd00bb7e6e4"
      },
      "outputs": [
        {
          "data": {
            "text/plain": [
              "<bound method DataFrame.info of           Entity     1801     1802     1803     1804     1805     1806  \\\n",
              "0    Afghanistan  3280000  3280000  3280000  3280000  3280000  3280000   \n",
              "1        Albania   411734   413026   414323   415624   416929   418237   \n",
              "2        Algeria  2512195  2521203  2530245  2539318  2548424  2557563   \n",
              "3        Andorra     2654     2654     2654     2654     2654     2654   \n",
              "4         Angola  1567028  1567028  1567028  1567028  1567028  1567028   \n",
              "..           ...      ...      ...      ...      ...      ...      ...   \n",
              "192    Venezuela   718000   718000   718000   718000   718000   718000   \n",
              "193      Vietnam  6551000  6551000  6551000  6551000  6551000  6551000   \n",
              "194        Yemen  2593000  2593000  2593000  2593000  2593000  2593000   \n",
              "195       Zambia   747000   747000   747000   747000   747000   747000   \n",
              "196     Zimbabwe  1085814  1085814  1085814  1085814  1085814  1085814   \n",
              "\n",
              "        1807     1808     1809  ...      2010      2011      2012      2013  \\\n",
              "0    3280000  3280000  3280000  ...  29186000  30117000  31161000  32270000   \n",
              "1     419550   420868   422189  ...   2948000   2929000   2914000   2904000   \n",
              "2    2566734  2575939  2585176  ...  35977000  36661000  37384000  38140000   \n",
              "3       2654     2654     2654  ...     84000     84000     82000     81000   \n",
              "4    1567028  1567028  1567028  ...  23356000  24221000  25108000  26016000   \n",
              "..       ...      ...      ...  ...       ...       ...       ...       ...   \n",
              "192   718000   718000   718000  ...  28440000  28888000  29361000  29781000   \n",
              "193  6551000  6551000  6551000  ...  87968000  88871000  89802000  90753000   \n",
              "194  2593000  2593000  2593000  ...  23155000  23808000  24473000  25147000   \n",
              "195   747000   747000   747000  ...  13606000  14023000  14465000  14927000   \n",
              "196  1085814  1085814  1085814  ...  12698000  12894000  13115000  13350000   \n",
              "\n",
              "         2014      2015      2016      2017      2018      2019  \n",
              "0    33371000  34414000  35383000  36296000  37172000  38042000  \n",
              "1     2896000   2891000   2886000   2884000   2883000   2881000  \n",
              "2    38924000  39728000  40551000  41389000  42228000  43053000  \n",
              "3       79000     78000     77000     77000     77000     77000  \n",
              "4    26942000  27884000  28842000  29817000  30810000  31825000  \n",
              "..        ...       ...       ...       ...       ...       ...  \n",
              "192  30043000  30082000  29851000  29402000  28887000  28516000  \n",
              "193  91714000  92677000  93640000  94601000  95546000  96462000  \n",
              "194  25823000  26498000  27168000  27835000  28499000  29162000  \n",
              "195  15400000  15879000  16363000  16854000  17352000  17861000  \n",
              "196  13587000  13815000  14030000  14237000  14439000  14645000  \n",
              "\n",
              "[197 rows x 220 columns]>"
            ]
          },
          "execution_count": 4,
          "metadata": {},
          "output_type": "execute_result"
        }
      ],
      "source": [
        "df_poblacion_mundial.info"
      ]
    },
    {
      "cell_type": "code",
      "execution_count": 5,
      "metadata": {
        "colab": {
          "base_uri": "https://localhost:8080/",
          "height": 299
        },
        "id": "yVUDXdk0RFWt",
        "outputId": "6c2190a5-b836-4606-c12e-8d029a791caf"
      },
      "outputs": [
        {
          "data": {
            "text/html": [
              "<div>\n",
              "<style scoped>\n",
              "    .dataframe tbody tr th:only-of-type {\n",
              "        vertical-align: middle;\n",
              "    }\n",
              "\n",
              "    .dataframe tbody tr th {\n",
              "        vertical-align: top;\n",
              "    }\n",
              "\n",
              "    .dataframe thead th {\n",
              "        text-align: right;\n",
              "    }\n",
              "</style>\n",
              "<table border=\"1\" class=\"dataframe\">\n",
              "  <thead>\n",
              "    <tr style=\"text-align: right;\">\n",
              "      <th></th>\n",
              "      <th>Entity</th>\n",
              "      <th>1801</th>\n",
              "      <th>1802</th>\n",
              "      <th>1803</th>\n",
              "      <th>1804</th>\n",
              "      <th>1805</th>\n",
              "      <th>1806</th>\n",
              "      <th>1807</th>\n",
              "      <th>1808</th>\n",
              "      <th>1809</th>\n",
              "      <th>...</th>\n",
              "      <th>2010</th>\n",
              "      <th>2011</th>\n",
              "      <th>2012</th>\n",
              "      <th>2013</th>\n",
              "      <th>2014</th>\n",
              "      <th>2015</th>\n",
              "      <th>2016</th>\n",
              "      <th>2017</th>\n",
              "      <th>2018</th>\n",
              "      <th>2019</th>\n",
              "    </tr>\n",
              "  </thead>\n",
              "  <tbody>\n",
              "    <tr>\n",
              "      <th>0</th>\n",
              "      <td>Afghanistan</td>\n",
              "      <td>3280000</td>\n",
              "      <td>3280000</td>\n",
              "      <td>3280000</td>\n",
              "      <td>3280000</td>\n",
              "      <td>3280000</td>\n",
              "      <td>3280000</td>\n",
              "      <td>3280000</td>\n",
              "      <td>3280000</td>\n",
              "      <td>3280000</td>\n",
              "      <td>...</td>\n",
              "      <td>29186000</td>\n",
              "      <td>30117000</td>\n",
              "      <td>31161000</td>\n",
              "      <td>32270000</td>\n",
              "      <td>33371000</td>\n",
              "      <td>34414000</td>\n",
              "      <td>35383000</td>\n",
              "      <td>36296000</td>\n",
              "      <td>37172000</td>\n",
              "      <td>38042000</td>\n",
              "    </tr>\n",
              "    <tr>\n",
              "      <th>1</th>\n",
              "      <td>Albania</td>\n",
              "      <td>411734</td>\n",
              "      <td>413026</td>\n",
              "      <td>414323</td>\n",
              "      <td>415624</td>\n",
              "      <td>416929</td>\n",
              "      <td>418237</td>\n",
              "      <td>419550</td>\n",
              "      <td>420868</td>\n",
              "      <td>422189</td>\n",
              "      <td>...</td>\n",
              "      <td>2948000</td>\n",
              "      <td>2929000</td>\n",
              "      <td>2914000</td>\n",
              "      <td>2904000</td>\n",
              "      <td>2896000</td>\n",
              "      <td>2891000</td>\n",
              "      <td>2886000</td>\n",
              "      <td>2884000</td>\n",
              "      <td>2883000</td>\n",
              "      <td>2881000</td>\n",
              "    </tr>\n",
              "    <tr>\n",
              "      <th>2</th>\n",
              "      <td>Algeria</td>\n",
              "      <td>2512195</td>\n",
              "      <td>2521203</td>\n",
              "      <td>2530245</td>\n",
              "      <td>2539318</td>\n",
              "      <td>2548424</td>\n",
              "      <td>2557563</td>\n",
              "      <td>2566734</td>\n",
              "      <td>2575939</td>\n",
              "      <td>2585176</td>\n",
              "      <td>...</td>\n",
              "      <td>35977000</td>\n",
              "      <td>36661000</td>\n",
              "      <td>37384000</td>\n",
              "      <td>38140000</td>\n",
              "      <td>38924000</td>\n",
              "      <td>39728000</td>\n",
              "      <td>40551000</td>\n",
              "      <td>41389000</td>\n",
              "      <td>42228000</td>\n",
              "      <td>43053000</td>\n",
              "    </tr>\n",
              "    <tr>\n",
              "      <th>3</th>\n",
              "      <td>Andorra</td>\n",
              "      <td>2654</td>\n",
              "      <td>2654</td>\n",
              "      <td>2654</td>\n",
              "      <td>2654</td>\n",
              "      <td>2654</td>\n",
              "      <td>2654</td>\n",
              "      <td>2654</td>\n",
              "      <td>2654</td>\n",
              "      <td>2654</td>\n",
              "      <td>...</td>\n",
              "      <td>84000</td>\n",
              "      <td>84000</td>\n",
              "      <td>82000</td>\n",
              "      <td>81000</td>\n",
              "      <td>79000</td>\n",
              "      <td>78000</td>\n",
              "      <td>77000</td>\n",
              "      <td>77000</td>\n",
              "      <td>77000</td>\n",
              "      <td>77000</td>\n",
              "    </tr>\n",
              "    <tr>\n",
              "      <th>4</th>\n",
              "      <td>Angola</td>\n",
              "      <td>1567028</td>\n",
              "      <td>1567028</td>\n",
              "      <td>1567028</td>\n",
              "      <td>1567028</td>\n",
              "      <td>1567028</td>\n",
              "      <td>1567028</td>\n",
              "      <td>1567028</td>\n",
              "      <td>1567028</td>\n",
              "      <td>1567028</td>\n",
              "      <td>...</td>\n",
              "      <td>23356000</td>\n",
              "      <td>24221000</td>\n",
              "      <td>25108000</td>\n",
              "      <td>26016000</td>\n",
              "      <td>26942000</td>\n",
              "      <td>27884000</td>\n",
              "      <td>28842000</td>\n",
              "      <td>29817000</td>\n",
              "      <td>30810000</td>\n",
              "      <td>31825000</td>\n",
              "    </tr>\n",
              "  </tbody>\n",
              "</table>\n",
              "<p>5 rows × 220 columns</p>\n",
              "</div>"
            ],
            "text/plain": [
              "        Entity     1801     1802     1803     1804     1805     1806     1807  \\\n",
              "0  Afghanistan  3280000  3280000  3280000  3280000  3280000  3280000  3280000   \n",
              "1      Albania   411734   413026   414323   415624   416929   418237   419550   \n",
              "2      Algeria  2512195  2521203  2530245  2539318  2548424  2557563  2566734   \n",
              "3      Andorra     2654     2654     2654     2654     2654     2654     2654   \n",
              "4       Angola  1567028  1567028  1567028  1567028  1567028  1567028  1567028   \n",
              "\n",
              "      1808     1809  ...      2010      2011      2012      2013      2014  \\\n",
              "0  3280000  3280000  ...  29186000  30117000  31161000  32270000  33371000   \n",
              "1   420868   422189  ...   2948000   2929000   2914000   2904000   2896000   \n",
              "2  2575939  2585176  ...  35977000  36661000  37384000  38140000  38924000   \n",
              "3     2654     2654  ...     84000     84000     82000     81000     79000   \n",
              "4  1567028  1567028  ...  23356000  24221000  25108000  26016000  26942000   \n",
              "\n",
              "       2015      2016      2017      2018      2019  \n",
              "0  34414000  35383000  36296000  37172000  38042000  \n",
              "1   2891000   2886000   2884000   2883000   2881000  \n",
              "2  39728000  40551000  41389000  42228000  43053000  \n",
              "3     78000     77000     77000     77000     77000  \n",
              "4  27884000  28842000  29817000  30810000  31825000  \n",
              "\n",
              "[5 rows x 220 columns]"
            ]
          },
          "execution_count": 5,
          "metadata": {},
          "output_type": "execute_result"
        }
      ],
      "source": [
        "#Obtener resumen de 5 filas del dataframe\n",
        "df_poblacion_mundial.head()"
      ]
    },
    {
      "cell_type": "code",
      "execution_count": 6,
      "metadata": {
        "colab": {
          "base_uri": "https://localhost:8080/",
          "height": 393
        },
        "id": "vOPmZiZ3Wyta",
        "outputId": "5f22f529-629b-4f2d-8809-c730039e7c11"
      },
      "outputs": [
        {
          "data": {
            "text/html": [
              "<div>\n",
              "<style scoped>\n",
              "    .dataframe tbody tr th:only-of-type {\n",
              "        vertical-align: middle;\n",
              "    }\n",
              "\n",
              "    .dataframe tbody tr th {\n",
              "        vertical-align: top;\n",
              "    }\n",
              "\n",
              "    .dataframe thead th {\n",
              "        text-align: right;\n",
              "    }\n",
              "</style>\n",
              "<table border=\"1\" class=\"dataframe\">\n",
              "  <thead>\n",
              "    <tr style=\"text-align: right;\">\n",
              "      <th></th>\n",
              "      <th>1801</th>\n",
              "      <th>1802</th>\n",
              "      <th>1803</th>\n",
              "      <th>1804</th>\n",
              "      <th>1805</th>\n",
              "      <th>1806</th>\n",
              "      <th>1807</th>\n",
              "      <th>1808</th>\n",
              "      <th>1809</th>\n",
              "      <th>1810</th>\n",
              "      <th>...</th>\n",
              "      <th>2010</th>\n",
              "      <th>2011</th>\n",
              "      <th>2012</th>\n",
              "      <th>2013</th>\n",
              "      <th>2014</th>\n",
              "      <th>2015</th>\n",
              "      <th>2016</th>\n",
              "      <th>2017</th>\n",
              "      <th>2018</th>\n",
              "      <th>2019</th>\n",
              "    </tr>\n",
              "  </thead>\n",
              "  <tbody>\n",
              "    <tr>\n",
              "      <th>count</th>\n",
              "      <td>1.970000e+02</td>\n",
              "      <td>1.970000e+02</td>\n",
              "      <td>1.970000e+02</td>\n",
              "      <td>1.970000e+02</td>\n",
              "      <td>1.970000e+02</td>\n",
              "      <td>1.970000e+02</td>\n",
              "      <td>1.970000e+02</td>\n",
              "      <td>1.970000e+02</td>\n",
              "      <td>1.970000e+02</td>\n",
              "      <td>1.970000e+02</td>\n",
              "      <td>...</td>\n",
              "      <td>1.970000e+02</td>\n",
              "      <td>1.970000e+02</td>\n",
              "      <td>1.970000e+02</td>\n",
              "      <td>1.970000e+02</td>\n",
              "      <td>1.970000e+02</td>\n",
              "      <td>1.970000e+02</td>\n",
              "      <td>1.970000e+02</td>\n",
              "      <td>1.970000e+02</td>\n",
              "      <td>1.970000e+02</td>\n",
              "      <td>1.970000e+02</td>\n",
              "    </tr>\n",
              "    <tr>\n",
              "      <th>mean</th>\n",
              "      <td>4.837408e+06</td>\n",
              "      <td>4.858826e+06</td>\n",
              "      <td>4.880457e+06</td>\n",
              "      <td>4.902266e+06</td>\n",
              "      <td>4.924243e+06</td>\n",
              "      <td>4.946375e+06</td>\n",
              "      <td>4.968646e+06</td>\n",
              "      <td>4.991054e+06</td>\n",
              "      <td>5.013560e+06</td>\n",
              "      <td>5.040095e+06</td>\n",
              "      <td>...</td>\n",
              "      <td>3.527043e+07</td>\n",
              "      <td>3.569857e+07</td>\n",
              "      <td>3.612807e+07</td>\n",
              "      <td>3.655824e+07</td>\n",
              "      <td>3.698820e+07</td>\n",
              "      <td>3.741725e+07</td>\n",
              "      <td>3.784502e+07</td>\n",
              "      <td>3.827091e+07</td>\n",
              "      <td>3.869377e+07</td>\n",
              "      <td>3.911220e+07</td>\n",
              "    </tr>\n",
              "    <tr>\n",
              "      <th>std</th>\n",
              "      <td>2.624999e+07</td>\n",
              "      <td>2.643363e+07</td>\n",
              "      <td>2.661897e+07</td>\n",
              "      <td>2.680602e+07</td>\n",
              "      <td>2.699480e+07</td>\n",
              "      <td>2.718532e+07</td>\n",
              "      <td>2.737761e+07</td>\n",
              "      <td>2.757167e+07</td>\n",
              "      <td>2.776753e+07</td>\n",
              "      <td>2.799480e+07</td>\n",
              "      <td>...</td>\n",
              "      <td>1.353020e+08</td>\n",
              "      <td>1.365382e+08</td>\n",
              "      <td>1.377560e+08</td>\n",
              "      <td>1.389560e+08</td>\n",
              "      <td>1.401392e+08</td>\n",
              "      <td>1.413059e+08</td>\n",
              "      <td>1.424561e+08</td>\n",
              "      <td>1.435872e+08</td>\n",
              "      <td>1.446934e+08</td>\n",
              "      <td>1.457677e+08</td>\n",
              "    </tr>\n",
              "    <tr>\n",
              "      <th>min</th>\n",
              "      <td>9.050000e+02</td>\n",
              "      <td>9.050000e+02</td>\n",
              "      <td>9.050000e+02</td>\n",
              "      <td>9.050000e+02</td>\n",
              "      <td>9.050000e+02</td>\n",
              "      <td>9.050000e+02</td>\n",
              "      <td>9.050000e+02</td>\n",
              "      <td>9.050000e+02</td>\n",
              "      <td>9.050000e+02</td>\n",
              "      <td>9.050000e+02</td>\n",
              "      <td>...</td>\n",
              "      <td>1.000000e+03</td>\n",
              "      <td>1.000000e+03</td>\n",
              "      <td>1.000000e+03</td>\n",
              "      <td>1.000000e+03</td>\n",
              "      <td>1.000000e+03</td>\n",
              "      <td>1.000000e+03</td>\n",
              "      <td>1.000000e+03</td>\n",
              "      <td>1.000000e+03</td>\n",
              "      <td>1.000000e+03</td>\n",
              "      <td>1.000000e+03</td>\n",
              "    </tr>\n",
              "    <tr>\n",
              "      <th>25%</th>\n",
              "      <td>1.032740e+05</td>\n",
              "      <td>1.032740e+05</td>\n",
              "      <td>1.032740e+05</td>\n",
              "      <td>1.032740e+05</td>\n",
              "      <td>1.032740e+05</td>\n",
              "      <td>1.032740e+05</td>\n",
              "      <td>1.032740e+05</td>\n",
              "      <td>1.032740e+05</td>\n",
              "      <td>1.032740e+05</td>\n",
              "      <td>1.032740e+05</td>\n",
              "      <td>...</td>\n",
              "      <td>1.793000e+06</td>\n",
              "      <td>1.848000e+06</td>\n",
              "      <td>1.905000e+06</td>\n",
              "      <td>1.964000e+06</td>\n",
              "      <td>2.021000e+06</td>\n",
              "      <td>1.998000e+06</td>\n",
              "      <td>2.008000e+06</td>\n",
              "      <td>2.065000e+06</td>\n",
              "      <td>2.078000e+06</td>\n",
              "      <td>2.079000e+06</td>\n",
              "    </tr>\n",
              "    <tr>\n",
              "      <th>50%</th>\n",
              "      <td>7.125580e+05</td>\n",
              "      <td>7.125580e+05</td>\n",
              "      <td>7.125580e+05</td>\n",
              "      <td>7.125580e+05</td>\n",
              "      <td>7.125580e+05</td>\n",
              "      <td>7.125580e+05</td>\n",
              "      <td>7.125580e+05</td>\n",
              "      <td>7.125580e+05</td>\n",
              "      <td>7.173200e+05</td>\n",
              "      <td>7.180000e+05</td>\n",
              "      <td>...</td>\n",
              "      <td>7.425000e+06</td>\n",
              "      <td>7.663000e+06</td>\n",
              "      <td>7.875000e+06</td>\n",
              "      <td>8.060000e+06</td>\n",
              "      <td>8.206000e+06</td>\n",
              "      <td>8.297000e+06</td>\n",
              "      <td>8.380000e+06</td>\n",
              "      <td>8.456000e+06</td>\n",
              "      <td>8.606000e+06</td>\n",
              "      <td>8.772000e+06</td>\n",
              "    </tr>\n",
              "    <tr>\n",
              "      <th>75%</th>\n",
              "      <td>2.101397e+06</td>\n",
              "      <td>2.101397e+06</td>\n",
              "      <td>2.101397e+06</td>\n",
              "      <td>2.101397e+06</td>\n",
              "      <td>2.101397e+06</td>\n",
              "      <td>2.101397e+06</td>\n",
              "      <td>2.101397e+06</td>\n",
              "      <td>2.101397e+06</td>\n",
              "      <td>2.101397e+06</td>\n",
              "      <td>2.101397e+06</td>\n",
              "      <td>...</td>\n",
              "      <td>2.335600e+07</td>\n",
              "      <td>2.418800e+07</td>\n",
              "      <td>2.480100e+07</td>\n",
              "      <td>2.514700e+07</td>\n",
              "      <td>2.582300e+07</td>\n",
              "      <td>2.649800e+07</td>\n",
              "      <td>2.716800e+07</td>\n",
              "      <td>2.763300e+07</td>\n",
              "      <td>2.809600e+07</td>\n",
              "      <td>2.851600e+07</td>\n",
              "    </tr>\n",
              "    <tr>\n",
              "      <th>max</th>\n",
              "      <td>3.244089e+08</td>\n",
              "      <td>3.271660e+08</td>\n",
              "      <td>3.299465e+08</td>\n",
              "      <td>3.327506e+08</td>\n",
              "      <td>3.355786e+08</td>\n",
              "      <td>3.384306e+08</td>\n",
              "      <td>3.413068e+08</td>\n",
              "      <td>3.442076e+08</td>\n",
              "      <td>3.471329e+08</td>\n",
              "      <td>3.505429e+08</td>\n",
              "      <td>...</td>\n",
              "      <td>1.368811e+09</td>\n",
              "      <td>1.376498e+09</td>\n",
              "      <td>1.384206e+09</td>\n",
              "      <td>1.391883e+09</td>\n",
              "      <td>1.399454e+09</td>\n",
              "      <td>1.406848e+09</td>\n",
              "      <td>1.414049e+09</td>\n",
              "      <td>1.421022e+09</td>\n",
              "      <td>1.427648e+09</td>\n",
              "      <td>1.433784e+09</td>\n",
              "    </tr>\n",
              "  </tbody>\n",
              "</table>\n",
              "<p>8 rows × 219 columns</p>\n",
              "</div>"
            ],
            "text/plain": [
              "               1801          1802          1803          1804          1805  \\\n",
              "count  1.970000e+02  1.970000e+02  1.970000e+02  1.970000e+02  1.970000e+02   \n",
              "mean   4.837408e+06  4.858826e+06  4.880457e+06  4.902266e+06  4.924243e+06   \n",
              "std    2.624999e+07  2.643363e+07  2.661897e+07  2.680602e+07  2.699480e+07   \n",
              "min    9.050000e+02  9.050000e+02  9.050000e+02  9.050000e+02  9.050000e+02   \n",
              "25%    1.032740e+05  1.032740e+05  1.032740e+05  1.032740e+05  1.032740e+05   \n",
              "50%    7.125580e+05  7.125580e+05  7.125580e+05  7.125580e+05  7.125580e+05   \n",
              "75%    2.101397e+06  2.101397e+06  2.101397e+06  2.101397e+06  2.101397e+06   \n",
              "max    3.244089e+08  3.271660e+08  3.299465e+08  3.327506e+08  3.355786e+08   \n",
              "\n",
              "               1806          1807          1808          1809          1810  \\\n",
              "count  1.970000e+02  1.970000e+02  1.970000e+02  1.970000e+02  1.970000e+02   \n",
              "mean   4.946375e+06  4.968646e+06  4.991054e+06  5.013560e+06  5.040095e+06   \n",
              "std    2.718532e+07  2.737761e+07  2.757167e+07  2.776753e+07  2.799480e+07   \n",
              "min    9.050000e+02  9.050000e+02  9.050000e+02  9.050000e+02  9.050000e+02   \n",
              "25%    1.032740e+05  1.032740e+05  1.032740e+05  1.032740e+05  1.032740e+05   \n",
              "50%    7.125580e+05  7.125580e+05  7.125580e+05  7.173200e+05  7.180000e+05   \n",
              "75%    2.101397e+06  2.101397e+06  2.101397e+06  2.101397e+06  2.101397e+06   \n",
              "max    3.384306e+08  3.413068e+08  3.442076e+08  3.471329e+08  3.505429e+08   \n",
              "\n",
              "       ...          2010          2011          2012          2013  \\\n",
              "count  ...  1.970000e+02  1.970000e+02  1.970000e+02  1.970000e+02   \n",
              "mean   ...  3.527043e+07  3.569857e+07  3.612807e+07  3.655824e+07   \n",
              "std    ...  1.353020e+08  1.365382e+08  1.377560e+08  1.389560e+08   \n",
              "min    ...  1.000000e+03  1.000000e+03  1.000000e+03  1.000000e+03   \n",
              "25%    ...  1.793000e+06  1.848000e+06  1.905000e+06  1.964000e+06   \n",
              "50%    ...  7.425000e+06  7.663000e+06  7.875000e+06  8.060000e+06   \n",
              "75%    ...  2.335600e+07  2.418800e+07  2.480100e+07  2.514700e+07   \n",
              "max    ...  1.368811e+09  1.376498e+09  1.384206e+09  1.391883e+09   \n",
              "\n",
              "               2014          2015          2016          2017          2018  \\\n",
              "count  1.970000e+02  1.970000e+02  1.970000e+02  1.970000e+02  1.970000e+02   \n",
              "mean   3.698820e+07  3.741725e+07  3.784502e+07  3.827091e+07  3.869377e+07   \n",
              "std    1.401392e+08  1.413059e+08  1.424561e+08  1.435872e+08  1.446934e+08   \n",
              "min    1.000000e+03  1.000000e+03  1.000000e+03  1.000000e+03  1.000000e+03   \n",
              "25%    2.021000e+06  1.998000e+06  2.008000e+06  2.065000e+06  2.078000e+06   \n",
              "50%    8.206000e+06  8.297000e+06  8.380000e+06  8.456000e+06  8.606000e+06   \n",
              "75%    2.582300e+07  2.649800e+07  2.716800e+07  2.763300e+07  2.809600e+07   \n",
              "max    1.399454e+09  1.406848e+09  1.414049e+09  1.421022e+09  1.427648e+09   \n",
              "\n",
              "               2019  \n",
              "count  1.970000e+02  \n",
              "mean   3.911220e+07  \n",
              "std    1.457677e+08  \n",
              "min    1.000000e+03  \n",
              "25%    2.079000e+06  \n",
              "50%    8.772000e+06  \n",
              "75%    2.851600e+07  \n",
              "max    1.433784e+09  \n",
              "\n",
              "[8 rows x 219 columns]"
            ]
          },
          "execution_count": 6,
          "metadata": {},
          "output_type": "execute_result"
        }
      ],
      "source": [
        "#Obtener información estadística del dataframe de los años\n",
        "df_poblacion_mundial.describe()"
      ]
    },
    {
      "attachments": {},
      "cell_type": "markdown",
      "metadata": {
        "id": "nX9zQIqzN6Ob"
      },
      "source": [
        "#### **tk-9** Obtener la población de un país en un año determinado"
      ]
    },
    {
      "cell_type": "code",
      "execution_count": 7,
      "metadata": {
        "colab": {
          "base_uri": "https://localhost:8080/"
        },
        "id": "jQaezzfgN6Ob",
        "outputId": "5914aceb-9026-43ea-83eb-f76e0fa148f1"
      },
      "outputs": [
        {
          "name": "stdout",
          "output_type": "stream",
          "text": [
            "Poblacion de  Rwanda en el año  2019: 12627000\n"
          ]
        }
      ],
      "source": [
        "pais_consulta = 'Rwanda'\n",
        "anio_consulta = '2019'\n",
        "poblacion = df_poblacion_mundial.loc[df_poblacion_mundial['Entity'] == pais_consulta,\n",
        "anio_consulta].values[0]\n",
        "print(\"Poblacion de \", pais_consulta, \"en el año \", anio_consulta + \":\", poblacion)"
      ]
    },
    {
      "attachments": {},
      "cell_type": "markdown",
      "metadata": {
        "id": "gS_gE-_LN6Ob"
      },
      "source": [
        "#### **tk-10** Podemos seleccionar un subconjunto de países de interés para analizar y trazar la población a lo largo de los años utilizando un gráfico de líneas. Aquí podemos comparar las tendencias de población entre diferentes países de forma más clara."
      ]
    },
    {
      "cell_type": "code",
      "execution_count": 8,
      "metadata": {
        "colab": {
          "base_uri": "https://localhost:8080/",
          "height": 565
        },
        "id": "pYF0Kbx2N6Oc",
        "outputId": "0f077a92-39d8-4366-f5ea-97a1b62b47da"
      },
      "outputs": [
        {
          "data": {
            "image/png": "[encoded data removed]",
            "text/plain": [
              "<Figure size 720x432 with 1 Axes>"
            ]
          },
          "metadata": {
            "needs_background": "light"
          },
          "output_type": "display_data"
        }
      ],
      "source": [
        "# Seleccionamos los países que queremos analizar\n",
        "paises_interesantes = ['Argentina', 'China', 'Serbia', 'India', 'Mexico', 'Tajikistan']\n",
        "\n",
        "# Filtramos el DataFrame para incluir solo los países de interés\n",
        "df_interes = df_poblacion_mundial[df_poblacion_mundial['Entity'].isin(paises_interesantes)]\n",
        "\n",
        "# Transponemos el DataFrame para que los años sean las columnas y los países sean las filas\n",
        "df_interes = df_interes.set_index('Entity').T\n",
        "\n",
        "# Creamos el gráfico de líneas\n",
        "df_interes.plot(kind='line', figsize=(10, 6))\n",
        "plt.xlabel('Año')\n",
        "plt.ylabel('Población (millones)')\n",
        "plt.title('Población mundial por país')\n",
        "plt.legend(loc='best')\n",
        "plt.show()"
      ]
    },
    {
      "attachments": {},
      "cell_type": "markdown",
      "metadata": {},
      "source": [
        "#### Obtener una lista con los 20 países con mayor población en 2019"
      ]
    },
    {
      "cell_type": "code",
      "execution_count": 18,
      "metadata": {},
      "outputs": [
        {
          "name": "stdout",
          "output_type": "stream",
          "text": [
            "                             País   Población\n",
            "35                          China  1433784064\n",
            "77                          India  1366418048\n",
            "187                 United States   329064992\n",
            "78                      Indonesia   270625984\n",
            "131                      Pakistan   216564992\n",
            "23                         Brazil   211050000\n",
            "126                       Nigeria   200964000\n",
            "13                     Bangladesh   163046000\n",
            "143                        Russia   145872000\n",
            "110                        Mexico   127576000\n",
            "85                          Japan   126860000\n",
            "57                       Ethiopia   112079000\n",
            "138                   Philippines   108117000\n",
            "51                          Egypt   100388000\n",
            "193                       Vietnam    96462000\n",
            "45   Democratic Republic of Congo    86791000\n",
            "64                        Germany    83517000\n",
            "180                        Turkey    83430000\n",
            "79                           Iran    82914000\n",
            "174                      Thailand    69626000\n"
          ]
        }
      ],
      "source": [
        "# Año a consultar\n",
        "anio_consulta = 2019\n",
        "\n",
        "# Filtrar los 20 países con mayor población en el año consultado\n",
        "top_20_paises = df_poblacion_mundial[['Entity', str(anio_consulta)]].nlargest(20, str(anio_consulta), keep='first')\n",
        "\n",
        "# Renombrar las columnas\n",
        "top_20_paises.columns = ['País', 'Población']\n",
        "\n",
        "# Imprimir el resultado\n",
        "print(top_20_paises)"
      ]
    },
    {
      "attachments": {},
      "cell_type": "markdown",
      "metadata": {
        "id": "y67CyOP4PLq6"
      },
      "source": [
        "#### **tk-11** Gráfico de barras de la población en 2019 de los 20 Países con mas población de ese año"
      ]
    },
    {
      "cell_type": "code",
      "execution_count": 17,
      "metadata": {
        "colab": {
          "base_uri": "https://localhost:8080/"
        },
        "id": "oUp1X-LCPbl4",
        "outputId": "85a418dc-3f46-4363-e117-1df0b74b26ba"
      },
      "outputs": [
        {
          "data": {
            "image/png": "[encoded data removed]",
            "text/plain": [
              "<Figure size 864x432 with 1 Axes>"
            ]
          },
          "metadata": {},
          "output_type": "display_data"
        }
      ],
      "source": [
        "# Filtrar los 20 países con mayor población en el año consultado\n",
        "top_20_paises = df_poblacion_mundial[['Entity', str(anio_consulta)]].nlargest(20, str(anio_consulta), keep='first')\n",
        "\n",
        "# Configurar el estilo de Seaborn\n",
        "sns.set(style=\"whitegrid\")\n",
        "\n",
        "# Crear el gráfico de barras utilizando Seaborn\n",
        "plt.figure(figsize=(12, 6))\n",
        "ax = sns.barplot(x='Entity', y=str(anio_consulta), data=top_20_paises)\n",
        "\n",
        "# Configurar el título y las etiquetas de los ejes\n",
        "plt.title('Top 20 países con mayor población en {}'.format(anio_consulta))\n",
        "plt.xlabel('Países')\n",
        "plt.ylabel('Población')\n",
        "\n",
        "# Rotar las etiquetas del eje x para una mejor legibilidad\n",
        "ax.set_xticklabels(ax.get_xticklabels(), rotation=45, ha='right')\n",
        "\n",
        "# Mostrar el gráfico de barras\n",
        "plt.tight_layout()\n",
        "plt.show()"
      ]
    },
    {
      "attachments": {},
      "cell_type": "markdown",
      "metadata": {
        "id": "SPV391D7N6Oc"
      },
      "source": [
        "#### **tk-12** Gráfico de barras de la población en 1801 de los 20 Países con mas población de ese año"
      ]
    },
    {
      "cell_type": "code",
      "execution_count": 15,
      "metadata": {
        "colab": {
          "base_uri": "https://localhost:8080/",
          "height": 624
        },
        "id": "Jj3x1yMlN6Oc",
        "outputId": "e0a8fb13-a0cb-4f41-b7b3-9fafb24fd7d5"
      },
      "outputs": [
        {
          "data": {
            "image/png": "[encoded data removed]",
            "text/plain": [
              "<Figure size 1008x432 with 1 Axes>"
            ]
          },
          "metadata": {},
          "output_type": "display_data"
        }
      ],
      "source": [
        "# Seleccionamos una columna\n",
        "poblacion_1850 = df_poblacion_mundial['1801']\n",
        "\n",
        "# Ordenamos los datos por la columna seleccionada\n",
        "datos_ordenados = df_poblacion_mundial.sort_values('1850', ascending=False)\n",
        "\n",
        "# Tomamos los primeros 20 países\n",
        "datos_filtrados = datos_ordenados.head(20)\n",
        "\n",
        "plt.figure(figsize=(14, 6))  # Ajustamos el tamaño del lienzo según nuestras necesidades\n",
        "\n",
        "sns.barplot(x='Entity', y='1850', data=datos_filtrados)\n",
        "plt.xlabel('Países')\n",
        "plt.ylabel('Población')\n",
        "plt.title('Gráfico de barras con datos filtrados')\n",
        "plt.xticks(rotation=90)  # Rotamos las etiquetas del eje x para una mejor legibilidad\n",
        "plt.show()\n",
        "\n",
        "\n"
      ]
    },
    {
      "attachments": {},
      "cell_type": "markdown",
      "metadata": {
        "id": "hMjfrz9EN6Oc"
      },
      "source": [
        "#### **tk-13** Mostrar la población total mundial en un año determinado"
      ]
    },
    {
      "cell_type": "code",
      "execution_count": 13,
      "metadata": {
        "colab": {
          "base_uri": "https://localhost:8080/"
        },
        "id": "gEQZEH31N6Od",
        "outputId": "d49f472b-c259-4976-b692-62d9979b05e7"
      },
      "outputs": [
        {
          "name": "stdout",
          "output_type": "stream",
          "text": [
            "Población mundial en 2000 : 6135502040\n"
          ]
        }
      ],
      "source": [
        "# Obtener la población mundial total en un año determinado\n",
        "anio_determinado = '2000'  # Cambiar al año deseado\n",
        "poblacion_determinada = df_poblacion_mundial[anio_determinado].sum()\n",
        "print(\"Población mundial en\", anio_determinado, \":\", poblacion_determinada)"
      ]
    },
    {
      "attachments": {},
      "cell_type": "markdown",
      "metadata": {
        "id": "HsPfyWc_N6Od"
      },
      "source": [
        "#### **tk-14** Mostrar la población mundial total del año mas reciente y comparar con la mas antigua"
      ]
    },
    {
      "cell_type": "code",
      "execution_count": 14,
      "metadata": {
        "colab": {
          "base_uri": "https://localhost:8080/"
        },
        "id": "lD4ythPtN6Od",
        "outputId": "bf12e7e8-d664-4449-c11e-4d1e75a2a64d"
      },
      "outputs": [
        {
          "name": "stdout",
          "output_type": "stream",
          "text": [
            "Población mundial 2019: 7705103080\n",
            "Población mundial 1801: 952969356\n",
            "Diferencia de población entre 1801 y 2019 es de 6752133724\n"
          ]
        }
      ],
      "source": [
        "# Obtener la población mundial total del año más reciente\n",
        "ultimo_anio = df_poblacion_mundial.columns[-1]\n",
        "poblacion_actual = df_poblacion_mundial[ultimo_anio].sum()\n",
        "print(\"Población mundial 2019:\", poblacion_actual)\n",
        "\n",
        "# Obtener la población mundial total del año más antiguo\n",
        "primer_anio = df_poblacion_mundial.columns[1]\n",
        "poblacion_antigua = df_poblacion_mundial[primer_anio].sum()\n",
        "print(\"Población mundial 1801:\", poblacion_antigua)\n",
        "print(\"Diferencia de población entre 1801 y 2019 es de\", poblacion_actual-poblacion_antigua)"
      ]
    }
  ],
  "metadata": {
    "colab": {
      "provenance": []
    },
    "kernelspec": {
      "display_name": "base",
      "language": "python",
      "name": "python3"
    },
    "language_info": {
      "codemirror_mode": {
        "name": "ipython",
        "version": 3
      },
      "file_extension": ".py",
      "mimetype": "text/x-python",
      "name": "python",
      "nbconvert_exporter": "python",
      "pygments_lexer": "ipython3",
      "version": "3.9.12"
    },
    "orig_nbformat": 4
  },
  "nbformat": 4,
  "nbformat_minor": 0
}
