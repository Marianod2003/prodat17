{
 "cells": [
  {
   "cell_type": "code",
   "execution_count": 3,
   "metadata": {},
   "outputs": [],
   "source": [
    "import pandas as pd\n",
    "import matplotlib.pyplot as plt\n",
    "import seaborn as sns\n"
   ]
  },
  {
   "attachments": {},
   "cell_type": "markdown",
   "metadata": {},
   "source": [
    "### **tk-9** Obtener la población de un país en un año determinado"
   ]
  },
  {
   "cell_type": "code",
   "execution_count": null,
   "metadata": {},
   "outputs": [],
   "source": [
    "pais_consulta = 'Rwanda'\n",
    "anio_consulta = '2019'\n",
    "poblacion = df_poblacion_mundial.loc[df_poblacion_mundial['Entity'] == pais_consulta,\n",
    "anio_consulta].values[0]\n",
    "print(\"Poblacion de \", pais_consulta, \"en el año \", anio_consulta + \":\", poblacion)"
   ]
  },
  {
   "attachments": {},
   "cell_type": "markdown",
   "metadata": {},
   "source": [
    "#### **tk-10** Podemos seleccionar un subconjunto de países de interés para analizar y trazar la población a lo largo de los años utilizando un gráfico de líneas. Aquí podemos comparar las tendencias de población entre diferentes países de forma más clara."
   ]
  },
  {
   "cell_type": "code",
   "execution_count": 5,
   "metadata": {},
   "outputs": [
    {
     "ename": "NameError",
     "evalue": "name 'df_poblacion_mundial' is not defined",
     "output_type": "error",
     "traceback": [
      "\u001b[1;31m---------------------------------------------------------------------------\u001b[0m",
      "\u001b[1;31mNameError\u001b[0m                                 Traceback (most recent call last)",
      "\u001b[1;32mc:\\Users\\marco\\OneDrive\\Documentos\\GitHub\\prodat17\\PoblacionMundial.ipynb Celda 3\u001b[0m in \u001b[0;36m<cell line: 5>\u001b[1;34m()\u001b[0m\n\u001b[0;32m      <a href='vscode-notebook-cell:/c%3A/Users/marco/OneDrive/Documentos/GitHub/prodat17/PoblacionMundial.ipynb#W6sZmlsZQ%3D%3D?line=1'>2</a>\u001b[0m paises_interesantes \u001b[39m=\u001b[39m [\u001b[39m'\u001b[39m\u001b[39mArgentina\u001b[39m\u001b[39m'\u001b[39m, \u001b[39m'\u001b[39m\u001b[39mChina\u001b[39m\u001b[39m'\u001b[39m, \u001b[39m'\u001b[39m\u001b[39mSerbia\u001b[39m\u001b[39m'\u001b[39m, \u001b[39m'\u001b[39m\u001b[39mIndia\u001b[39m\u001b[39m'\u001b[39m, \u001b[39m'\u001b[39m\u001b[39mMexico\u001b[39m\u001b[39m'\u001b[39m, \u001b[39m'\u001b[39m\u001b[39mTajikistan\u001b[39m\u001b[39m'\u001b[39m]\n\u001b[0;32m      <a href='vscode-notebook-cell:/c%3A/Users/marco/OneDrive/Documentos/GitHub/prodat17/PoblacionMundial.ipynb#W6sZmlsZQ%3D%3D?line=3'>4</a>\u001b[0m \u001b[39m# Filtramos el DataFrame para incluir solo los países de interés\u001b[39;00m\n\u001b[1;32m----> <a href='vscode-notebook-cell:/c%3A/Users/marco/OneDrive/Documentos/GitHub/prodat17/PoblacionMundial.ipynb#W6sZmlsZQ%3D%3D?line=4'>5</a>\u001b[0m df_interes \u001b[39m=\u001b[39m df_poblacion_mundial[df_poblacion_mundial[\u001b[39m'\u001b[39m\u001b[39mEntity\u001b[39m\u001b[39m'\u001b[39m]\u001b[39m.\u001b[39misin(paises_interesantes)]\n\u001b[0;32m      <a href='vscode-notebook-cell:/c%3A/Users/marco/OneDrive/Documentos/GitHub/prodat17/PoblacionMundial.ipynb#W6sZmlsZQ%3D%3D?line=6'>7</a>\u001b[0m \u001b[39m# Transponemos el DataFrame para que los años sean las columnas y los países sean las filas\u001b[39;00m\n\u001b[0;32m      <a href='vscode-notebook-cell:/c%3A/Users/marco/OneDrive/Documentos/GitHub/prodat17/PoblacionMundial.ipynb#W6sZmlsZQ%3D%3D?line=7'>8</a>\u001b[0m df_interes \u001b[39m=\u001b[39m df_interes\u001b[39m.\u001b[39mset_index(\u001b[39m'\u001b[39m\u001b[39mEntity\u001b[39m\u001b[39m'\u001b[39m)\u001b[39m.\u001b[39mT\n",
      "\u001b[1;31mNameError\u001b[0m: name 'df_poblacion_mundial' is not defined"
     ]
    }
   ],
   "source": [
    "# Seleccionamos los países que queremos analizar\n",
    "paises_interesantes = ['Argentina', 'China', 'Serbia', 'India', 'Mexico', 'Tajikistan']\n",
    "\n",
    "# Filtramos el DataFrame para incluir solo los países de interés\n",
    "df_interes = df_poblacion_mundial[df_poblacion_mundial['Entity'].isin(paises_interesantes)]\n",
    "\n",
    "# Transponemos el DataFrame para que los años sean las columnas y los países sean las filas\n",
    "df_interes = df_interes.set_index('Entity').T\n",
    "\n",
    "# Creamos el gráfico de líneas\n",
    "df_interes.plot(kind='line', figsize=(10, 6))\n",
    "plt.xlabel('Año')\n",
    "plt.ylabel('Población (millones)')\n",
    "plt.title('Población mundial por país')\n",
    "plt.legend(loc='best')\n",
    "plt.show()"
   ]
  },
  {
   "attachments": {},
   "cell_type": "markdown",
   "metadata": {},
   "source": [
    "#### **tk-12** Gráfico de barras con población de los paises en un año determinado "
   ]
  },
  {
   "cell_type": "code",
   "execution_count": null,
   "metadata": {},
   "outputs": [],
   "source": [
    "# Seleccionamos una columna\n",
    "poblacion_1850 = df_poblacion_mundial['1850']\n",
    "\n",
    "# Filtramos los datos\n",
    "valor = 1000000\n",
    "datos_filtrados = df_poblacion_mundial[df_poblacion_mundial['1850'] > valor]\n",
    "\n",
    "\n",
    "import seaborn as sns\n",
    "import matplotlib.pyplot as plt\n",
    "\n",
    "plt.figure(figsize=(14, 6))  # Ajustamos el tamaño del lienzo según nuestras necesidades\n",
    "\n",
    "sns.barplot(x=[]'Entity', y='1850', data=datos_filtrados)\n",
    "plt.xlabel('Países')\n",
    "plt.ylabel('Población')\n",
    "plt.title('Gráfico de barras con datos filtrados')\n",
    "plt.xticks(rotation=90)  # Rotamos las etiquetas del eje x para una mejor legibilidad\n",
    "plt.show()\n",
    "\n"
   ]
  }
 ],
 "metadata": {
  "kernelspec": {
   "display_name": "base",
   "language": "python",
   "name": "python3"
  },
  "language_info": {
   "codemirror_mode": {
    "name": "ipython",
    "version": 3
   },
   "file_extension": ".py",
   "mimetype": "text/x-python",
   "name": "python",
   "nbconvert_exporter": "python",
   "pygments_lexer": "ipython3",
   "version": "3.9.12"
  },
  "orig_nbformat": 4
 },
 "nbformat": 4,
 "nbformat_minor": 2
}
