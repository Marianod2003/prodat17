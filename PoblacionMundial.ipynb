{
  "cells": [
    {
      "attachments": {},
      "cell_type": "markdown",
      "metadata": {
        "id": "eJa84QsWN6OU"
      },
      "source": [
        "#### **tk-01**  Verificar que el archivo exista en la ruta espacificada"
      ]
    },
    {
      "cell_type": "code",
      "execution_count": 3,
      "metadata": {
        "id": "9b9r6_c5N6OX",
        "outputId": "f070201e-b544-4b78-a84a-661667632cab"
      },
      "outputs": [
        {
          "name": "stdout",
          "output_type": "stream",
          "text": [
            "El archivo existe en la ruta especificada.\n"
          ]
        }
      ],
      "source": [
        "import os\n",
        "\n",
        "ruta = \"./poblacion-mundial.csv\"\n",
        "\n",
        "if os.path.exists(ruta):\n",
        "    print(\"El archivo existe en la ruta especificada.\")\n",
        "else:\n",
        "    print(\"El archivo no existe en la ruta especificada.\")"
      ]
    },
    {
      "attachments": {},
      "cell_type": "markdown",
      "metadata": {
        "id": "I_9fhBTjN6Oa"
      },
      "source": [
        "#### **tk-02** Cargar el archivo CSV en el DataFrame e importar librerías necesarias"
      ]
    },
    {
      "cell_type": "code",
      "execution_count": 4,
      "metadata": {
        "id": "s-Agjbz8N6Ob"
      },
      "outputs": [],
      "source": [
        "import pandas as pd\n",
        "import matplotlib.pyplot as plt\n",
        "import seaborn as sns\n",
        "\n",
        "df_poblacion_mundial = pd.read_csv(\"./poblacion-mundial.csv\")"
      ]
    },
    {
      "attachments": {},
      "cell_type": "markdown",
      "metadata": {},
      "source": [
        "#### **tk-03** Mostrar cuantas filas y columnas tiene la tabla"
      ]
    },
    {
      "cell_type": "code",
      "execution_count": 5,
      "metadata": {},
      "outputs": [
        {
          "name": "stdout",
          "output_type": "stream",
          "text": [
            "Número de filas: 197\n",
            "Número de columnas: 220\n"
          ]
        }
      ],
      "source": [
        "# Obtener la cantidad de filas y columnas\n",
        "num_filas = df_poblacion_mundial.shape[0]\n",
        "num_columnas = df_poblacion_mundial.shape[1]\n",
        "\n",
        "# Imprimir el resultado\n",
        "print(\"Número de filas:\", num_filas)\n",
        "print(\"Número de columnas:\", num_columnas)"
      ]
    },
    {
      "attachments": {},
      "cell_type": "markdown",
      "metadata": {},
      "source": [
        "#### **tk-04** Obtener una lista con todos los países que figuran en el DataSet"
      ]
    },
    {
      "cell_type": "code",
      "execution_count": 6,
      "metadata": {},
      "outputs": [
        {
          "name": "stdout",
          "output_type": "stream",
          "text": [
            "Afghanistan\n",
            "Albania\n",
            "Algeria\n",
            "Andorra\n",
            "Angola\n",
            "Antigua and Barbuda\n",
            "Argentina\n",
            "Armenia\n",
            "Australia\n",
            "Austria\n",
            "Azerbaijan\n",
            "Bahamas\n",
            "Bahrain\n",
            "Bangladesh\n",
            "Barbados\n",
            "Belarus\n",
            "Belgium\n",
            "Belize\n",
            "Benin\n",
            "Bhutan\n",
            "Bolivia\n",
            "Bosnia and Herzegovina\n",
            "Botswana\n",
            "Brazil\n",
            "Brunei\n",
            "Bulgaria\n",
            "Burkina Faso\n",
            "Burundi\n",
            "Cambodia\n",
            "Cameroon\n",
            "Canada\n",
            "Cape Verde\n",
            "Central African Republic\n",
            "Chad\n",
            "Chile\n",
            "China\n",
            "Colombia\n",
            "Comoros\n",
            "Congo\n",
            "Costa Rica\n",
            "Cote d'Ivoire\n",
            "Croatia\n",
            "Cuba\n",
            "Cyprus\n",
            "Czechia\n",
            "Democratic Republic of Congo\n",
            "Denmark\n",
            "Djibouti\n",
            "Dominica\n",
            "Dominican Republic\n",
            "Ecuador\n",
            "Egypt\n",
            "El Salvador\n",
            "Equatorial Guinea\n",
            "Eritrea\n",
            "Estonia\n",
            "Eswatini\n",
            "Ethiopia\n",
            "Fiji\n",
            "Finland\n",
            "France\n",
            "Gabon\n",
            "Gambia\n",
            "Georgia\n",
            "Germany\n",
            "Ghana\n",
            "Greece\n",
            "Grenada\n",
            "Guatemala\n",
            "Guinea\n",
            "Guinea-Bissau\n",
            "Guyana\n",
            "Haiti\n",
            "Honduras\n",
            "Hong Kong\n",
            "Hungary\n",
            "Iceland\n",
            "India\n",
            "Indonesia\n",
            "Iran\n",
            "Iraq\n",
            "Ireland\n",
            "Israel\n",
            "Italy\n",
            "Jamaica\n",
            "Japan\n",
            "Jordan\n",
            "Kazakhstan\n",
            "Kenya\n",
            "Kiribati\n",
            "Kuwait\n",
            "Kyrgyzstan\n",
            "Laos\n",
            "Latvia\n",
            "Lebanon\n",
            "Lesotho\n",
            "Liberia\n",
            "Libya\n",
            "Liechtenstein\n",
            "Lithuania\n",
            "Luxembourg\n",
            "Madagascar\n",
            "Malawi\n",
            "Malaysia\n",
            "Maldives\n",
            "Mali\n",
            "Malta\n",
            "Marshall Islands\n",
            "Mauritania\n",
            "Mauritius\n",
            "Mexico\n",
            "Micronesia (country)\n",
            "Moldova\n",
            "Monaco\n",
            "Mongolia\n",
            "Montenegro\n",
            "Morocco\n",
            "Mozambique\n",
            "Myanmar\n",
            "Namibia\n",
            "Nauru\n",
            "Nepal\n",
            "Netherlands\n",
            "New Zealand\n",
            "Nicaragua\n",
            "Niger\n",
            "Nigeria\n",
            "North Korea\n",
            "North Macedonia\n",
            "Norway\n",
            "Oman\n",
            "Pakistan\n",
            "Palau\n",
            "Palestine\n",
            "Panama\n",
            "Papua New Guinea\n",
            "Paraguay\n",
            "Peru\n",
            "Philippines\n",
            "Poland\n",
            "Portugal\n",
            "Qatar\n",
            "Romania\n",
            "Russia\n",
            "Rwanda\n",
            "Saint Kitts and Nevis\n",
            "Saint Lucia\n",
            "Saint Vincent and the Grenadines\n",
            "Samoa\n",
            "San Marino\n",
            "Sao Tome and Principe\n",
            "Saudi Arabia\n",
            "Senegal\n",
            "Serbia\n",
            "Seychelles\n",
            "Sierra Leone\n",
            "Singapore\n",
            "Slovakia\n",
            "Slovenia\n",
            "Solomon Islands\n",
            "Somalia\n",
            "South Africa\n",
            "South Korea\n",
            "South Sudan\n",
            "Spain\n",
            "Sri Lanka\n",
            "Sudan\n",
            "Suriname\n",
            "Sweden\n",
            "Switzerland\n",
            "Syria\n",
            "Taiwan\n",
            "Tajikistan\n",
            "Tanzania\n",
            "Thailand\n",
            "Timor\n",
            "Togo\n",
            "Tonga\n",
            "Trinidad and Tobago\n",
            "Tunisia\n",
            "Turkey\n",
            "Turkmenistan\n",
            "Tuvalu\n",
            "Uganda\n",
            "Ukraine\n",
            "United Arab Emirates\n",
            "United Kingdom\n",
            "United States\n",
            "Uruguay\n",
            "Uzbekistan\n",
            "Vanuatu\n",
            "Vatican\n",
            "Venezuela\n",
            "Vietnam\n",
            "Yemen\n",
            "Zambia\n",
            "Zimbabwe\n"
          ]
        }
      ],
      "source": [
        "\n",
        "data = pd.read_csv(\"poblacion-mundial.csv\")\n",
        "# Obtener una lista de los países únicos\n",
        "lista_paises = data[\"Entity\"].unique()\n",
        "\n",
        "# Imprimir la lista de países\n",
        "for Entity in lista_paises:\n",
        "    print(Entity)"
      ]
    },
    {
      "attachments": {},
      "cell_type": "markdown",
      "metadata": {},
      "source": [
        "#### __tk-05__ Mostrar el nombre de todas las columnas"
      ]
    },
    {
      "cell_type": "code",
      "execution_count": 9,
      "metadata": {},
      "outputs": [
        {
          "data": {
            "text/plain": [
              "Index(['Entity', '1801', '1802', '1803', '1804', '1805', '1806', '1807',\n",
              "       '1808', '1809',\n",
              "       ...\n",
              "       '2010', '2011', '2012', '2013', '2014', '2015', '2016', '2017', '2018',\n",
              "       '2019'],\n",
              "      dtype='object', length=220)"
            ]
          },
          "execution_count": 9,
          "metadata": {},
          "output_type": "execute_result"
        }
      ],
      "source": [
        "df_poblacion_mundial.columns"
      ]
    },
    {
      "attachments": {},
      "cell_type": "markdown",
      "metadata": {},
      "source": [
        " #### **tk-06** Tomar una muestra de 10 países al azar"
      ]
    },
    {
      "cell_type": "code",
      "execution_count": 10,
      "metadata": {},
      "outputs": [
        {
          "data": {
            "text/html": [
              "<div>\n",
              "<style scoped>\n",
              "    .dataframe tbody tr th:only-of-type {\n",
              "        vertical-align: middle;\n",
              "    }\n",
              "\n",
              "    .dataframe tbody tr th {\n",
              "        vertical-align: top;\n",
              "    }\n",
              "\n",
              "    .dataframe thead th {\n",
              "        text-align: right;\n",
              "    }\n",
              "</style>\n",
              "<table border=\"1\" class=\"dataframe\">\n",
              "  <thead>\n",
              "    <tr style=\"text-align: right;\">\n",
              "      <th></th>\n",
              "      <th>Entity</th>\n",
              "      <th>1801</th>\n",
              "      <th>1802</th>\n",
              "      <th>1803</th>\n",
              "      <th>1804</th>\n",
              "      <th>1805</th>\n",
              "      <th>1806</th>\n",
              "      <th>1807</th>\n",
              "      <th>1808</th>\n",
              "      <th>1809</th>\n",
              "      <th>...</th>\n",
              "      <th>2010</th>\n",
              "      <th>2011</th>\n",
              "      <th>2012</th>\n",
              "      <th>2013</th>\n",
              "      <th>2014</th>\n",
              "      <th>2015</th>\n",
              "      <th>2016</th>\n",
              "      <th>2017</th>\n",
              "      <th>2018</th>\n",
              "      <th>2019</th>\n",
              "    </tr>\n",
              "  </thead>\n",
              "  <tbody>\n",
              "    <tr>\n",
              "      <th>137</th>\n",
              "      <td>Peru</td>\n",
              "      <td>1314293</td>\n",
              "      <td>1314436</td>\n",
              "      <td>1314578</td>\n",
              "      <td>1314720</td>\n",
              "      <td>1314863</td>\n",
              "      <td>1315005</td>\n",
              "      <td>1315147</td>\n",
              "      <td>1315290</td>\n",
              "      <td>1315432</td>\n",
              "      <td>...</td>\n",
              "      <td>29028000</td>\n",
              "      <td>29264000</td>\n",
              "      <td>29507000</td>\n",
              "      <td>29774000</td>\n",
              "      <td>30090000</td>\n",
              "      <td>30471000</td>\n",
              "      <td>30926000</td>\n",
              "      <td>31444000</td>\n",
              "      <td>31989000</td>\n",
              "      <td>32510000</td>\n",
              "    </tr>\n",
              "    <tr>\n",
              "      <th>28</th>\n",
              "      <td>Cambodia</td>\n",
              "      <td>2090000</td>\n",
              "      <td>2090000</td>\n",
              "      <td>2090000</td>\n",
              "      <td>2090000</td>\n",
              "      <td>2090000</td>\n",
              "      <td>2090000</td>\n",
              "      <td>2090000</td>\n",
              "      <td>2090000</td>\n",
              "      <td>2090000</td>\n",
              "      <td>...</td>\n",
              "      <td>14312000</td>\n",
              "      <td>14541000</td>\n",
              "      <td>14780000</td>\n",
              "      <td>15026000</td>\n",
              "      <td>15275000</td>\n",
              "      <td>15521000</td>\n",
              "      <td>15766000</td>\n",
              "      <td>16009000</td>\n",
              "      <td>16250000</td>\n",
              "      <td>16487000</td>\n",
              "    </tr>\n",
              "    <tr>\n",
              "      <th>145</th>\n",
              "      <td>Saint Kitts and Nevis</td>\n",
              "      <td>17202</td>\n",
              "      <td>17202</td>\n",
              "      <td>17202</td>\n",
              "      <td>17202</td>\n",
              "      <td>17202</td>\n",
              "      <td>17202</td>\n",
              "      <td>17202</td>\n",
              "      <td>17202</td>\n",
              "      <td>17202</td>\n",
              "      <td>...</td>\n",
              "      <td>49000</td>\n",
              "      <td>49000</td>\n",
              "      <td>50000</td>\n",
              "      <td>50000</td>\n",
              "      <td>51000</td>\n",
              "      <td>51000</td>\n",
              "      <td>52000</td>\n",
              "      <td>52000</td>\n",
              "      <td>52000</td>\n",
              "      <td>53000</td>\n",
              "    </tr>\n",
              "    <tr>\n",
              "      <th>50</th>\n",
              "      <td>Ecuador</td>\n",
              "      <td>500000</td>\n",
              "      <td>500000</td>\n",
              "      <td>500000</td>\n",
              "      <td>500000</td>\n",
              "      <td>500000</td>\n",
              "      <td>500000</td>\n",
              "      <td>500000</td>\n",
              "      <td>500000</td>\n",
              "      <td>500000</td>\n",
              "      <td>...</td>\n",
              "      <td>15011000</td>\n",
              "      <td>15244000</td>\n",
              "      <td>15474000</td>\n",
              "      <td>15707000</td>\n",
              "      <td>15952000</td>\n",
              "      <td>16212000</td>\n",
              "      <td>16491000</td>\n",
              "      <td>16785000</td>\n",
              "      <td>17084000</td>\n",
              "      <td>17374000</td>\n",
              "    </tr>\n",
              "    <tr>\n",
              "      <th>42</th>\n",
              "      <td>Cuba</td>\n",
              "      <td>355456</td>\n",
              "      <td>366184</td>\n",
              "      <td>377235</td>\n",
              "      <td>388620</td>\n",
              "      <td>400349</td>\n",
              "      <td>412432</td>\n",
              "      <td>424879</td>\n",
              "      <td>437702</td>\n",
              "      <td>450911</td>\n",
              "      <td>...</td>\n",
              "      <td>11226000</td>\n",
              "      <td>11237000</td>\n",
              "      <td>11257000</td>\n",
              "      <td>11283000</td>\n",
              "      <td>11307000</td>\n",
              "      <td>11325000</td>\n",
              "      <td>11335000</td>\n",
              "      <td>11339000</td>\n",
              "      <td>11338000</td>\n",
              "      <td>11333000</td>\n",
              "    </tr>\n",
              "    <tr>\n",
              "      <th>190</th>\n",
              "      <td>Vanuatu</td>\n",
              "      <td>27791</td>\n",
              "      <td>27791</td>\n",
              "      <td>27791</td>\n",
              "      <td>27791</td>\n",
              "      <td>27791</td>\n",
              "      <td>27791</td>\n",
              "      <td>27791</td>\n",
              "      <td>27791</td>\n",
              "      <td>27791</td>\n",
              "      <td>...</td>\n",
              "      <td>236000</td>\n",
              "      <td>243000</td>\n",
              "      <td>250000</td>\n",
              "      <td>257000</td>\n",
              "      <td>264000</td>\n",
              "      <td>271000</td>\n",
              "      <td>278000</td>\n",
              "      <td>285000</td>\n",
              "      <td>293000</td>\n",
              "      <td>300000</td>\n",
              "    </tr>\n",
              "    <tr>\n",
              "      <th>89</th>\n",
              "      <td>Kiribati</td>\n",
              "      <td>17876</td>\n",
              "      <td>17876</td>\n",
              "      <td>17876</td>\n",
              "      <td>17876</td>\n",
              "      <td>17876</td>\n",
              "      <td>17876</td>\n",
              "      <td>17876</td>\n",
              "      <td>17876</td>\n",
              "      <td>17876</td>\n",
              "      <td>...</td>\n",
              "      <td>103000</td>\n",
              "      <td>105000</td>\n",
              "      <td>106000</td>\n",
              "      <td>108000</td>\n",
              "      <td>109000</td>\n",
              "      <td>111000</td>\n",
              "      <td>113000</td>\n",
              "      <td>114000</td>\n",
              "      <td>116000</td>\n",
              "      <td>118000</td>\n",
              "    </tr>\n",
              "    <tr>\n",
              "      <th>121</th>\n",
              "      <td>Nepal</td>\n",
              "      <td>3881000</td>\n",
              "      <td>3881000</td>\n",
              "      <td>3881000</td>\n",
              "      <td>3881000</td>\n",
              "      <td>3881000</td>\n",
              "      <td>3881000</td>\n",
              "      <td>3881000</td>\n",
              "      <td>3881000</td>\n",
              "      <td>3881000</td>\n",
              "      <td>...</td>\n",
              "      <td>27013000</td>\n",
              "      <td>27041000</td>\n",
              "      <td>26989000</td>\n",
              "      <td>26917000</td>\n",
              "      <td>26906000</td>\n",
              "      <td>27015000</td>\n",
              "      <td>27263000</td>\n",
              "      <td>27633000</td>\n",
              "      <td>28096000</td>\n",
              "      <td>28609000</td>\n",
              "    </tr>\n",
              "    <tr>\n",
              "      <th>94</th>\n",
              "      <td>Lebanon</td>\n",
              "      <td>332000</td>\n",
              "      <td>332000</td>\n",
              "      <td>332000</td>\n",
              "      <td>332000</td>\n",
              "      <td>332000</td>\n",
              "      <td>332000</td>\n",
              "      <td>332000</td>\n",
              "      <td>332000</td>\n",
              "      <td>332000</td>\n",
              "      <td>...</td>\n",
              "      <td>4953000</td>\n",
              "      <td>5202000</td>\n",
              "      <td>5538000</td>\n",
              "      <td>5913000</td>\n",
              "      <td>6261000</td>\n",
              "      <td>6533000</td>\n",
              "      <td>6714000</td>\n",
              "      <td>6819000</td>\n",
              "      <td>6859000</td>\n",
              "      <td>6856000</td>\n",
              "    </tr>\n",
              "    <tr>\n",
              "      <th>155</th>\n",
              "      <td>Sierra Leone</td>\n",
              "      <td>794264</td>\n",
              "      <td>794264</td>\n",
              "      <td>794264</td>\n",
              "      <td>794264</td>\n",
              "      <td>794264</td>\n",
              "      <td>794264</td>\n",
              "      <td>794264</td>\n",
              "      <td>794264</td>\n",
              "      <td>794264</td>\n",
              "      <td>...</td>\n",
              "      <td>6416000</td>\n",
              "      <td>6563000</td>\n",
              "      <td>6713000</td>\n",
              "      <td>6864000</td>\n",
              "      <td>7017000</td>\n",
              "      <td>7172000</td>\n",
              "      <td>7329000</td>\n",
              "      <td>7488000</td>\n",
              "      <td>7650000</td>\n",
              "      <td>7813000</td>\n",
              "    </tr>\n",
              "  </tbody>\n",
              "</table>\n",
              "<p>10 rows × 220 columns</p>\n",
              "</div>"
            ],
            "text/plain": [
              "                    Entity     1801     1802     1803     1804     1805  \\\n",
              "137                   Peru  1314293  1314436  1314578  1314720  1314863   \n",
              "28                Cambodia  2090000  2090000  2090000  2090000  2090000   \n",
              "145  Saint Kitts and Nevis    17202    17202    17202    17202    17202   \n",
              "50                 Ecuador   500000   500000   500000   500000   500000   \n",
              "42                    Cuba   355456   366184   377235   388620   400349   \n",
              "190                Vanuatu    27791    27791    27791    27791    27791   \n",
              "89                Kiribati    17876    17876    17876    17876    17876   \n",
              "121                  Nepal  3881000  3881000  3881000  3881000  3881000   \n",
              "94                 Lebanon   332000   332000   332000   332000   332000   \n",
              "155           Sierra Leone   794264   794264   794264   794264   794264   \n",
              "\n",
              "        1806     1807     1808     1809  ...      2010      2011      2012  \\\n",
              "137  1315005  1315147  1315290  1315432  ...  29028000  29264000  29507000   \n",
              "28   2090000  2090000  2090000  2090000  ...  14312000  14541000  14780000   \n",
              "145    17202    17202    17202    17202  ...     49000     49000     50000   \n",
              "50    500000   500000   500000   500000  ...  15011000  15244000  15474000   \n",
              "42    412432   424879   437702   450911  ...  11226000  11237000  11257000   \n",
              "190    27791    27791    27791    27791  ...    236000    243000    250000   \n",
              "89     17876    17876    17876    17876  ...    103000    105000    106000   \n",
              "121  3881000  3881000  3881000  3881000  ...  27013000  27041000  26989000   \n",
              "94    332000   332000   332000   332000  ...   4953000   5202000   5538000   \n",
              "155   794264   794264   794264   794264  ...   6416000   6563000   6713000   \n",
              "\n",
              "         2013      2014      2015      2016      2017      2018      2019  \n",
              "137  29774000  30090000  30471000  30926000  31444000  31989000  32510000  \n",
              "28   15026000  15275000  15521000  15766000  16009000  16250000  16487000  \n",
              "145     50000     51000     51000     52000     52000     52000     53000  \n",
              "50   15707000  15952000  16212000  16491000  16785000  17084000  17374000  \n",
              "42   11283000  11307000  11325000  11335000  11339000  11338000  11333000  \n",
              "190    257000    264000    271000    278000    285000    293000    300000  \n",
              "89     108000    109000    111000    113000    114000    116000    118000  \n",
              "121  26917000  26906000  27015000  27263000  27633000  28096000  28609000  \n",
              "94    5913000   6261000   6533000   6714000   6819000   6859000   6856000  \n",
              "155   6864000   7017000   7172000   7329000   7488000   7650000   7813000  \n",
              "\n",
              "[10 rows x 220 columns]"
            ]
          },
          "execution_count": 10,
          "metadata": {},
          "output_type": "execute_result"
        }
      ],
      "source": [
        "df_poblacion_mundial.sample(10)"
      ]
    },
    {
      "attachments": {},
      "cell_type": "markdown",
      "metadata": {},
      "source": [
        "#### __tk-07__ Mostrar los primeros 5 países de la tabla"
      ]
    },
    {
      "cell_type": "code",
      "execution_count": 7,
      "metadata": {},
      "outputs": [
        {
          "name": "stdout",
          "output_type": "stream",
          "text": [
            "        Entity     1801     1802     1803     1804     1805     1806     1807  \\\n",
            "0  Afghanistan  3280000  3280000  3280000  3280000  3280000  3280000  3280000   \n",
            "1      Albania   411734   413026   414323   415624   416929   418237   419550   \n",
            "2      Algeria  2512195  2521203  2530245  2539318  2548424  2557563  2566734   \n",
            "3      Andorra     2654     2654     2654     2654     2654     2654     2654   \n",
            "4       Angola  1567028  1567028  1567028  1567028  1567028  1567028  1567028   \n",
            "\n",
            "      1808     1809  ...      2010      2011      2012      2013      2014  \\\n",
            "0  3280000  3280000  ...  29186000  30117000  31161000  32270000  33371000   \n",
            "1   420868   422189  ...   2948000   2929000   2914000   2904000   2896000   \n",
            "2  2575939  2585176  ...  35977000  36661000  37384000  38140000  38924000   \n",
            "3     2654     2654  ...     84000     84000     82000     81000     79000   \n",
            "4  1567028  1567028  ...  23356000  24221000  25108000  26016000  26942000   \n",
            "\n",
            "       2015      2016      2017      2018      2019  \n",
            "0  34414000  35383000  36296000  37172000  38042000  \n",
            "1   2891000   2886000   2884000   2883000   2881000  \n",
            "2  39728000  40551000  41389000  42228000  43053000  \n",
            "3     78000     77000     77000     77000     77000  \n",
            "4  27884000  28842000  29817000  30810000  31825000  \n",
            "\n",
            "[5 rows x 220 columns]\n"
          ]
        }
      ],
      "source": [
        "# Mostrar los primeros 5 países\n",
        "data = pd.read_csv(\"poblacion-mundial.csv\")\n",
        "primeros_paises = data.head(5)\n",
        "print(primeros_paises)\n"
      ]
    },
    {
      "attachments": {},
      "cell_type": "markdown",
      "metadata": {
        "id": "g6reWdSsOZ3u"
      },
      "source": [
        "#### **tk-08** Información del DataSet"
      ]
    },
    {
      "cell_type": "code",
      "execution_count": 8,
      "metadata": {
        "colab": {
          "base_uri": "https://localhost:8080/"
        },
        "id": "dYMypz63Oele",
        "outputId": "f506ef45-8638-4df6-db78-bcd00bb7e6e4"
      },
      "outputs": [
        {
          "data": {
            "text/plain": [
              "<bound method DataFrame.info of           Entity     1801     1802     1803     1804     1805     1806  \\\n",
              "0    Afghanistan  3280000  3280000  3280000  3280000  3280000  3280000   \n",
              "1        Albania   411734   413026   414323   415624   416929   418237   \n",
              "2        Algeria  2512195  2521203  2530245  2539318  2548424  2557563   \n",
              "3        Andorra     2654     2654     2654     2654     2654     2654   \n",
              "4         Angola  1567028  1567028  1567028  1567028  1567028  1567028   \n",
              "..           ...      ...      ...      ...      ...      ...      ...   \n",
              "192    Venezuela   718000   718000   718000   718000   718000   718000   \n",
              "193      Vietnam  6551000  6551000  6551000  6551000  6551000  6551000   \n",
              "194        Yemen  2593000  2593000  2593000  2593000  2593000  2593000   \n",
              "195       Zambia   747000   747000   747000   747000   747000   747000   \n",
              "196     Zimbabwe  1085814  1085814  1085814  1085814  1085814  1085814   \n",
              "\n",
              "        1807     1808     1809  ...      2010      2011      2012      2013  \\\n",
              "0    3280000  3280000  3280000  ...  29186000  30117000  31161000  32270000   \n",
              "1     419550   420868   422189  ...   2948000   2929000   2914000   2904000   \n",
              "2    2566734  2575939  2585176  ...  35977000  36661000  37384000  38140000   \n",
              "3       2654     2654     2654  ...     84000     84000     82000     81000   \n",
              "4    1567028  1567028  1567028  ...  23356000  24221000  25108000  26016000   \n",
              "..       ...      ...      ...  ...       ...       ...       ...       ...   \n",
              "192   718000   718000   718000  ...  28440000  28888000  29361000  29781000   \n",
              "193  6551000  6551000  6551000  ...  87968000  88871000  89802000  90753000   \n",
              "194  2593000  2593000  2593000  ...  23155000  23808000  24473000  25147000   \n",
              "195   747000   747000   747000  ...  13606000  14023000  14465000  14927000   \n",
              "196  1085814  1085814  1085814  ...  12698000  12894000  13115000  13350000   \n",
              "\n",
              "         2014      2015      2016      2017      2018      2019  \n",
              "0    33371000  34414000  35383000  36296000  37172000  38042000  \n",
              "1     2896000   2891000   2886000   2884000   2883000   2881000  \n",
              "2    38924000  39728000  40551000  41389000  42228000  43053000  \n",
              "3       79000     78000     77000     77000     77000     77000  \n",
              "4    26942000  27884000  28842000  29817000  30810000  31825000  \n",
              "..        ...       ...       ...       ...       ...       ...  \n",
              "192  30043000  30082000  29851000  29402000  28887000  28516000  \n",
              "193  91714000  92677000  93640000  94601000  95546000  96462000  \n",
              "194  25823000  26498000  27168000  27835000  28499000  29162000  \n",
              "195  15400000  15879000  16363000  16854000  17352000  17861000  \n",
              "196  13587000  13815000  14030000  14237000  14439000  14645000  \n",
              "\n",
              "[197 rows x 220 columns]>"
            ]
          },
          "execution_count": 8,
          "metadata": {},
          "output_type": "execute_result"
        }
      ],
      "source": [
        "df_poblacion_mundial.info"
      ]
    },
    {
      "attachments": {},
      "cell_type": "markdown",
      "metadata": {},
      "source": [
        "#### __tk-09__ Obtener resumen de 5 filas del dataframe"
      ]
    },
    {
      "cell_type": "code",
      "execution_count": 12,
      "metadata": {
        "colab": {
          "base_uri": "https://localhost:8080/",
          "height": 299
        },
        "id": "yVUDXdk0RFWt",
        "outputId": "6c2190a5-b836-4606-c12e-8d029a791caf"
      },
      "outputs": [
        {
          "data": {
            "text/html": [
              "<div>\n",
              "<style scoped>\n",
              "    .dataframe tbody tr th:only-of-type {\n",
              "        vertical-align: middle;\n",
              "    }\n",
              "\n",
              "    .dataframe tbody tr th {\n",
              "        vertical-align: top;\n",
              "    }\n",
              "\n",
              "    .dataframe thead th {\n",
              "        text-align: right;\n",
              "    }\n",
              "</style>\n",
              "<table border=\"1\" class=\"dataframe\">\n",
              "  <thead>\n",
              "    <tr style=\"text-align: right;\">\n",
              "      <th></th>\n",
              "      <th>Entity</th>\n",
              "      <th>1801</th>\n",
              "      <th>1802</th>\n",
              "      <th>1803</th>\n",
              "      <th>1804</th>\n",
              "      <th>1805</th>\n",
              "      <th>1806</th>\n",
              "      <th>1807</th>\n",
              "      <th>1808</th>\n",
              "      <th>1809</th>\n",
              "      <th>...</th>\n",
              "      <th>2010</th>\n",
              "      <th>2011</th>\n",
              "      <th>2012</th>\n",
              "      <th>2013</th>\n",
              "      <th>2014</th>\n",
              "      <th>2015</th>\n",
              "      <th>2016</th>\n",
              "      <th>2017</th>\n",
              "      <th>2018</th>\n",
              "      <th>2019</th>\n",
              "    </tr>\n",
              "  </thead>\n",
              "  <tbody>\n",
              "    <tr>\n",
              "      <th>0</th>\n",
              "      <td>Afghanistan</td>\n",
              "      <td>3280000</td>\n",
              "      <td>3280000</td>\n",
              "      <td>3280000</td>\n",
              "      <td>3280000</td>\n",
              "      <td>3280000</td>\n",
              "      <td>3280000</td>\n",
              "      <td>3280000</td>\n",
              "      <td>3280000</td>\n",
              "      <td>3280000</td>\n",
              "      <td>...</td>\n",
              "      <td>29186000</td>\n",
              "      <td>30117000</td>\n",
              "      <td>31161000</td>\n",
              "      <td>32270000</td>\n",
              "      <td>33371000</td>\n",
              "      <td>34414000</td>\n",
              "      <td>35383000</td>\n",
              "      <td>36296000</td>\n",
              "      <td>37172000</td>\n",
              "      <td>38042000</td>\n",
              "    </tr>\n",
              "    <tr>\n",
              "      <th>1</th>\n",
              "      <td>Albania</td>\n",
              "      <td>411734</td>\n",
              "      <td>413026</td>\n",
              "      <td>414323</td>\n",
              "      <td>415624</td>\n",
              "      <td>416929</td>\n",
              "      <td>418237</td>\n",
              "      <td>419550</td>\n",
              "      <td>420868</td>\n",
              "      <td>422189</td>\n",
              "      <td>...</td>\n",
              "      <td>2948000</td>\n",
              "      <td>2929000</td>\n",
              "      <td>2914000</td>\n",
              "      <td>2904000</td>\n",
              "      <td>2896000</td>\n",
              "      <td>2891000</td>\n",
              "      <td>2886000</td>\n",
              "      <td>2884000</td>\n",
              "      <td>2883000</td>\n",
              "      <td>2881000</td>\n",
              "    </tr>\n",
              "    <tr>\n",
              "      <th>2</th>\n",
              "      <td>Algeria</td>\n",
              "      <td>2512195</td>\n",
              "      <td>2521203</td>\n",
              "      <td>2530245</td>\n",
              "      <td>2539318</td>\n",
              "      <td>2548424</td>\n",
              "      <td>2557563</td>\n",
              "      <td>2566734</td>\n",
              "      <td>2575939</td>\n",
              "      <td>2585176</td>\n",
              "      <td>...</td>\n",
              "      <td>35977000</td>\n",
              "      <td>36661000</td>\n",
              "      <td>37384000</td>\n",
              "      <td>38140000</td>\n",
              "      <td>38924000</td>\n",
              "      <td>39728000</td>\n",
              "      <td>40551000</td>\n",
              "      <td>41389000</td>\n",
              "      <td>42228000</td>\n",
              "      <td>43053000</td>\n",
              "    </tr>\n",
              "    <tr>\n",
              "      <th>3</th>\n",
              "      <td>Andorra</td>\n",
              "      <td>2654</td>\n",
              "      <td>2654</td>\n",
              "      <td>2654</td>\n",
              "      <td>2654</td>\n",
              "      <td>2654</td>\n",
              "      <td>2654</td>\n",
              "      <td>2654</td>\n",
              "      <td>2654</td>\n",
              "      <td>2654</td>\n",
              "      <td>...</td>\n",
              "      <td>84000</td>\n",
              "      <td>84000</td>\n",
              "      <td>82000</td>\n",
              "      <td>81000</td>\n",
              "      <td>79000</td>\n",
              "      <td>78000</td>\n",
              "      <td>77000</td>\n",
              "      <td>77000</td>\n",
              "      <td>77000</td>\n",
              "      <td>77000</td>\n",
              "    </tr>\n",
              "    <tr>\n",
              "      <th>4</th>\n",
              "      <td>Angola</td>\n",
              "      <td>1567028</td>\n",
              "      <td>1567028</td>\n",
              "      <td>1567028</td>\n",
              "      <td>1567028</td>\n",
              "      <td>1567028</td>\n",
              "      <td>1567028</td>\n",
              "      <td>1567028</td>\n",
              "      <td>1567028</td>\n",
              "      <td>1567028</td>\n",
              "      <td>...</td>\n",
              "      <td>23356000</td>\n",
              "      <td>24221000</td>\n",
              "      <td>25108000</td>\n",
              "      <td>26016000</td>\n",
              "      <td>26942000</td>\n",
              "      <td>27884000</td>\n",
              "      <td>28842000</td>\n",
              "      <td>29817000</td>\n",
              "      <td>30810000</td>\n",
              "      <td>31825000</td>\n",
              "    </tr>\n",
              "  </tbody>\n",
              "</table>\n",
              "<p>5 rows × 220 columns</p>\n",
              "</div>"
            ],
            "text/plain": [
              "        Entity     1801     1802     1803     1804     1805     1806     1807  \\\n",
              "0  Afghanistan  3280000  3280000  3280000  3280000  3280000  3280000  3280000   \n",
              "1      Albania   411734   413026   414323   415624   416929   418237   419550   \n",
              "2      Algeria  2512195  2521203  2530245  2539318  2548424  2557563  2566734   \n",
              "3      Andorra     2654     2654     2654     2654     2654     2654     2654   \n",
              "4       Angola  1567028  1567028  1567028  1567028  1567028  1567028  1567028   \n",
              "\n",
              "      1808     1809  ...      2010      2011      2012      2013      2014  \\\n",
              "0  3280000  3280000  ...  29186000  30117000  31161000  32270000  33371000   \n",
              "1   420868   422189  ...   2948000   2929000   2914000   2904000   2896000   \n",
              "2  2575939  2585176  ...  35977000  36661000  37384000  38140000  38924000   \n",
              "3     2654     2654  ...     84000     84000     82000     81000     79000   \n",
              "4  1567028  1567028  ...  23356000  24221000  25108000  26016000  26942000   \n",
              "\n",
              "       2015      2016      2017      2018      2019  \n",
              "0  34414000  35383000  36296000  37172000  38042000  \n",
              "1   2891000   2886000   2884000   2883000   2881000  \n",
              "2  39728000  40551000  41389000  42228000  43053000  \n",
              "3     78000     77000     77000     77000     77000  \n",
              "4  27884000  28842000  29817000  30810000  31825000  \n",
              "\n",
              "[5 rows x 220 columns]"
            ]
          },
          "execution_count": 12,
          "metadata": {},
          "output_type": "execute_result"
        }
      ],
      "source": [
        "df_poblacion_mundial.head()"
      ]
    },
    {
      "attachments": {},
      "cell_type": "markdown",
      "metadata": {},
      "source": [
        "#### __tk-10__ Obtener información estadística del dataframe de los años"
      ]
    },
    {
      "cell_type": "code",
      "execution_count": 13,
      "metadata": {
        "colab": {
          "base_uri": "https://localhost:8080/",
          "height": 393
        },
        "id": "vOPmZiZ3Wyta",
        "outputId": "5f22f529-629b-4f2d-8809-c730039e7c11"
      },
      "outputs": [
        {
          "data": {
            "text/html": [
              "<div>\n",
              "<style scoped>\n",
              "    .dataframe tbody tr th:only-of-type {\n",
              "        vertical-align: middle;\n",
              "    }\n",
              "\n",
              "    .dataframe tbody tr th {\n",
              "        vertical-align: top;\n",
              "    }\n",
              "\n",
              "    .dataframe thead th {\n",
              "        text-align: right;\n",
              "    }\n",
              "</style>\n",
              "<table border=\"1\" class=\"dataframe\">\n",
              "  <thead>\n",
              "    <tr style=\"text-align: right;\">\n",
              "      <th></th>\n",
              "      <th>1801</th>\n",
              "      <th>1802</th>\n",
              "      <th>1803</th>\n",
              "      <th>1804</th>\n",
              "      <th>1805</th>\n",
              "      <th>1806</th>\n",
              "      <th>1807</th>\n",
              "      <th>1808</th>\n",
              "      <th>1809</th>\n",
              "      <th>1810</th>\n",
              "      <th>...</th>\n",
              "      <th>2010</th>\n",
              "      <th>2011</th>\n",
              "      <th>2012</th>\n",
              "      <th>2013</th>\n",
              "      <th>2014</th>\n",
              "      <th>2015</th>\n",
              "      <th>2016</th>\n",
              "      <th>2017</th>\n",
              "      <th>2018</th>\n",
              "      <th>2019</th>\n",
              "    </tr>\n",
              "  </thead>\n",
              "  <tbody>\n",
              "    <tr>\n",
              "      <th>count</th>\n",
              "      <td>1.970000e+02</td>\n",
              "      <td>1.970000e+02</td>\n",
              "      <td>1.970000e+02</td>\n",
              "      <td>1.970000e+02</td>\n",
              "      <td>1.970000e+02</td>\n",
              "      <td>1.970000e+02</td>\n",
              "      <td>1.970000e+02</td>\n",
              "      <td>1.970000e+02</td>\n",
              "      <td>1.970000e+02</td>\n",
              "      <td>1.970000e+02</td>\n",
              "      <td>...</td>\n",
              "      <td>1.970000e+02</td>\n",
              "      <td>1.970000e+02</td>\n",
              "      <td>1.970000e+02</td>\n",
              "      <td>1.970000e+02</td>\n",
              "      <td>1.970000e+02</td>\n",
              "      <td>1.970000e+02</td>\n",
              "      <td>1.970000e+02</td>\n",
              "      <td>1.970000e+02</td>\n",
              "      <td>1.970000e+02</td>\n",
              "      <td>1.970000e+02</td>\n",
              "    </tr>\n",
              "    <tr>\n",
              "      <th>mean</th>\n",
              "      <td>4.837408e+06</td>\n",
              "      <td>4.858826e+06</td>\n",
              "      <td>4.880457e+06</td>\n",
              "      <td>4.902266e+06</td>\n",
              "      <td>4.924243e+06</td>\n",
              "      <td>4.946375e+06</td>\n",
              "      <td>4.968646e+06</td>\n",
              "      <td>4.991054e+06</td>\n",
              "      <td>5.013560e+06</td>\n",
              "      <td>5.040095e+06</td>\n",
              "      <td>...</td>\n",
              "      <td>3.527043e+07</td>\n",
              "      <td>3.569857e+07</td>\n",
              "      <td>3.612807e+07</td>\n",
              "      <td>3.655824e+07</td>\n",
              "      <td>3.698820e+07</td>\n",
              "      <td>3.741725e+07</td>\n",
              "      <td>3.784502e+07</td>\n",
              "      <td>3.827091e+07</td>\n",
              "      <td>3.869377e+07</td>\n",
              "      <td>3.911220e+07</td>\n",
              "    </tr>\n",
              "    <tr>\n",
              "      <th>std</th>\n",
              "      <td>2.624999e+07</td>\n",
              "      <td>2.643363e+07</td>\n",
              "      <td>2.661897e+07</td>\n",
              "      <td>2.680602e+07</td>\n",
              "      <td>2.699480e+07</td>\n",
              "      <td>2.718532e+07</td>\n",
              "      <td>2.737761e+07</td>\n",
              "      <td>2.757167e+07</td>\n",
              "      <td>2.776753e+07</td>\n",
              "      <td>2.799480e+07</td>\n",
              "      <td>...</td>\n",
              "      <td>1.353020e+08</td>\n",
              "      <td>1.365382e+08</td>\n",
              "      <td>1.377560e+08</td>\n",
              "      <td>1.389560e+08</td>\n",
              "      <td>1.401392e+08</td>\n",
              "      <td>1.413059e+08</td>\n",
              "      <td>1.424561e+08</td>\n",
              "      <td>1.435872e+08</td>\n",
              "      <td>1.446934e+08</td>\n",
              "      <td>1.457677e+08</td>\n",
              "    </tr>\n",
              "    <tr>\n",
              "      <th>min</th>\n",
              "      <td>9.050000e+02</td>\n",
              "      <td>9.050000e+02</td>\n",
              "      <td>9.050000e+02</td>\n",
              "      <td>9.050000e+02</td>\n",
              "      <td>9.050000e+02</td>\n",
              "      <td>9.050000e+02</td>\n",
              "      <td>9.050000e+02</td>\n",
              "      <td>9.050000e+02</td>\n",
              "      <td>9.050000e+02</td>\n",
              "      <td>9.050000e+02</td>\n",
              "      <td>...</td>\n",
              "      <td>1.000000e+03</td>\n",
              "      <td>1.000000e+03</td>\n",
              "      <td>1.000000e+03</td>\n",
              "      <td>1.000000e+03</td>\n",
              "      <td>1.000000e+03</td>\n",
              "      <td>1.000000e+03</td>\n",
              "      <td>1.000000e+03</td>\n",
              "      <td>1.000000e+03</td>\n",
              "      <td>1.000000e+03</td>\n",
              "      <td>1.000000e+03</td>\n",
              "    </tr>\n",
              "    <tr>\n",
              "      <th>25%</th>\n",
              "      <td>1.032740e+05</td>\n",
              "      <td>1.032740e+05</td>\n",
              "      <td>1.032740e+05</td>\n",
              "      <td>1.032740e+05</td>\n",
              "      <td>1.032740e+05</td>\n",
              "      <td>1.032740e+05</td>\n",
              "      <td>1.032740e+05</td>\n",
              "      <td>1.032740e+05</td>\n",
              "      <td>1.032740e+05</td>\n",
              "      <td>1.032740e+05</td>\n",
              "      <td>...</td>\n",
              "      <td>1.793000e+06</td>\n",
              "      <td>1.848000e+06</td>\n",
              "      <td>1.905000e+06</td>\n",
              "      <td>1.964000e+06</td>\n",
              "      <td>2.021000e+06</td>\n",
              "      <td>1.998000e+06</td>\n",
              "      <td>2.008000e+06</td>\n",
              "      <td>2.065000e+06</td>\n",
              "      <td>2.078000e+06</td>\n",
              "      <td>2.079000e+06</td>\n",
              "    </tr>\n",
              "    <tr>\n",
              "      <th>50%</th>\n",
              "      <td>7.125580e+05</td>\n",
              "      <td>7.125580e+05</td>\n",
              "      <td>7.125580e+05</td>\n",
              "      <td>7.125580e+05</td>\n",
              "      <td>7.125580e+05</td>\n",
              "      <td>7.125580e+05</td>\n",
              "      <td>7.125580e+05</td>\n",
              "      <td>7.125580e+05</td>\n",
              "      <td>7.173200e+05</td>\n",
              "      <td>7.180000e+05</td>\n",
              "      <td>...</td>\n",
              "      <td>7.425000e+06</td>\n",
              "      <td>7.663000e+06</td>\n",
              "      <td>7.875000e+06</td>\n",
              "      <td>8.060000e+06</td>\n",
              "      <td>8.206000e+06</td>\n",
              "      <td>8.297000e+06</td>\n",
              "      <td>8.380000e+06</td>\n",
              "      <td>8.456000e+06</td>\n",
              "      <td>8.606000e+06</td>\n",
              "      <td>8.772000e+06</td>\n",
              "    </tr>\n",
              "    <tr>\n",
              "      <th>75%</th>\n",
              "      <td>2.101397e+06</td>\n",
              "      <td>2.101397e+06</td>\n",
              "      <td>2.101397e+06</td>\n",
              "      <td>2.101397e+06</td>\n",
              "      <td>2.101397e+06</td>\n",
              "      <td>2.101397e+06</td>\n",
              "      <td>2.101397e+06</td>\n",
              "      <td>2.101397e+06</td>\n",
              "      <td>2.101397e+06</td>\n",
              "      <td>2.101397e+06</td>\n",
              "      <td>...</td>\n",
              "      <td>2.335600e+07</td>\n",
              "      <td>2.418800e+07</td>\n",
              "      <td>2.480100e+07</td>\n",
              "      <td>2.514700e+07</td>\n",
              "      <td>2.582300e+07</td>\n",
              "      <td>2.649800e+07</td>\n",
              "      <td>2.716800e+07</td>\n",
              "      <td>2.763300e+07</td>\n",
              "      <td>2.809600e+07</td>\n",
              "      <td>2.851600e+07</td>\n",
              "    </tr>\n",
              "    <tr>\n",
              "      <th>max</th>\n",
              "      <td>3.244089e+08</td>\n",
              "      <td>3.271660e+08</td>\n",
              "      <td>3.299465e+08</td>\n",
              "      <td>3.327506e+08</td>\n",
              "      <td>3.355786e+08</td>\n",
              "      <td>3.384306e+08</td>\n",
              "      <td>3.413068e+08</td>\n",
              "      <td>3.442076e+08</td>\n",
              "      <td>3.471329e+08</td>\n",
              "      <td>3.505429e+08</td>\n",
              "      <td>...</td>\n",
              "      <td>1.368811e+09</td>\n",
              "      <td>1.376498e+09</td>\n",
              "      <td>1.384206e+09</td>\n",
              "      <td>1.391883e+09</td>\n",
              "      <td>1.399454e+09</td>\n",
              "      <td>1.406848e+09</td>\n",
              "      <td>1.414049e+09</td>\n",
              "      <td>1.421022e+09</td>\n",
              "      <td>1.427648e+09</td>\n",
              "      <td>1.433784e+09</td>\n",
              "    </tr>\n",
              "  </tbody>\n",
              "</table>\n",
              "<p>8 rows × 219 columns</p>\n",
              "</div>"
            ],
            "text/plain": [
              "               1801          1802          1803          1804          1805  \\\n",
              "count  1.970000e+02  1.970000e+02  1.970000e+02  1.970000e+02  1.970000e+02   \n",
              "mean   4.837408e+06  4.858826e+06  4.880457e+06  4.902266e+06  4.924243e+06   \n",
              "std    2.624999e+07  2.643363e+07  2.661897e+07  2.680602e+07  2.699480e+07   \n",
              "min    9.050000e+02  9.050000e+02  9.050000e+02  9.050000e+02  9.050000e+02   \n",
              "25%    1.032740e+05  1.032740e+05  1.032740e+05  1.032740e+05  1.032740e+05   \n",
              "50%    7.125580e+05  7.125580e+05  7.125580e+05  7.125580e+05  7.125580e+05   \n",
              "75%    2.101397e+06  2.101397e+06  2.101397e+06  2.101397e+06  2.101397e+06   \n",
              "max    3.244089e+08  3.271660e+08  3.299465e+08  3.327506e+08  3.355786e+08   \n",
              "\n",
              "               1806          1807          1808          1809          1810  \\\n",
              "count  1.970000e+02  1.970000e+02  1.970000e+02  1.970000e+02  1.970000e+02   \n",
              "mean   4.946375e+06  4.968646e+06  4.991054e+06  5.013560e+06  5.040095e+06   \n",
              "std    2.718532e+07  2.737761e+07  2.757167e+07  2.776753e+07  2.799480e+07   \n",
              "min    9.050000e+02  9.050000e+02  9.050000e+02  9.050000e+02  9.050000e+02   \n",
              "25%    1.032740e+05  1.032740e+05  1.032740e+05  1.032740e+05  1.032740e+05   \n",
              "50%    7.125580e+05  7.125580e+05  7.125580e+05  7.173200e+05  7.180000e+05   \n",
              "75%    2.101397e+06  2.101397e+06  2.101397e+06  2.101397e+06  2.101397e+06   \n",
              "max    3.384306e+08  3.413068e+08  3.442076e+08  3.471329e+08  3.505429e+08   \n",
              "\n",
              "       ...          2010          2011          2012          2013  \\\n",
              "count  ...  1.970000e+02  1.970000e+02  1.970000e+02  1.970000e+02   \n",
              "mean   ...  3.527043e+07  3.569857e+07  3.612807e+07  3.655824e+07   \n",
              "std    ...  1.353020e+08  1.365382e+08  1.377560e+08  1.389560e+08   \n",
              "min    ...  1.000000e+03  1.000000e+03  1.000000e+03  1.000000e+03   \n",
              "25%    ...  1.793000e+06  1.848000e+06  1.905000e+06  1.964000e+06   \n",
              "50%    ...  7.425000e+06  7.663000e+06  7.875000e+06  8.060000e+06   \n",
              "75%    ...  2.335600e+07  2.418800e+07  2.480100e+07  2.514700e+07   \n",
              "max    ...  1.368811e+09  1.376498e+09  1.384206e+09  1.391883e+09   \n",
              "\n",
              "               2014          2015          2016          2017          2018  \\\n",
              "count  1.970000e+02  1.970000e+02  1.970000e+02  1.970000e+02  1.970000e+02   \n",
              "mean   3.698820e+07  3.741725e+07  3.784502e+07  3.827091e+07  3.869377e+07   \n",
              "std    1.401392e+08  1.413059e+08  1.424561e+08  1.435872e+08  1.446934e+08   \n",
              "min    1.000000e+03  1.000000e+03  1.000000e+03  1.000000e+03  1.000000e+03   \n",
              "25%    2.021000e+06  1.998000e+06  2.008000e+06  2.065000e+06  2.078000e+06   \n",
              "50%    8.206000e+06  8.297000e+06  8.380000e+06  8.456000e+06  8.606000e+06   \n",
              "75%    2.582300e+07  2.649800e+07  2.716800e+07  2.763300e+07  2.809600e+07   \n",
              "max    1.399454e+09  1.406848e+09  1.414049e+09  1.421022e+09  1.427648e+09   \n",
              "\n",
              "               2019  \n",
              "count  1.970000e+02  \n",
              "mean   3.911220e+07  \n",
              "std    1.457677e+08  \n",
              "min    1.000000e+03  \n",
              "25%    2.079000e+06  \n",
              "50%    8.772000e+06  \n",
              "75%    2.851600e+07  \n",
              "max    1.433784e+09  \n",
              "\n",
              "[8 rows x 219 columns]"
            ]
          },
          "execution_count": 13,
          "metadata": {},
          "output_type": "execute_result"
        }
      ],
      "source": [
        "df_poblacion_mundial.describe()"
      ]
    },
    {
      "attachments": {},
      "cell_type": "markdown",
      "metadata": {
        "id": "nX9zQIqzN6Ob"
      },
      "source": [
        "#### **tk-11** Obtener la población de un país en un año determinado"
      ]
    },
    {
      "cell_type": "code",
      "execution_count": 14,
      "metadata": {
        "colab": {
          "base_uri": "https://localhost:8080/"
        },
        "id": "jQaezzfgN6Ob",
        "outputId": "5914aceb-9026-43ea-83eb-f76e0fa148f1"
      },
      "outputs": [
        {
          "name": "stdout",
          "output_type": "stream",
          "text": [
            "Poblacion de  Rwanda en el año  2019: 12627000\n"
          ]
        }
      ],
      "source": [
        "pais_consulta = 'Rwanda'\n",
        "anio_consulta = '2019'\n",
        "poblacion = df_poblacion_mundial.loc[df_poblacion_mundial['Entity'] == pais_consulta,\n",
        "anio_consulta].values[0]\n",
        "print(\"Poblacion de \", pais_consulta, \"en el año \", anio_consulta + \":\", poblacion)"
      ]
    },
    {
      "attachments": {},
      "cell_type": "markdown",
      "metadata": {
        "id": "gS_gE-_LN6Ob"
      },
      "source": [
        "#### **tk-12** Podemos seleccionar un subconjunto de países de interés para analizar y trazar la población a lo largo de los años utilizando un gráfico de líneas. Aquí podemos comparar las tendencias de población entre diferentes países de forma más clara."
      ]
    },
    {
      "cell_type": "code",
      "execution_count": 15,
      "metadata": {
        "colab": {
          "base_uri": "https://localhost:8080/",
          "height": 565
        },
        "id": "pYF0Kbx2N6Oc",
        "outputId": "0f077a92-39d8-4366-f5ea-97a1b62b47da"
      },
      "outputs": [
        {
          "data": {
            "image/png": "[encoded data removed]",
            "text/plain": [
              "<Figure size 720x432 with 1 Axes>"
            ]
          },
          "metadata": {
            "needs_background": "light"
          },
          "output_type": "display_data"
        }
      ],
      "source": [
        "# Seleccionamos los países que queremos analizar\n",
        "paises_interesantes = ['Argentina', 'China', 'Serbia', 'India', 'Mexico', 'Tajikistan']\n",
        "\n",
        "# Filtramos el DataFrame para incluir solo los países de interés\n",
        "df_interes = df_poblacion_mundial[df_poblacion_mundial['Entity'].isin(paises_interesantes)]\n",
        "\n",
        "# Transponemos el DataFrame para que los años sean las columnas y los países sean las filas\n",
        "df_interes = df_interes.set_index('Entity').T\n",
        "\n",
        "# Creamos el gráfico de líneas\n",
        "df_interes.plot(kind='line', figsize=(10, 6))\n",
        "plt.xlabel('Año')\n",
        "plt.ylabel('Población (millones)')\n",
        "plt.title('Población mundial por país')\n",
        "plt.legend(loc='best')\n",
        "plt.show()"
      ]
    },
    {
      "attachments": {},
      "cell_type": "markdown",
      "metadata": {},
      "source": [
        "#### __tk-13__ Obtener una lista con los 20 países con mayor población en 2019"
      ]
    },
    {
      "cell_type": "code",
      "execution_count": 16,
      "metadata": {},
      "outputs": [
        {
          "name": "stdout",
          "output_type": "stream",
          "text": [
            "                             País   Población\n",
            "35                          China  1433784064\n",
            "77                          India  1366418048\n",
            "187                 United States   329064992\n",
            "78                      Indonesia   270625984\n",
            "131                      Pakistan   216564992\n",
            "23                         Brazil   211050000\n",
            "126                       Nigeria   200964000\n",
            "13                     Bangladesh   163046000\n",
            "143                        Russia   145872000\n",
            "110                        Mexico   127576000\n",
            "85                          Japan   126860000\n",
            "57                       Ethiopia   112079000\n",
            "138                   Philippines   108117000\n",
            "51                          Egypt   100388000\n",
            "193                       Vietnam    96462000\n",
            "45   Democratic Republic of Congo    86791000\n",
            "64                        Germany    83517000\n",
            "180                        Turkey    83430000\n",
            "79                           Iran    82914000\n",
            "174                      Thailand    69626000\n"
          ]
        }
      ],
      "source": [
        "# Año a consultar\n",
        "anio_consulta = 2019\n",
        "\n",
        "# Filtrar los 20 países con mayor población en el año consultado\n",
        "top_20_paises = df_poblacion_mundial[['Entity', str(anio_consulta)]].nlargest(20, str(anio_consulta), keep='first')\n",
        "\n",
        "# Renombrar las columnas\n",
        "top_20_paises.columns = ['País', 'Población']\n",
        "\n",
        "# Imprimir el resultado\n",
        "print(top_20_paises)"
      ]
    },
    {
      "attachments": {},
      "cell_type": "markdown",
      "metadata": {
        "id": "y67CyOP4PLq6"
      },
      "source": [
        "#### **tk-14** Gráfico de barras de la población en 2019 de los 20 Países con mas población de ese año"
      ]
    },
    {
      "cell_type": "code",
      "execution_count": 17,
      "metadata": {
        "colab": {
          "base_uri": "https://localhost:8080/"
        },
        "id": "oUp1X-LCPbl4",
        "outputId": "85a418dc-3f46-4363-e117-1df0b74b26ba"
      },
      "outputs": [
        {
          "data": {
            "image/png": "[encoded data removed]",
            "text/plain": [
              "<Figure size 864x432 with 1 Axes>"
            ]
          },
          "metadata": {},
          "output_type": "display_data"
        }
      ],
      "source": [
        "# Filtrar los 20 países con mayor población en el año consultado\n",
        "top_20_paises = df_poblacion_mundial[['Entity', str(anio_consulta)]].nlargest(20, str(anio_consulta), keep='first')\n",
        "\n",
        "# Configurar el estilo de Seaborn\n",
        "sns.set(style=\"whitegrid\")\n",
        "\n",
        "# Crear el gráfico de barras utilizando Seaborn\n",
        "plt.figure(figsize=(12, 6))\n",
        "ax = sns.barplot(x='Entity', y=str(anio_consulta), data=top_20_paises)\n",
        "\n",
        "# Configurar el título y las etiquetas de los ejes\n",
        "plt.title('Top 20 países con mayor población en {}'.format(anio_consulta))\n",
        "plt.xlabel('Países')\n",
        "plt.ylabel('Población')\n",
        "\n",
        "# Rotar las etiquetas del eje x para una mejor legibilidad\n",
        "ax.set_xticklabels(ax.get_xticklabels(), rotation=45, ha='right')\n",
        "\n",
        "# Mostrar el gráfico de barras\n",
        "plt.tight_layout()\n",
        "plt.show()"
      ]
    },
    {
      "attachments": {},
      "cell_type": "markdown",
      "metadata": {
        "id": "SPV391D7N6Oc"
      },
      "source": [
        "#### **tk-15** Gráfico de barras de la población en 1801 de los 20 Países con mas población de ese año"
      ]
    },
    {
      "cell_type": "code",
      "execution_count": 11,
      "metadata": {
        "colab": {
          "base_uri": "https://localhost:8080/",
          "height": 624
        },
        "id": "Jj3x1yMlN6Oc",
        "outputId": "e0a8fb13-a0cb-4f41-b7b3-9fafb24fd7d5"
      },
      "outputs": [
        {
          "data": {
            "image/png": "[encoded data removed]",
            "text/plain": [
              "<Figure size 1008x432 with 1 Axes>"
            ]
          },
          "metadata": {
            "needs_background": "light"
          },
          "output_type": "display_data"
        }
      ],
      "source": [
        "# Seleccionamos una columna\n",
        "poblacion_1850 = df_poblacion_mundial['1801']\n",
        "\n",
        "# Ordenamos los datos por la columna seleccionada\n",
        "datos_ordenados = df_poblacion_mundial.sort_values('1850', ascending=False)\n",
        "\n",
        "# Tomamos los primeros 20 países\n",
        "datos_filtrados = datos_ordenados.head(20)\n",
        "\n",
        "plt.figure(figsize=(14, 6))  # Ajustamos el tamaño del lienzo según nuestras necesidades\n",
        "\n",
        "sns.barplot(x='Entity', y='1850', data=datos_filtrados)\n",
        "plt.xlabel('Países')\n",
        "plt.ylabel('Población')\n",
        "plt.title('Gráfico de barras con datos filtrados')\n",
        "plt.xticks(rotation=45, ha='right')  # Rotamos las etiquetas del eje x para una mejor legibilidad\n",
        "plt.show()\n",
        "\n",
        "\n"
      ]
    },
    {
      "attachments": {},
      "cell_type": "markdown",
      "metadata": {
        "id": "hMjfrz9EN6Oc"
      },
      "source": [
        "#### **tk-16** Mostrar la población total mundial en un año determinado"
      ]
    },
    {
      "cell_type": "code",
      "execution_count": 19,
      "metadata": {
        "colab": {
          "base_uri": "https://localhost:8080/"
        },
        "id": "gEQZEH31N6Od",
        "outputId": "d49f472b-c259-4976-b692-62d9979b05e7"
      },
      "outputs": [
        {
          "name": "stdout",
          "output_type": "stream",
          "text": [
            "Población mundial en 2001 : 6214563064\n"
          ]
        }
      ],
      "source": [
        "anio_determinado = '2001'  \n",
        "poblacion_determinada = df_poblacion_mundial[anio_determinado].sum()\n",
        "print(\"Población mundial en\", anio_determinado, \":\", poblacion_determinada)"
      ]
    },
    {
      "attachments": {},
      "cell_type": "markdown",
      "metadata": {
        "id": "HsPfyWc_N6Od"
      },
      "source": [
        "#### **tk-17** Mostrar la población mundial total del año mas reciente y comparar con la mas antigua"
      ]
    },
    {
      "cell_type": "code",
      "execution_count": 20,
      "metadata": {
        "colab": {
          "base_uri": "https://localhost:8080/"
        },
        "id": "lD4ythPtN6Od",
        "outputId": "bf12e7e8-d664-4449-c11e-4d1e75a2a64d"
      },
      "outputs": [
        {
          "name": "stdout",
          "output_type": "stream",
          "text": [
            "Población mundial 2019: 7705103080\n",
            "Población mundial 1801: 952969356\n",
            "Diferencia de población entre 1801 y 2019 es de 6752133724\n"
          ]
        }
      ],
      "source": [
        "# Obtener la población mundial total del año más reciente\n",
        "ultimo_anio = df_poblacion_mundial.columns[-1]\n",
        "poblacion_actual = df_poblacion_mundial[ultimo_anio].sum()\n",
        "print(\"Población mundial 2019:\", poblacion_actual)\n",
        "\n",
        "# Obtener la población mundial total del año más antiguo\n",
        "primer_anio = df_poblacion_mundial.columns[1]\n",
        "poblacion_antigua = df_poblacion_mundial[primer_anio].sum()\n",
        "print(\"Población mundial 1801:\", poblacion_antigua)\n",
        "print(\"Diferencia de población entre 1801 y 2019 es de\", poblacion_actual-poblacion_antigua)"
      ]
    },
    {
      "attachments": {},
      "cell_type": "markdown",
      "metadata": {},
      "source": [
        "#### **tk-18** Renombrar columna de paises"
      ]
    },
    {
      "cell_type": "code",
      "execution_count": 24,
      "metadata": {},
      "outputs": [
        {
          "data": {
            "text/html": [
              "<div>\n",
              "<style scoped>\n",
              "    .dataframe tbody tr th:only-of-type {\n",
              "        vertical-align: middle;\n",
              "    }\n",
              "\n",
              "    .dataframe tbody tr th {\n",
              "        vertical-align: top;\n",
              "    }\n",
              "\n",
              "    .dataframe thead th {\n",
              "        text-align: right;\n",
              "    }\n",
              "</style>\n",
              "<table border=\"1\" class=\"dataframe\">\n",
              "  <thead>\n",
              "    <tr style=\"text-align: right;\">\n",
              "      <th></th>\n",
              "      <th>paises</th>\n",
              "      <th>1801</th>\n",
              "      <th>1802</th>\n",
              "      <th>1803</th>\n",
              "      <th>1804</th>\n",
              "      <th>1805</th>\n",
              "      <th>1806</th>\n",
              "      <th>1807</th>\n",
              "      <th>1808</th>\n",
              "      <th>1809</th>\n",
              "      <th>...</th>\n",
              "      <th>2010</th>\n",
              "      <th>2011</th>\n",
              "      <th>2012</th>\n",
              "      <th>2013</th>\n",
              "      <th>2014</th>\n",
              "      <th>2015</th>\n",
              "      <th>2016</th>\n",
              "      <th>2017</th>\n",
              "      <th>2018</th>\n",
              "      <th>2019</th>\n",
              "    </tr>\n",
              "  </thead>\n",
              "  <tbody>\n",
              "    <tr>\n",
              "      <th>171</th>\n",
              "      <td>Taiwan</td>\n",
              "      <td>2000000</td>\n",
              "      <td>2000000</td>\n",
              "      <td>2000000</td>\n",
              "      <td>2000000</td>\n",
              "      <td>2000000</td>\n",
              "      <td>2000000</td>\n",
              "      <td>2000000</td>\n",
              "      <td>2000000</td>\n",
              "      <td>2000000</td>\n",
              "      <td>...</td>\n",
              "      <td>23188000</td>\n",
              "      <td>23269000</td>\n",
              "      <td>23347000</td>\n",
              "      <td>23422000</td>\n",
              "      <td>23492000</td>\n",
              "      <td>23557000</td>\n",
              "      <td>23618000</td>\n",
              "      <td>23675000</td>\n",
              "      <td>23726000</td>\n",
              "      <td>23774000</td>\n",
              "    </tr>\n",
              "    <tr>\n",
              "      <th>186</th>\n",
              "      <td>United Kingdom</td>\n",
              "      <td>12483870</td>\n",
              "      <td>12642258</td>\n",
              "      <td>12802656</td>\n",
              "      <td>12965089</td>\n",
              "      <td>13129582</td>\n",
              "      <td>13296163</td>\n",
              "      <td>13464857</td>\n",
              "      <td>13635691</td>\n",
              "      <td>13808693</td>\n",
              "      <td>...</td>\n",
              "      <td>63460000</td>\n",
              "      <td>64022000</td>\n",
              "      <td>64525000</td>\n",
              "      <td>64984000</td>\n",
              "      <td>65423000</td>\n",
              "      <td>65860000</td>\n",
              "      <td>66298000</td>\n",
              "      <td>66727000</td>\n",
              "      <td>67142000</td>\n",
              "      <td>67530000</td>\n",
              "    </tr>\n",
              "    <tr>\n",
              "      <th>68</th>\n",
              "      <td>Guatemala</td>\n",
              "      <td>464961</td>\n",
              "      <td>471035</td>\n",
              "      <td>477189</td>\n",
              "      <td>483423</td>\n",
              "      <td>489738</td>\n",
              "      <td>496136</td>\n",
              "      <td>502618</td>\n",
              "      <td>509184</td>\n",
              "      <td>515836</td>\n",
              "      <td>...</td>\n",
              "      <td>14630000</td>\n",
              "      <td>14949000</td>\n",
              "      <td>15271000</td>\n",
              "      <td>15596000</td>\n",
              "      <td>15923000</td>\n",
              "      <td>16252000</td>\n",
              "      <td>16583000</td>\n",
              "      <td>16915000</td>\n",
              "      <td>17248000</td>\n",
              "      <td>17581000</td>\n",
              "    </tr>\n",
              "    <tr>\n",
              "      <th>195</th>\n",
              "      <td>Zambia</td>\n",
              "      <td>747000</td>\n",
              "      <td>747000</td>\n",
              "      <td>747000</td>\n",
              "      <td>747000</td>\n",
              "      <td>747000</td>\n",
              "      <td>747000</td>\n",
              "      <td>747000</td>\n",
              "      <td>747000</td>\n",
              "      <td>747000</td>\n",
              "      <td>...</td>\n",
              "      <td>13606000</td>\n",
              "      <td>14023000</td>\n",
              "      <td>14465000</td>\n",
              "      <td>14927000</td>\n",
              "      <td>15400000</td>\n",
              "      <td>15879000</td>\n",
              "      <td>16363000</td>\n",
              "      <td>16854000</td>\n",
              "      <td>17352000</td>\n",
              "      <td>17861000</td>\n",
              "    </tr>\n",
              "    <tr>\n",
              "      <th>196</th>\n",
              "      <td>Zimbabwe</td>\n",
              "      <td>1085814</td>\n",
              "      <td>1085814</td>\n",
              "      <td>1085814</td>\n",
              "      <td>1085814</td>\n",
              "      <td>1085814</td>\n",
              "      <td>1085814</td>\n",
              "      <td>1085814</td>\n",
              "      <td>1085814</td>\n",
              "      <td>1085814</td>\n",
              "      <td>...</td>\n",
              "      <td>12698000</td>\n",
              "      <td>12894000</td>\n",
              "      <td>13115000</td>\n",
              "      <td>13350000</td>\n",
              "      <td>13587000</td>\n",
              "      <td>13815000</td>\n",
              "      <td>14030000</td>\n",
              "      <td>14237000</td>\n",
              "      <td>14439000</td>\n",
              "      <td>14645000</td>\n",
              "    </tr>\n",
              "  </tbody>\n",
              "</table>\n",
              "<p>5 rows × 220 columns</p>\n",
              "</div>"
            ],
            "text/plain": [
              "             paises      1801      1802      1803      1804      1805  \\\n",
              "171          Taiwan   2000000   2000000   2000000   2000000   2000000   \n",
              "186  United Kingdom  12483870  12642258  12802656  12965089  13129582   \n",
              "68        Guatemala    464961    471035    477189    483423    489738   \n",
              "195          Zambia    747000    747000    747000    747000    747000   \n",
              "196        Zimbabwe   1085814   1085814   1085814   1085814   1085814   \n",
              "\n",
              "         1806      1807      1808      1809  ...      2010      2011  \\\n",
              "171   2000000   2000000   2000000   2000000  ...  23188000  23269000   \n",
              "186  13296163  13464857  13635691  13808693  ...  63460000  64022000   \n",
              "68     496136    502618    509184    515836  ...  14630000  14949000   \n",
              "195    747000    747000    747000    747000  ...  13606000  14023000   \n",
              "196   1085814   1085814   1085814   1085814  ...  12698000  12894000   \n",
              "\n",
              "         2012      2013      2014      2015      2016      2017      2018  \\\n",
              "171  23347000  23422000  23492000  23557000  23618000  23675000  23726000   \n",
              "186  64525000  64984000  65423000  65860000  66298000  66727000  67142000   \n",
              "68   15271000  15596000  15923000  16252000  16583000  16915000  17248000   \n",
              "195  14465000  14927000  15400000  15879000  16363000  16854000  17352000   \n",
              "196  13115000  13350000  13587000  13815000  14030000  14237000  14439000   \n",
              "\n",
              "         2019  \n",
              "171  23774000  \n",
              "186  67530000  \n",
              "68   17581000  \n",
              "195  17861000  \n",
              "196  14645000  \n",
              "\n",
              "[5 rows x 220 columns]"
            ]
          },
          "execution_count": 24,
          "metadata": {},
          "output_type": "execute_result"
        }
      ],
      "source": [
        "df_poblacion_mundial.columns\n",
        "columnas = {'Entity': 'paises'}\n",
        "df_poblacion_mundial = df_poblacion_mundial.rename(columns=columnas)\n",
        "df_poblacion_mundial.sample(5)"
      ]
    },
    {
      "attachments": {},
      "cell_type": "markdown",
      "metadata": {},
      "source": [
        "#### **tk-19** Crear función que cambie nombre del país por un código de tres letras"
      ]
    },
    {
      "cell_type": "code",
      "execution_count": 28,
      "metadata": {},
      "outputs": [
        {
          "ename": "ModuleNotFoundError",
          "evalue": "No module named 'pycountry'",
          "output_type": "error",
          "traceback": [
            "\u001b[1;31m---------------------------------------------------------------------------\u001b[0m",
            "\u001b[1;31mModuleNotFoundError\u001b[0m                       Traceback (most recent call last)",
            "\u001b[1;32mc:\\Users\\marco\\OneDrive\\Documentos\\GitHub\\prodat17\\PoblacionMundial.ipynb Celda 38\u001b[0m in \u001b[0;36m<cell line: 2>\u001b[1;34m()\u001b[0m\n\u001b[0;32m      <a href='vscode-notebook-cell:/c%3A/Users/marco/OneDrive/Documentos/GitHub/prodat17/PoblacionMundial.ipynb#X43sZmlsZQ%3D%3D?line=0'>1</a>\u001b[0m \u001b[39m# Importar pycountry\u001b[39;00m\n\u001b[1;32m----> <a href='vscode-notebook-cell:/c%3A/Users/marco/OneDrive/Documentos/GitHub/prodat17/PoblacionMundial.ipynb#X43sZmlsZQ%3D%3D?line=1'>2</a>\u001b[0m \u001b[39mimport\u001b[39;00m \u001b[39mpycountry\u001b[39;00m\n\u001b[0;32m      <a href='vscode-notebook-cell:/c%3A/Users/marco/OneDrive/Documentos/GitHub/prodat17/PoblacionMundial.ipynb#X43sZmlsZQ%3D%3D?line=3'>4</a>\u001b[0m \u001b[39m# Crear función que cambie el nombre completo del país por un código de tres letras (alpha_3)\u001b[39;00m\n\u001b[0;32m      <a href='vscode-notebook-cell:/c%3A/Users/marco/OneDrive/Documentos/GitHub/prodat17/PoblacionMundial.ipynb#X43sZmlsZQ%3D%3D?line=5'>6</a>\u001b[0m \u001b[39mdef\u001b[39;00m \u001b[39mget_alpha_3\u001b[39m(location):\n",
            "\u001b[1;31mModuleNotFoundError\u001b[0m: No module named 'pycountry'"
          ]
        }
      ],
      "source": [
        "# Importar pycountry\n",
        "import pycountry\n",
        "\n",
        "# Crear función que cambie el nombre completo del país por un código de tres letras (alpha_3)\n",
        "\n",
        "def get_alpha_3(location):\n",
        "  try:\n",
        "    return pycountry.countries.get(name=location).alpha_3\n",
        "  except:\n",
        "    return None"
      ]
    },
    {
      "attachments": {},
      "cell_type": "markdown",
      "metadata": {},
      "source": [
        "#### **tk-20** Crear la columna del dataframe donde estarán los códigos del país"
      ]
    },
    {
      "cell_type": "code",
      "execution_count": 26,
      "metadata": {},
      "outputs": [
        {
          "ename": "NameError",
          "evalue": "name 'get_alpha_3' is not defined",
          "output_type": "error",
          "traceback": [
            "\u001b[1;31m---------------------------------------------------------------------------\u001b[0m",
            "\u001b[1;31mNameError\u001b[0m                                 Traceback (most recent call last)",
            "\u001b[1;32mc:\\Users\\marco\\OneDrive\\Documentos\\GitHub\\prodat17\\PoblacionMundial.ipynb Celda 40\u001b[0m in \u001b[0;36m<cell line: 1>\u001b[1;34m()\u001b[0m\n\u001b[1;32m----> <a href='vscode-notebook-cell:/c%3A/Users/marco/OneDrive/Documentos/GitHub/prodat17/PoblacionMundial.ipynb#X45sZmlsZQ%3D%3D?line=0'>1</a>\u001b[0m df_poblacion_mundial[\u001b[39m'\u001b[39m\u001b[39mCode\u001b[39m\u001b[39m'\u001b[39m] \u001b[39m=\u001b[39m df_poblacion_mundial[\u001b[39m'\u001b[39;49m\u001b[39mpaises\u001b[39;49m\u001b[39m'\u001b[39;49m]\u001b[39m.\u001b[39;49mapply(\u001b[39mlambda\u001b[39;49;00m x:get_alpha_3(x))\n\u001b[0;32m      <a href='vscode-notebook-cell:/c%3A/Users/marco/OneDrive/Documentos/GitHub/prodat17/PoblacionMundial.ipynb#X45sZmlsZQ%3D%3D?line=1'>2</a>\u001b[0m \u001b[39mprint\u001b[39m(df_poblacion_mundial\u001b[39m.\u001b[39mhead(\u001b[39m5\u001b[39m))\n",
            "File \u001b[1;32mc:\\ProgramData\\Anaconda3\\lib\\site-packages\\pandas\\core\\series.py:4433\u001b[0m, in \u001b[0;36mSeries.apply\u001b[1;34m(self, func, convert_dtype, args, **kwargs)\u001b[0m\n\u001b[0;32m   4323\u001b[0m \u001b[39mdef\u001b[39;00m \u001b[39mapply\u001b[39m(\n\u001b[0;32m   4324\u001b[0m     \u001b[39mself\u001b[39m,\n\u001b[0;32m   4325\u001b[0m     func: AggFuncType,\n\u001b[1;32m   (...)\u001b[0m\n\u001b[0;32m   4328\u001b[0m     \u001b[39m*\u001b[39m\u001b[39m*\u001b[39mkwargs,\n\u001b[0;32m   4329\u001b[0m ) \u001b[39m-\u001b[39m\u001b[39m>\u001b[39m DataFrame \u001b[39m|\u001b[39m Series:\n\u001b[0;32m   4330\u001b[0m     \u001b[39m\"\"\"\u001b[39;00m\n\u001b[0;32m   4331\u001b[0m \u001b[39m    Invoke function on values of Series.\u001b[39;00m\n\u001b[0;32m   4332\u001b[0m \n\u001b[1;32m   (...)\u001b[0m\n\u001b[0;32m   4431\u001b[0m \u001b[39m    dtype: float64\u001b[39;00m\n\u001b[0;32m   4432\u001b[0m \u001b[39m    \"\"\"\u001b[39;00m\n\u001b[1;32m-> 4433\u001b[0m     \u001b[39mreturn\u001b[39;00m SeriesApply(\u001b[39mself\u001b[39;49m, func, convert_dtype, args, kwargs)\u001b[39m.\u001b[39;49mapply()\n",
            "File \u001b[1;32mc:\\ProgramData\\Anaconda3\\lib\\site-packages\\pandas\\core\\apply.py:1082\u001b[0m, in \u001b[0;36mSeriesApply.apply\u001b[1;34m(self)\u001b[0m\n\u001b[0;32m   1078\u001b[0m \u001b[39mif\u001b[39;00m \u001b[39misinstance\u001b[39m(\u001b[39mself\u001b[39m\u001b[39m.\u001b[39mf, \u001b[39mstr\u001b[39m):\n\u001b[0;32m   1079\u001b[0m     \u001b[39m# if we are a string, try to dispatch\u001b[39;00m\n\u001b[0;32m   1080\u001b[0m     \u001b[39mreturn\u001b[39;00m \u001b[39mself\u001b[39m\u001b[39m.\u001b[39mapply_str()\n\u001b[1;32m-> 1082\u001b[0m \u001b[39mreturn\u001b[39;00m \u001b[39mself\u001b[39;49m\u001b[39m.\u001b[39;49mapply_standard()\n",
            "File \u001b[1;32mc:\\ProgramData\\Anaconda3\\lib\\site-packages\\pandas\\core\\apply.py:1137\u001b[0m, in \u001b[0;36mSeriesApply.apply_standard\u001b[1;34m(self)\u001b[0m\n\u001b[0;32m   1131\u001b[0m         values \u001b[39m=\u001b[39m obj\u001b[39m.\u001b[39mastype(\u001b[39mobject\u001b[39m)\u001b[39m.\u001b[39m_values\n\u001b[0;32m   1132\u001b[0m         \u001b[39m# error: Argument 2 to \"map_infer\" has incompatible type\u001b[39;00m\n\u001b[0;32m   1133\u001b[0m         \u001b[39m# \"Union[Callable[..., Any], str, List[Union[Callable[..., Any], str]],\u001b[39;00m\n\u001b[0;32m   1134\u001b[0m         \u001b[39m# Dict[Hashable, Union[Union[Callable[..., Any], str],\u001b[39;00m\n\u001b[0;32m   1135\u001b[0m         \u001b[39m# List[Union[Callable[..., Any], str]]]]]\"; expected\u001b[39;00m\n\u001b[0;32m   1136\u001b[0m         \u001b[39m# \"Callable[[Any], Any]\"\u001b[39;00m\n\u001b[1;32m-> 1137\u001b[0m         mapped \u001b[39m=\u001b[39m lib\u001b[39m.\u001b[39;49mmap_infer(\n\u001b[0;32m   1138\u001b[0m             values,\n\u001b[0;32m   1139\u001b[0m             f,  \u001b[39m# type: ignore[arg-type]\u001b[39;49;00m\n\u001b[0;32m   1140\u001b[0m             convert\u001b[39m=\u001b[39;49m\u001b[39mself\u001b[39;49m\u001b[39m.\u001b[39;49mconvert_dtype,\n\u001b[0;32m   1141\u001b[0m         )\n\u001b[0;32m   1143\u001b[0m \u001b[39mif\u001b[39;00m \u001b[39mlen\u001b[39m(mapped) \u001b[39mand\u001b[39;00m \u001b[39misinstance\u001b[39m(mapped[\u001b[39m0\u001b[39m], ABCSeries):\n\u001b[0;32m   1144\u001b[0m     \u001b[39m# GH#43986 Need to do list(mapped) in order to get treated as nested\u001b[39;00m\n\u001b[0;32m   1145\u001b[0m     \u001b[39m#  See also GH#25959 regarding EA support\u001b[39;00m\n\u001b[0;32m   1146\u001b[0m     \u001b[39mreturn\u001b[39;00m obj\u001b[39m.\u001b[39m_constructor_expanddim(\u001b[39mlist\u001b[39m(mapped), index\u001b[39m=\u001b[39mobj\u001b[39m.\u001b[39mindex)\n",
            "File \u001b[1;32mc:\\ProgramData\\Anaconda3\\lib\\site-packages\\pandas\\_libs\\lib.pyx:2870\u001b[0m, in \u001b[0;36mpandas._libs.lib.map_infer\u001b[1;34m()\u001b[0m\n",
            "\u001b[1;32mc:\\Users\\marco\\OneDrive\\Documentos\\GitHub\\prodat17\\PoblacionMundial.ipynb Celda 40\u001b[0m in \u001b[0;36m<lambda>\u001b[1;34m(x)\u001b[0m\n\u001b[1;32m----> <a href='vscode-notebook-cell:/c%3A/Users/marco/OneDrive/Documentos/GitHub/prodat17/PoblacionMundial.ipynb#X45sZmlsZQ%3D%3D?line=0'>1</a>\u001b[0m df_poblacion_mundial[\u001b[39m'\u001b[39m\u001b[39mCode\u001b[39m\u001b[39m'\u001b[39m] \u001b[39m=\u001b[39m df_poblacion_mundial[\u001b[39m'\u001b[39m\u001b[39mpaises\u001b[39m\u001b[39m'\u001b[39m]\u001b[39m.\u001b[39mapply(\u001b[39mlambda\u001b[39;00m x:get_alpha_3(x))\n\u001b[0;32m      <a href='vscode-notebook-cell:/c%3A/Users/marco/OneDrive/Documentos/GitHub/prodat17/PoblacionMundial.ipynb#X45sZmlsZQ%3D%3D?line=1'>2</a>\u001b[0m \u001b[39mprint\u001b[39m(df_poblacion_mundial\u001b[39m.\u001b[39mhead(\u001b[39m5\u001b[39m))\n",
            "\u001b[1;31mNameError\u001b[0m: name 'get_alpha_3' is not defined"
          ]
        }
      ],
      "source": [
        "df_poblacion_mundial['Code'] = df_poblacion_mundial['paises'].apply(lambda x:get_alpha_3(x))\n",
        "print(df_poblacion_mundial.head(5))"
      ]
    },
    {
      "attachments": {},
      "cell_type": "markdown",
      "metadata": {},
      "source": [
        "#### **tk-21** Gráfica tipo mapa de los datos de población de 1801"
      ]
    },
    {
      "cell_type": "code",
      "execution_count": 19,
      "metadata": {},
      "outputs": [
        {
          "data": {
            "application/vnd.plotly.v1+json": {
              "config": {
                "plotlyServerURL": "https://plot.ly"
              },
              "data": [
                {
                  "coloraxis": "coloraxis",
                  "geo": "geo",
                  "hovertemplate": "<b>%{hovertext}</b><br><br>Code=%{location}<br>1801=%{z}<extra></extra>",
                  "hovertext": [
                    "Afghanistan",
                    "Albania",
                    "Algeria",
                    "Andorra",
                    "Angola",
                    "Antigua and Barbuda",
                    "Argentina",
                    "Armenia",
                    "Australia",
                    "Austria",
                    "Azerbaijan",
                    "Bahamas",
                    "Bahrain",
                    "Bangladesh",
                    "Barbados",
                    "Belarus",
                    "Belgium",
                    "Belize",
                    "Benin",
                    "Bhutan",
                    "Bolivia",
                    "Bosnia and Herzegovina",
                    "Botswana",
                    "Brazil",
                    "Brunei",
                    "Bulgaria",
                    "Burkina Faso",
                    "Burundi",
                    "Cambodia",
                    "Cameroon",
                    "Canada",
                    "Cape Verde",
                    "Central African Republic",
                    "Chad",
                    "Chile",
                    "China",
                    "Colombia",
                    "Comoros",
                    "Congo",
                    "Costa Rica",
                    "Cote d'Ivoire",
                    "Croatia",
                    "Cuba",
                    "Cyprus",
                    "Czechia",
                    "Democratic Republic of Congo",
                    "Denmark",
                    "Djibouti",
                    "Dominica",
                    "Dominican Republic",
                    "Ecuador",
                    "Egypt",
                    "El Salvador",
                    "Equatorial Guinea",
                    "Eritrea",
                    "Estonia",
                    "Eswatini",
                    "Ethiopia",
                    "Fiji",
                    "Finland",
                    "France",
                    "Gabon",
                    "Gambia",
                    "Georgia",
                    "Germany",
                    "Ghana",
                    "Greece",
                    "Grenada",
                    "Guatemala",
                    "Guinea",
                    "Guinea-Bissau",
                    "Guyana",
                    "Haiti",
                    "Honduras",
                    "Hong Kong",
                    "Hungary",
                    "Iceland",
                    "India",
                    "Indonesia",
                    "Iran",
                    "Iraq",
                    "Ireland",
                    "Israel",
                    "Italy",
                    "Jamaica",
                    "Japan",
                    "Jordan",
                    "Kazakhstan",
                    "Kenya",
                    "Kiribati",
                    "Kuwait",
                    "Kyrgyzstan",
                    "Laos",
                    "Latvia",
                    "Lebanon",
                    "Lesotho",
                    "Liberia",
                    "Libya",
                    "Liechtenstein",
                    "Lithuania",
                    "Luxembourg",
                    "Madagascar",
                    "Malawi",
                    "Malaysia",
                    "Maldives",
                    "Mali",
                    "Malta",
                    "Marshall Islands",
                    "Mauritania",
                    "Mauritius",
                    "Mexico",
                    "Micronesia (country)",
                    "Moldova",
                    "Monaco",
                    "Mongolia",
                    "Montenegro",
                    "Morocco",
                    "Mozambique",
                    "Myanmar",
                    "Namibia",
                    "Nauru",
                    "Nepal",
                    "Netherlands",
                    "New Zealand",
                    "Nicaragua",
                    "Niger",
                    "Nigeria",
                    "North Korea",
                    "North Macedonia",
                    "Norway",
                    "Oman",
                    "Pakistan",
                    "Palau",
                    "Palestine",
                    "Panama",
                    "Papua New Guinea",
                    "Paraguay",
                    "Peru",
                    "Philippines",
                    "Poland",
                    "Portugal",
                    "Qatar",
                    "Romania",
                    "Russia",
                    "Rwanda",
                    "Saint Kitts and Nevis",
                    "Saint Lucia",
                    "Saint Vincent and the Grenadines",
                    "Samoa",
                    "San Marino",
                    "Sao Tome and Principe",
                    "Saudi Arabia",
                    "Senegal",
                    "Serbia",
                    "Seychelles",
                    "Sierra Leone",
                    "Singapore",
                    "Slovakia",
                    "Slovenia",
                    "Solomon Islands",
                    "Somalia",
                    "South Africa",
                    "South Korea",
                    "South Sudan",
                    "Spain",
                    "Sri Lanka",
                    "Sudan",
                    "Suriname",
                    "Sweden",
                    "Switzerland",
                    "Syria",
                    "Taiwan",
                    "Tajikistan",
                    "Tanzania",
                    "Thailand",
                    "Timor",
                    "Togo",
                    "Tonga",
                    "Trinidad and Tobago",
                    "Tunisia",
                    "Turkey",
                    "Turkmenistan",
                    "Tuvalu",
                    "Uganda",
                    "Ukraine",
                    "United Arab Emirates",
                    "United Kingdom",
                    "United States",
                    "Uruguay",
                    "Uzbekistan",
                    "Vanuatu",
                    "Vatican",
                    "Venezuela",
                    "Vietnam",
                    "Yemen",
                    "Zambia",
                    "Zimbabwe"
                  ],
                  "locations": [
                    "AFG",
                    "ALB",
                    "DZA",
                    "AND",
                    "AGO",
                    "ATG",
                    "ARG",
                    "ARM",
                    "AUS",
                    "AUT",
                    "AZE",
                    "BHS",
                    "BHR",
                    "BGD",
                    "BRB",
                    "BLR",
                    "BEL",
                    "BLZ",
                    "BEN",
                    "BTN",
                    null,
                    "BIH",
                    "BWA",
                    "BRA",
                    null,
                    "BGR",
                    "BFA",
                    "BDI",
                    "KHM",
                    "CMR",
                    "CAN",
                    null,
                    "CAF",
                    "TCD",
                    "CHL",
                    "CHN",
                    "COL",
                    "COM",
                    "COG",
                    "CRI",
                    null,
                    "HRV",
                    "CUB",
                    "CYP",
                    "CZE",
                    null,
                    "DNK",
                    "DJI",
                    "DMA",
                    "DOM",
                    "ECU",
                    "EGY",
                    "SLV",
                    "GNQ",
                    "ERI",
                    "EST",
                    "SWZ",
                    "ETH",
                    "FJI",
                    "FIN",
                    "FRA",
                    "GAB",
                    "GMB",
                    "GEO",
                    "DEU",
                    "GHA",
                    "GRC",
                    "GRD",
                    "GTM",
                    "GIN",
                    "GNB",
                    "GUY",
                    "HTI",
                    "HND",
                    "HKG",
                    "HUN",
                    "ISL",
                    "IND",
                    "IDN",
                    null,
                    "IRQ",
                    "IRL",
                    "ISR",
                    "ITA",
                    "JAM",
                    "JPN",
                    "JOR",
                    "KAZ",
                    "KEN",
                    "KIR",
                    "KWT",
                    "KGZ",
                    null,
                    "LVA",
                    "LBN",
                    "LSO",
                    "LBR",
                    "LBY",
                    "LIE",
                    "LTU",
                    "LUX",
                    "MDG",
                    "MWI",
                    "MYS",
                    "MDV",
                    "MLI",
                    "MLT",
                    "MHL",
                    "MRT",
                    "MUS",
                    "MEX",
                    null,
                    null,
                    "MCO",
                    "MNG",
                    "MNE",
                    "MAR",
                    "MOZ",
                    "MMR",
                    "NAM",
                    "NRU",
                    "NPL",
                    "NLD",
                    "NZL",
                    "NIC",
                    "NER",
                    "NGA",
                    null,
                    "MKD",
                    "NOR",
                    "OMN",
                    "PAK",
                    "PLW",
                    null,
                    "PAN",
                    "PNG",
                    "PRY",
                    "PER",
                    "PHL",
                    "POL",
                    "PRT",
                    "QAT",
                    "ROU",
                    null,
                    "RWA",
                    "KNA",
                    "LCA",
                    "VCT",
                    "WSM",
                    "SMR",
                    "STP",
                    "SAU",
                    "SEN",
                    "SRB",
                    "SYC",
                    "SLE",
                    "SGP",
                    "SVK",
                    "SVN",
                    "SLB",
                    "SOM",
                    "ZAF",
                    null,
                    "SSD",
                    "ESP",
                    "LKA",
                    "SDN",
                    "SUR",
                    "SWE",
                    "CHE",
                    null,
                    null,
                    "TJK",
                    null,
                    "THA",
                    null,
                    "TGO",
                    "TON",
                    "TTO",
                    "TUN",
                    "TUR",
                    "TKM",
                    "TUV",
                    "UGA",
                    "UKR",
                    "ARE",
                    "GBR",
                    "USA",
                    "URY",
                    "UZB",
                    "VUT",
                    null,
                    null,
                    null,
                    "YEM",
                    "ZMB",
                    "ZWE"
                  ],
                  "name": "",
                  "type": "choropleth",
                  "z": [
                    3280000,
                    411734,
                    2512195,
                    2654,
                    1567028,
                    37000,
                    534000,
                    413326,
                    350143,
                    3213566,
                    879960,
                    27350,
                    64474,
                    19265272,
                    81729,
                    2355081,
                    3152306,
                    25526,
                    636559,
                    89989,
                    1100000,
                    851806,
                    121000,
                    3678743,
                    2128,
                    2001629,
                    1665421,
                    899097,
                    2090000,
                    1860054,
                    653134,
                    55716,
                    479444,
                    1432000,
                    771447,
                    324408864,
                    1206000,
                    56346,
                    314465,
                    53000,
                    1088530,
                    1227886,
                    355456,
                    184412,
                    5516349,
                    5163819,
                    1066957,
                    22848,
                    19950,
                    89000,
                    500000,
                    4241025,
                    248000,
                    80377,
                    205010,
                    334136,
                    86000,
                    2948990,
                    130746,
                    986439,
                    29447068,
                    158227,
                    103274,
                    1072178,
                    22983824,
                    2016034,
                    2158925,
                    29409,
                    464961,
                    983959,
                    218167,
                    166034,
                    723000,
                    130000,
                    20000,
                    3529548,
                    61428,
                    168907296,
                    16150710,
                    6283925,
                    1077718,
                    4109205,
                    209954,
                    18887712,
                    401000,
                    30329276,
                    217000,
                    2041282,
                    2574000,
                    17876,
                    81280,
                    530343,
                    470000,
                    590588,
                    332000,
                    276361,
                    313543,
                    531797,
                    5802,
                    778655,
                    127030,
                    1549842,
                    737000,
                    287000,
                    42378,
                    1403398,
                    134072,
                    5828,
                    382696,
                    64209,
                    6201367,
                    16416,
                    712558,
                    7789,
                    619000,
                    126582,
                    2512195,
                    1987859,
                    3506000,
                    229000,
                    1834,
                    3881000,
                    2258382,
                    100000,
                    219387,
                    1244861,
                    12100855,
                    4345000,
                    391865,
                    873380,
                    318000,
                    13149511,
                    3875,
                    165944,
                    78842,
                    754894,
                    143000,
                    1314293,
                    1894389,
                    9552631,
                    3046116,
                    14092,
                    5506976,
                    31088398,
                    928368,
                    17202,
                    24000,
                    25781,
                    47292,
                    5492,
                    22731,
                    2091000,
                    1009886,
                    2147197,
                    12522,
                    794264,
                    30000,
                    2140651,
                    469664,
                    56998,
                    991912,
                    1446092,
                    9395000,
                    1028736,
                    11581132,
                    1213000,
                    3999435,
                    80721,
                    2354278,
                    1833734,
                    1337000,
                    2000000,
                    466629,
                    3019768,
                    4665000,
                    137262,
                    445985,
                    18654,
                    60000,
                    862673,
                    9788268,
                    367215,
                    2499,
                    2101397,
                    11215490,
                    40153,
                    12483870,
                    6933517,
                    55000,
                    1919159,
                    27791,
                    905,
                    718000,
                    6551000,
                    2593000,
                    747000,
                    1085814
                  ]
                }
              ],
              "layout": {
                "coloraxis": {
                  "colorbar": {
                    "title": {
                      "text": "1801"
                    }
                  },
                  "colorscale": [
                    [
                      0,
                      "#0d0887"
                    ],
                    [
                      0.1111111111111111,
                      "#46039f"
                    ],
                    [
                      0.2222222222222222,
                      "#7201a8"
                    ],
                    [
                      0.3333333333333333,
                      "#9c179e"
                    ],
                    [
                      0.4444444444444444,
                      "#bd3786"
                    ],
                    [
                      0.5555555555555556,
                      "#d8576b"
                    ],
                    [
                      0.6666666666666666,
                      "#ed7953"
                    ],
                    [
                      0.7777777777777778,
                      "#fb9f3a"
                    ],
                    [
                      0.8888888888888888,
                      "#fdca26"
                    ],
                    [
                      1,
                      "#f0f921"
                    ]
                  ]
                },
                "geo": {
                  "center": {},
                  "domain": {
                    "x": [
                      0,
                      1
                    ],
                    "y": [
                      0,
                      1
                    ]
                  }
                },
                "legend": {
                  "tracegroupgap": 0
                },
                "margin": {
                  "t": 60
                },
                "template": {
                  "data": {
                    "bar": [
                      {
                        "error_x": {
                          "color": "#2a3f5f"
                        },
                        "error_y": {
                          "color": "#2a3f5f"
                        },
                        "marker": {
                          "line": {
                            "color": "#E5ECF6",
                            "width": 0.5
                          },
                          "pattern": {
                            "fillmode": "overlay",
                            "size": 10,
                            "solidity": 0.2
                          }
                        },
                        "type": "bar"
                      }
                    ],
                    "barpolar": [
                      {
                        "marker": {
                          "line": {
                            "color": "#E5ECF6",
                            "width": 0.5
                          },
                          "pattern": {
                            "fillmode": "overlay",
                            "size": 10,
                            "solidity": 0.2
                          }
                        },
                        "type": "barpolar"
                      }
                    ],
                    "carpet": [
                      {
                        "aaxis": {
                          "endlinecolor": "#2a3f5f",
                          "gridcolor": "white",
                          "linecolor": "white",
                          "minorgridcolor": "white",
                          "startlinecolor": "#2a3f5f"
                        },
                        "baxis": {
                          "endlinecolor": "#2a3f5f",
                          "gridcolor": "white",
                          "linecolor": "white",
                          "minorgridcolor": "white",
                          "startlinecolor": "#2a3f5f"
                        },
                        "type": "carpet"
                      }
                    ],
                    "choropleth": [
                      {
                        "colorbar": {
                          "outlinewidth": 0,
                          "ticks": ""
                        },
                        "type": "choropleth"
                      }
                    ],
                    "contour": [
                      {
                        "colorbar": {
                          "outlinewidth": 0,
                          "ticks": ""
                        },
                        "colorscale": [
                          [
                            0,
                            "#0d0887"
                          ],
                          [
                            0.1111111111111111,
                            "#46039f"
                          ],
                          [
                            0.2222222222222222,
                            "#7201a8"
                          ],
                          [
                            0.3333333333333333,
                            "#9c179e"
                          ],
                          [
                            0.4444444444444444,
                            "#bd3786"
                          ],
                          [
                            0.5555555555555556,
                            "#d8576b"
                          ],
                          [
                            0.6666666666666666,
                            "#ed7953"
                          ],
                          [
                            0.7777777777777778,
                            "#fb9f3a"
                          ],
                          [
                            0.8888888888888888,
                            "#fdca26"
                          ],
                          [
                            1,
                            "#f0f921"
                          ]
                        ],
                        "type": "contour"
                      }
                    ],
                    "contourcarpet": [
                      {
                        "colorbar": {
                          "outlinewidth": 0,
                          "ticks": ""
                        },
                        "type": "contourcarpet"
                      }
                    ],
                    "heatmap": [
                      {
                        "colorbar": {
                          "outlinewidth": 0,
                          "ticks": ""
                        },
                        "colorscale": [
                          [
                            0,
                            "#0d0887"
                          ],
                          [
                            0.1111111111111111,
                            "#46039f"
                          ],
                          [
                            0.2222222222222222,
                            "#7201a8"
                          ],
                          [
                            0.3333333333333333,
                            "#9c179e"
                          ],
                          [
                            0.4444444444444444,
                            "#bd3786"
                          ],
                          [
                            0.5555555555555556,
                            "#d8576b"
                          ],
                          [
                            0.6666666666666666,
                            "#ed7953"
                          ],
                          [
                            0.7777777777777778,
                            "#fb9f3a"
                          ],
                          [
                            0.8888888888888888,
                            "#fdca26"
                          ],
                          [
                            1,
                            "#f0f921"
                          ]
                        ],
                        "type": "heatmap"
                      }
                    ],
                    "heatmapgl": [
                      {
                        "colorbar": {
                          "outlinewidth": 0,
                          "ticks": ""
                        },
                        "colorscale": [
                          [
                            0,
                            "#0d0887"
                          ],
                          [
                            0.1111111111111111,
                            "#46039f"
                          ],
                          [
                            0.2222222222222222,
                            "#7201a8"
                          ],
                          [
                            0.3333333333333333,
                            "#9c179e"
                          ],
                          [
                            0.4444444444444444,
                            "#bd3786"
                          ],
                          [
                            0.5555555555555556,
                            "#d8576b"
                          ],
                          [
                            0.6666666666666666,
                            "#ed7953"
                          ],
                          [
                            0.7777777777777778,
                            "#fb9f3a"
                          ],
                          [
                            0.8888888888888888,
                            "#fdca26"
                          ],
                          [
                            1,
                            "#f0f921"
                          ]
                        ],
                        "type": "heatmapgl"
                      }
                    ],
                    "histogram": [
                      {
                        "marker": {
                          "pattern": {
                            "fillmode": "overlay",
                            "size": 10,
                            "solidity": 0.2
                          }
                        },
                        "type": "histogram"
                      }
                    ],
                    "histogram2d": [
                      {
                        "colorbar": {
                          "outlinewidth": 0,
                          "ticks": ""
                        },
                        "colorscale": [
                          [
                            0,
                            "#0d0887"
                          ],
                          [
                            0.1111111111111111,
                            "#46039f"
                          ],
                          [
                            0.2222222222222222,
                            "#7201a8"
                          ],
                          [
                            0.3333333333333333,
                            "#9c179e"
                          ],
                          [
                            0.4444444444444444,
                            "#bd3786"
                          ],
                          [
                            0.5555555555555556,
                            "#d8576b"
                          ],
                          [
                            0.6666666666666666,
                            "#ed7953"
                          ],
                          [
                            0.7777777777777778,
                            "#fb9f3a"
                          ],
                          [
                            0.8888888888888888,
                            "#fdca26"
                          ],
                          [
                            1,
                            "#f0f921"
                          ]
                        ],
                        "type": "histogram2d"
                      }
                    ],
                    "histogram2dcontour": [
                      {
                        "colorbar": {
                          "outlinewidth": 0,
                          "ticks": ""
                        },
                        "colorscale": [
                          [
                            0,
                            "#0d0887"
                          ],
                          [
                            0.1111111111111111,
                            "#46039f"
                          ],
                          [
                            0.2222222222222222,
                            "#7201a8"
                          ],
                          [
                            0.3333333333333333,
                            "#9c179e"
                          ],
                          [
                            0.4444444444444444,
                            "#bd3786"
                          ],
                          [
                            0.5555555555555556,
                            "#d8576b"
                          ],
                          [
                            0.6666666666666666,
                            "#ed7953"
                          ],
                          [
                            0.7777777777777778,
                            "#fb9f3a"
                          ],
                          [
                            0.8888888888888888,
                            "#fdca26"
                          ],
                          [
                            1,
                            "#f0f921"
                          ]
                        ],
                        "type": "histogram2dcontour"
                      }
                    ],
                    "mesh3d": [
                      {
                        "colorbar": {
                          "outlinewidth": 0,
                          "ticks": ""
                        },
                        "type": "mesh3d"
                      }
                    ],
                    "parcoords": [
                      {
                        "line": {
                          "colorbar": {
                            "outlinewidth": 0,
                            "ticks": ""
                          }
                        },
                        "type": "parcoords"
                      }
                    ],
                    "pie": [
                      {
                        "automargin": true,
                        "type": "pie"
                      }
                    ],
                    "scatter": [
                      {
                        "fillpattern": {
                          "fillmode": "overlay",
                          "size": 10,
                          "solidity": 0.2
                        },
                        "type": "scatter"
                      }
                    ],
                    "scatter3d": [
                      {
                        "line": {
                          "colorbar": {
                            "outlinewidth": 0,
                            "ticks": ""
                          }
                        },
                        "marker": {
                          "colorbar": {
                            "outlinewidth": 0,
                            "ticks": ""
                          }
                        },
                        "type": "scatter3d"
                      }
                    ],
                    "scattercarpet": [
                      {
                        "marker": {
                          "colorbar": {
                            "outlinewidth": 0,
                            "ticks": ""
                          }
                        },
                        "type": "scattercarpet"
                      }
                    ],
                    "scattergeo": [
                      {
                        "marker": {
                          "colorbar": {
                            "outlinewidth": 0,
                            "ticks": ""
                          }
                        },
                        "type": "scattergeo"
                      }
                    ],
                    "scattergl": [
                      {
                        "marker": {
                          "colorbar": {
                            "outlinewidth": 0,
                            "ticks": ""
                          }
                        },
                        "type": "scattergl"
                      }
                    ],
                    "scattermapbox": [
                      {
                        "marker": {
                          "colorbar": {
                            "outlinewidth": 0,
                            "ticks": ""
                          }
                        },
                        "type": "scattermapbox"
                      }
                    ],
                    "scatterpolar": [
                      {
                        "marker": {
                          "colorbar": {
                            "outlinewidth": 0,
                            "ticks": ""
                          }
                        },
                        "type": "scatterpolar"
                      }
                    ],
                    "scatterpolargl": [
                      {
                        "marker": {
                          "colorbar": {
                            "outlinewidth": 0,
                            "ticks": ""
                          }
                        },
                        "type": "scatterpolargl"
                      }
                    ],
                    "scatterternary": [
                      {
                        "marker": {
                          "colorbar": {
                            "outlinewidth": 0,
                            "ticks": ""
                          }
                        },
                        "type": "scatterternary"
                      }
                    ],
                    "surface": [
                      {
                        "colorbar": {
                          "outlinewidth": 0,
                          "ticks": ""
                        },
                        "colorscale": [
                          [
                            0,
                            "#0d0887"
                          ],
                          [
                            0.1111111111111111,
                            "#46039f"
                          ],
                          [
                            0.2222222222222222,
                            "#7201a8"
                          ],
                          [
                            0.3333333333333333,
                            "#9c179e"
                          ],
                          [
                            0.4444444444444444,
                            "#bd3786"
                          ],
                          [
                            0.5555555555555556,
                            "#d8576b"
                          ],
                          [
                            0.6666666666666666,
                            "#ed7953"
                          ],
                          [
                            0.7777777777777778,
                            "#fb9f3a"
                          ],
                          [
                            0.8888888888888888,
                            "#fdca26"
                          ],
                          [
                            1,
                            "#f0f921"
                          ]
                        ],
                        "type": "surface"
                      }
                    ],
                    "table": [
                      {
                        "cells": {
                          "fill": {
                            "color": "#EBF0F8"
                          },
                          "line": {
                            "color": "white"
                          }
                        },
                        "header": {
                          "fill": {
                            "color": "#C8D4E3"
                          },
                          "line": {
                            "color": "white"
                          }
                        },
                        "type": "table"
                      }
                    ]
                  },
                  "layout": {
                    "annotationdefaults": {
                      "arrowcolor": "#2a3f5f",
                      "arrowhead": 0,
                      "arrowwidth": 1
                    },
                    "autotypenumbers": "strict",
                    "coloraxis": {
                      "colorbar": {
                        "outlinewidth": 0,
                        "ticks": ""
                      }
                    },
                    "colorscale": {
                      "diverging": [
                        [
                          0,
                          "#8e0152"
                        ],
                        [
                          0.1,
                          "#c51b7d"
                        ],
                        [
                          0.2,
                          "#de77ae"
                        ],
                        [
                          0.3,
                          "#f1b6da"
                        ],
                        [
                          0.4,
                          "#fde0ef"
                        ],
                        [
                          0.5,
                          "#f7f7f7"
                        ],
                        [
                          0.6,
                          "#e6f5d0"
                        ],
                        [
                          0.7,
                          "#b8e186"
                        ],
                        [
                          0.8,
                          "#7fbc41"
                        ],
                        [
                          0.9,
                          "#4d9221"
                        ],
                        [
                          1,
                          "#276419"
                        ]
                      ],
                      "sequential": [
                        [
                          0,
                          "#0d0887"
                        ],
                        [
                          0.1111111111111111,
                          "#46039f"
                        ],
                        [
                          0.2222222222222222,
                          "#7201a8"
                        ],
                        [
                          0.3333333333333333,
                          "#9c179e"
                        ],
                        [
                          0.4444444444444444,
                          "#bd3786"
                        ],
                        [
                          0.5555555555555556,
                          "#d8576b"
                        ],
                        [
                          0.6666666666666666,
                          "#ed7953"
                        ],
                        [
                          0.7777777777777778,
                          "#fb9f3a"
                        ],
                        [
                          0.8888888888888888,
                          "#fdca26"
                        ],
                        [
                          1,
                          "#f0f921"
                        ]
                      ],
                      "sequentialminus": [
                        [
                          0,
                          "#0d0887"
                        ],
                        [
                          0.1111111111111111,
                          "#46039f"
                        ],
                        [
                          0.2222222222222222,
                          "#7201a8"
                        ],
                        [
                          0.3333333333333333,
                          "#9c179e"
                        ],
                        [
                          0.4444444444444444,
                          "#bd3786"
                        ],
                        [
                          0.5555555555555556,
                          "#d8576b"
                        ],
                        [
                          0.6666666666666666,
                          "#ed7953"
                        ],
                        [
                          0.7777777777777778,
                          "#fb9f3a"
                        ],
                        [
                          0.8888888888888888,
                          "#fdca26"
                        ],
                        [
                          1,
                          "#f0f921"
                        ]
                      ]
                    },
                    "colorway": [
                      "#636efa",
                      "#EF553B",
                      "#00cc96",
                      "#ab63fa",
                      "#FFA15A",
                      "#19d3f3",
                      "#FF6692",
                      "#B6E880",
                      "#FF97FF",
                      "#FECB52"
                    ],
                    "font": {
                      "color": "#2a3f5f"
                    },
                    "geo": {
                      "bgcolor": "white",
                      "lakecolor": "white",
                      "landcolor": "#E5ECF6",
                      "showlakes": true,
                      "showland": true,
                      "subunitcolor": "white"
                    },
                    "hoverlabel": {
                      "align": "left"
                    },
                    "hovermode": "closest",
                    "mapbox": {
                      "style": "light"
                    },
                    "paper_bgcolor": "white",
                    "plot_bgcolor": "#E5ECF6",
                    "polar": {
                      "angularaxis": {
                        "gridcolor": "white",
                        "linecolor": "white",
                        "ticks": ""
                      },
                      "bgcolor": "#E5ECF6",
                      "radialaxis": {
                        "gridcolor": "white",
                        "linecolor": "white",
                        "ticks": ""
                      }
                    },
                    "scene": {
                      "xaxis": {
                        "backgroundcolor": "#E5ECF6",
                        "gridcolor": "white",
                        "gridwidth": 2,
                        "linecolor": "white",
                        "showbackground": true,
                        "ticks": "",
                        "zerolinecolor": "white"
                      },
                      "yaxis": {
                        "backgroundcolor": "#E5ECF6",
                        "gridcolor": "white",
                        "gridwidth": 2,
                        "linecolor": "white",
                        "showbackground": true,
                        "ticks": "",
                        "zerolinecolor": "white"
                      },
                      "zaxis": {
                        "backgroundcolor": "#E5ECF6",
                        "gridcolor": "white",
                        "gridwidth": 2,
                        "linecolor": "white",
                        "showbackground": true,
                        "ticks": "",
                        "zerolinecolor": "white"
                      }
                    },
                    "shapedefaults": {
                      "line": {
                        "color": "#2a3f5f"
                      }
                    },
                    "ternary": {
                      "aaxis": {
                        "gridcolor": "white",
                        "linecolor": "white",
                        "ticks": ""
                      },
                      "baxis": {
                        "gridcolor": "white",
                        "linecolor": "white",
                        "ticks": ""
                      },
                      "bgcolor": "#E5ECF6",
                      "caxis": {
                        "gridcolor": "white",
                        "linecolor": "white",
                        "ticks": ""
                      }
                    },
                    "title": {
                      "x": 0.05
                    },
                    "xaxis": {
                      "automargin": true,
                      "gridcolor": "white",
                      "linecolor": "white",
                      "ticks": "",
                      "title": {
                        "standoff": 15
                      },
                      "zerolinecolor": "white",
                      "zerolinewidth": 2
                    },
                    "yaxis": {
                      "automargin": true,
                      "gridcolor": "white",
                      "linecolor": "white",
                      "ticks": "",
                      "title": {
                        "standoff": 15
                      },
                      "zerolinecolor": "white",
                      "zerolinewidth": 2
                    }
                  }
                }
              }
            }
          },
          "metadata": {},
          "output_type": "display_data"
        }
      ],
      "source": [
        "#Gráfica tipo mapa (choropleth)\n",
        "\n",
        "import plotly.express as px\n",
        "\n",
        "fig = px.choropleth(df_poblacion_mundial,locations='Code',color='1801',hover_name='paises',color_continuous_scale=px.colors.sequential.Plasma)\n",
        "fig.show()"
      ]
    },
    {
      "attachments": {},
      "cell_type": "markdown",
      "metadata": {},
      "source": [
        "#### **tk-22** Gráfica tipo mapa de los datos de población de 2019"
      ]
    },
    {
      "cell_type": "code",
      "execution_count": 20,
      "metadata": {},
      "outputs": [
        {
          "data": {
            "application/vnd.plotly.v1+json": {
              "config": {
                "plotlyServerURL": "https://plot.ly"
              },
              "data": [
                {
                  "coloraxis": "coloraxis",
                  "geo": "geo",
                  "hovertemplate": "<b>%{hovertext}</b><br><br>Code=%{location}<br>2019=%{z}<extra></extra>",
                  "hovertext": [
                    "Afghanistan",
                    "Albania",
                    "Algeria",
                    "Andorra",
                    "Angola",
                    "Antigua and Barbuda",
                    "Argentina",
                    "Armenia",
                    "Australia",
                    "Austria",
                    "Azerbaijan",
                    "Bahamas",
                    "Bahrain",
                    "Bangladesh",
                    "Barbados",
                    "Belarus",
                    "Belgium",
                    "Belize",
                    "Benin",
                    "Bhutan",
                    "Bolivia",
                    "Bosnia and Herzegovina",
                    "Botswana",
                    "Brazil",
                    "Brunei",
                    "Bulgaria",
                    "Burkina Faso",
                    "Burundi",
                    "Cambodia",
                    "Cameroon",
                    "Canada",
                    "Cape Verde",
                    "Central African Republic",
                    "Chad",
                    "Chile",
                    "China",
                    "Colombia",
                    "Comoros",
                    "Congo",
                    "Costa Rica",
                    "Cote d'Ivoire",
                    "Croatia",
                    "Cuba",
                    "Cyprus",
                    "Czechia",
                    "Democratic Republic of Congo",
                    "Denmark",
                    "Djibouti",
                    "Dominica",
                    "Dominican Republic",
                    "Ecuador",
                    "Egypt",
                    "El Salvador",
                    "Equatorial Guinea",
                    "Eritrea",
                    "Estonia",
                    "Eswatini",
                    "Ethiopia",
                    "Fiji",
                    "Finland",
                    "France",
                    "Gabon",
                    "Gambia",
                    "Georgia",
                    "Germany",
                    "Ghana",
                    "Greece",
                    "Grenada",
                    "Guatemala",
                    "Guinea",
                    "Guinea-Bissau",
                    "Guyana",
                    "Haiti",
                    "Honduras",
                    "Hong Kong",
                    "Hungary",
                    "Iceland",
                    "India",
                    "Indonesia",
                    "Iran",
                    "Iraq",
                    "Ireland",
                    "Israel",
                    "Italy",
                    "Jamaica",
                    "Japan",
                    "Jordan",
                    "Kazakhstan",
                    "Kenya",
                    "Kiribati",
                    "Kuwait",
                    "Kyrgyzstan",
                    "Laos",
                    "Latvia",
                    "Lebanon",
                    "Lesotho",
                    "Liberia",
                    "Libya",
                    "Liechtenstein",
                    "Lithuania",
                    "Luxembourg",
                    "Madagascar",
                    "Malawi",
                    "Malaysia",
                    "Maldives",
                    "Mali",
                    "Malta",
                    "Marshall Islands",
                    "Mauritania",
                    "Mauritius",
                    "Mexico",
                    "Micronesia (country)",
                    "Moldova",
                    "Monaco",
                    "Mongolia",
                    "Montenegro",
                    "Morocco",
                    "Mozambique",
                    "Myanmar",
                    "Namibia",
                    "Nauru",
                    "Nepal",
                    "Netherlands",
                    "New Zealand",
                    "Nicaragua",
                    "Niger",
                    "Nigeria",
                    "North Korea",
                    "North Macedonia",
                    "Norway",
                    "Oman",
                    "Pakistan",
                    "Palau",
                    "Palestine",
                    "Panama",
                    "Papua New Guinea",
                    "Paraguay",
                    "Peru",
                    "Philippines",
                    "Poland",
                    "Portugal",
                    "Qatar",
                    "Romania",
                    "Russia",
                    "Rwanda",
                    "Saint Kitts and Nevis",
                    "Saint Lucia",
                    "Saint Vincent and the Grenadines",
                    "Samoa",
                    "San Marino",
                    "Sao Tome and Principe",
                    "Saudi Arabia",
                    "Senegal",
                    "Serbia",
                    "Seychelles",
                    "Sierra Leone",
                    "Singapore",
                    "Slovakia",
                    "Slovenia",
                    "Solomon Islands",
                    "Somalia",
                    "South Africa",
                    "South Korea",
                    "South Sudan",
                    "Spain",
                    "Sri Lanka",
                    "Sudan",
                    "Suriname",
                    "Sweden",
                    "Switzerland",
                    "Syria",
                    "Taiwan",
                    "Tajikistan",
                    "Tanzania",
                    "Thailand",
                    "Timor",
                    "Togo",
                    "Tonga",
                    "Trinidad and Tobago",
                    "Tunisia",
                    "Turkey",
                    "Turkmenistan",
                    "Tuvalu",
                    "Uganda",
                    "Ukraine",
                    "United Arab Emirates",
                    "United Kingdom",
                    "United States",
                    "Uruguay",
                    "Uzbekistan",
                    "Vanuatu",
                    "Vatican",
                    "Venezuela",
                    "Vietnam",
                    "Yemen",
                    "Zambia",
                    "Zimbabwe"
                  ],
                  "locations": [
                    "AFG",
                    "ALB",
                    "DZA",
                    "AND",
                    "AGO",
                    "ATG",
                    "ARG",
                    "ARM",
                    "AUS",
                    "AUT",
                    "AZE",
                    "BHS",
                    "BHR",
                    "BGD",
                    "BRB",
                    "BLR",
                    "BEL",
                    "BLZ",
                    "BEN",
                    "BTN",
                    null,
                    "BIH",
                    "BWA",
                    "BRA",
                    null,
                    "BGR",
                    "BFA",
                    "BDI",
                    "KHM",
                    "CMR",
                    "CAN",
                    null,
                    "CAF",
                    "TCD",
                    "CHL",
                    "CHN",
                    "COL",
                    "COM",
                    "COG",
                    "CRI",
                    null,
                    "HRV",
                    "CUB",
                    "CYP",
                    "CZE",
                    null,
                    "DNK",
                    "DJI",
                    "DMA",
                    "DOM",
                    "ECU",
                    "EGY",
                    "SLV",
                    "GNQ",
                    "ERI",
                    "EST",
                    "SWZ",
                    "ETH",
                    "FJI",
                    "FIN",
                    "FRA",
                    "GAB",
                    "GMB",
                    "GEO",
                    "DEU",
                    "GHA",
                    "GRC",
                    "GRD",
                    "GTM",
                    "GIN",
                    "GNB",
                    "GUY",
                    "HTI",
                    "HND",
                    "HKG",
                    "HUN",
                    "ISL",
                    "IND",
                    "IDN",
                    null,
                    "IRQ",
                    "IRL",
                    "ISR",
                    "ITA",
                    "JAM",
                    "JPN",
                    "JOR",
                    "KAZ",
                    "KEN",
                    "KIR",
                    "KWT",
                    "KGZ",
                    null,
                    "LVA",
                    "LBN",
                    "LSO",
                    "LBR",
                    "LBY",
                    "LIE",
                    "LTU",
                    "LUX",
                    "MDG",
                    "MWI",
                    "MYS",
                    "MDV",
                    "MLI",
                    "MLT",
                    "MHL",
                    "MRT",
                    "MUS",
                    "MEX",
                    null,
                    null,
                    "MCO",
                    "MNG",
                    "MNE",
                    "MAR",
                    "MOZ",
                    "MMR",
                    "NAM",
                    "NRU",
                    "NPL",
                    "NLD",
                    "NZL",
                    "NIC",
                    "NER",
                    "NGA",
                    null,
                    "MKD",
                    "NOR",
                    "OMN",
                    "PAK",
                    "PLW",
                    null,
                    "PAN",
                    "PNG",
                    "PRY",
                    "PER",
                    "PHL",
                    "POL",
                    "PRT",
                    "QAT",
                    "ROU",
                    null,
                    "RWA",
                    "KNA",
                    "LCA",
                    "VCT",
                    "WSM",
                    "SMR",
                    "STP",
                    "SAU",
                    "SEN",
                    "SRB",
                    "SYC",
                    "SLE",
                    "SGP",
                    "SVK",
                    "SVN",
                    "SLB",
                    "SOM",
                    "ZAF",
                    null,
                    "SSD",
                    "ESP",
                    "LKA",
                    "SDN",
                    "SUR",
                    "SWE",
                    "CHE",
                    null,
                    null,
                    "TJK",
                    null,
                    "THA",
                    null,
                    "TGO",
                    "TON",
                    "TTO",
                    "TUN",
                    "TUR",
                    "TKM",
                    "TUV",
                    "UGA",
                    "UKR",
                    "ARE",
                    "GBR",
                    "USA",
                    "URY",
                    "UZB",
                    "VUT",
                    null,
                    null,
                    null,
                    "YEM",
                    "ZMB",
                    "ZWE"
                  ],
                  "name": "",
                  "type": "choropleth",
                  "z": [
                    38042000,
                    2881000,
                    43053000,
                    77000,
                    31825000,
                    97000,
                    44781000,
                    2958000,
                    25203000,
                    8955000,
                    10048000,
                    389000,
                    1641000,
                    163046000,
                    287000,
                    9452000,
                    11539000,
                    390000,
                    11801000,
                    763000,
                    11513000,
                    3301000,
                    2304000,
                    211050000,
                    433000,
                    7000000,
                    20321000,
                    11531000,
                    16487000,
                    25876000,
                    37411000,
                    550000,
                    4745000,
                    15947000,
                    18952000,
                    1433784064,
                    50339000,
                    851000,
                    5381000,
                    5048000,
                    25717000,
                    4130000,
                    11333000,
                    1199000,
                    10689000,
                    86791000,
                    5772000,
                    974000,
                    72000,
                    10739000,
                    17374000,
                    100388000,
                    6454000,
                    1356000,
                    3497000,
                    1326000,
                    1148000,
                    112079000,
                    890000,
                    5532000,
                    65130000,
                    2173000,
                    2348000,
                    3997000,
                    83517000,
                    30418000,
                    10473000,
                    112000,
                    17581000,
                    12771000,
                    1921000,
                    783000,
                    11263000,
                    9746000,
                    7436000,
                    9685000,
                    339000,
                    1366418048,
                    270625984,
                    82914000,
                    39310000,
                    4882000,
                    8519000,
                    60550000,
                    2948000,
                    126860000,
                    10102000,
                    18551000,
                    52574000,
                    118000,
                    4207000,
                    6416000,
                    7169000,
                    1907000,
                    6856000,
                    2125000,
                    4937000,
                    6777000,
                    38000,
                    2760000,
                    616000,
                    26969000,
                    18629000,
                    31950000,
                    531000,
                    19658000,
                    440000,
                    59000,
                    4526000,
                    1270000,
                    127576000,
                    114000,
                    4043000,
                    39000,
                    3225000,
                    628000,
                    36472000,
                    30366000,
                    54045000,
                    2495000,
                    11000,
                    28609000,
                    17097000,
                    4783000,
                    6546000,
                    23311000,
                    200964000,
                    25666000,
                    2083000,
                    5379000,
                    4975000,
                    216564992,
                    18000,
                    4981000,
                    4246000,
                    8776000,
                    7045000,
                    32510000,
                    108117000,
                    37888000,
                    10226000,
                    2832000,
                    19365000,
                    145872000,
                    12627000,
                    53000,
                    183000,
                    111000,
                    197000,
                    34000,
                    215000,
                    34269000,
                    16296000,
                    8772000,
                    98000,
                    7813000,
                    5804000,
                    5457000,
                    2079000,
                    670000,
                    15443000,
                    58558000,
                    51225000,
                    11062000,
                    46737000,
                    21324000,
                    42813000,
                    581000,
                    10036000,
                    8591000,
                    17070000,
                    23774000,
                    9321000,
                    58005000,
                    69626000,
                    1293000,
                    8082000,
                    104000,
                    1395000,
                    11695000,
                    83430000,
                    5942000,
                    12000,
                    44270000,
                    43994000,
                    9771000,
                    67530000,
                    329064992,
                    3462000,
                    32982000,
                    300000,
                    1000,
                    28516000,
                    96462000,
                    29162000,
                    17861000,
                    14645000
                  ]
                }
              ],
              "layout": {
                "coloraxis": {
                  "colorbar": {
                    "title": {
                      "text": "2019"
                    }
                  },
                  "colorscale": [
                    [
                      0,
                      "#0d0887"
                    ],
                    [
                      0.1111111111111111,
                      "#46039f"
                    ],
                    [
                      0.2222222222222222,
                      "#7201a8"
                    ],
                    [
                      0.3333333333333333,
                      "#9c179e"
                    ],
                    [
                      0.4444444444444444,
                      "#bd3786"
                    ],
                    [
                      0.5555555555555556,
                      "#d8576b"
                    ],
                    [
                      0.6666666666666666,
                      "#ed7953"
                    ],
                    [
                      0.7777777777777778,
                      "#fb9f3a"
                    ],
                    [
                      0.8888888888888888,
                      "#fdca26"
                    ],
                    [
                      1,
                      "#f0f921"
                    ]
                  ]
                },
                "geo": {
                  "center": {},
                  "domain": {
                    "x": [
                      0,
                      1
                    ],
                    "y": [
                      0,
                      1
                    ]
                  }
                },
                "legend": {
                  "tracegroupgap": 0
                },
                "margin": {
                  "t": 60
                },
                "template": {
                  "data": {
                    "bar": [
                      {
                        "error_x": {
                          "color": "#2a3f5f"
                        },
                        "error_y": {
                          "color": "#2a3f5f"
                        },
                        "marker": {
                          "line": {
                            "color": "#E5ECF6",
                            "width": 0.5
                          },
                          "pattern": {
                            "fillmode": "overlay",
                            "size": 10,
                            "solidity": 0.2
                          }
                        },
                        "type": "bar"
                      }
                    ],
                    "barpolar": [
                      {
                        "marker": {
                          "line": {
                            "color": "#E5ECF6",
                            "width": 0.5
                          },
                          "pattern": {
                            "fillmode": "overlay",
                            "size": 10,
                            "solidity": 0.2
                          }
                        },
                        "type": "barpolar"
                      }
                    ],
                    "carpet": [
                      {
                        "aaxis": {
                          "endlinecolor": "#2a3f5f",
                          "gridcolor": "white",
                          "linecolor": "white",
                          "minorgridcolor": "white",
                          "startlinecolor": "#2a3f5f"
                        },
                        "baxis": {
                          "endlinecolor": "#2a3f5f",
                          "gridcolor": "white",
                          "linecolor": "white",
                          "minorgridcolor": "white",
                          "startlinecolor": "#2a3f5f"
                        },
                        "type": "carpet"
                      }
                    ],
                    "choropleth": [
                      {
                        "colorbar": {
                          "outlinewidth": 0,
                          "ticks": ""
                        },
                        "type": "choropleth"
                      }
                    ],
                    "contour": [
                      {
                        "colorbar": {
                          "outlinewidth": 0,
                          "ticks": ""
                        },
                        "colorscale": [
                          [
                            0,
                            "#0d0887"
                          ],
                          [
                            0.1111111111111111,
                            "#46039f"
                          ],
                          [
                            0.2222222222222222,
                            "#7201a8"
                          ],
                          [
                            0.3333333333333333,
                            "#9c179e"
                          ],
                          [
                            0.4444444444444444,
                            "#bd3786"
                          ],
                          [
                            0.5555555555555556,
                            "#d8576b"
                          ],
                          [
                            0.6666666666666666,
                            "#ed7953"
                          ],
                          [
                            0.7777777777777778,
                            "#fb9f3a"
                          ],
                          [
                            0.8888888888888888,
                            "#fdca26"
                          ],
                          [
                            1,
                            "#f0f921"
                          ]
                        ],
                        "type": "contour"
                      }
                    ],
                    "contourcarpet": [
                      {
                        "colorbar": {
                          "outlinewidth": 0,
                          "ticks": ""
                        },
                        "type": "contourcarpet"
                      }
                    ],
                    "heatmap": [
                      {
                        "colorbar": {
                          "outlinewidth": 0,
                          "ticks": ""
                        },
                        "colorscale": [
                          [
                            0,
                            "#0d0887"
                          ],
                          [
                            0.1111111111111111,
                            "#46039f"
                          ],
                          [
                            0.2222222222222222,
                            "#7201a8"
                          ],
                          [
                            0.3333333333333333,
                            "#9c179e"
                          ],
                          [
                            0.4444444444444444,
                            "#bd3786"
                          ],
                          [
                            0.5555555555555556,
                            "#d8576b"
                          ],
                          [
                            0.6666666666666666,
                            "#ed7953"
                          ],
                          [
                            0.7777777777777778,
                            "#fb9f3a"
                          ],
                          [
                            0.8888888888888888,
                            "#fdca26"
                          ],
                          [
                            1,
                            "#f0f921"
                          ]
                        ],
                        "type": "heatmap"
                      }
                    ],
                    "heatmapgl": [
                      {
                        "colorbar": {
                          "outlinewidth": 0,
                          "ticks": ""
                        },
                        "colorscale": [
                          [
                            0,
                            "#0d0887"
                          ],
                          [
                            0.1111111111111111,
                            "#46039f"
                          ],
                          [
                            0.2222222222222222,
                            "#7201a8"
                          ],
                          [
                            0.3333333333333333,
                            "#9c179e"
                          ],
                          [
                            0.4444444444444444,
                            "#bd3786"
                          ],
                          [
                            0.5555555555555556,
                            "#d8576b"
                          ],
                          [
                            0.6666666666666666,
                            "#ed7953"
                          ],
                          [
                            0.7777777777777778,
                            "#fb9f3a"
                          ],
                          [
                            0.8888888888888888,
                            "#fdca26"
                          ],
                          [
                            1,
                            "#f0f921"
                          ]
                        ],
                        "type": "heatmapgl"
                      }
                    ],
                    "histogram": [
                      {
                        "marker": {
                          "pattern": {
                            "fillmode": "overlay",
                            "size": 10,
                            "solidity": 0.2
                          }
                        },
                        "type": "histogram"
                      }
                    ],
                    "histogram2d": [
                      {
                        "colorbar": {
                          "outlinewidth": 0,
                          "ticks": ""
                        },
                        "colorscale": [
                          [
                            0,
                            "#0d0887"
                          ],
                          [
                            0.1111111111111111,
                            "#46039f"
                          ],
                          [
                            0.2222222222222222,
                            "#7201a8"
                          ],
                          [
                            0.3333333333333333,
                            "#9c179e"
                          ],
                          [
                            0.4444444444444444,
                            "#bd3786"
                          ],
                          [
                            0.5555555555555556,
                            "#d8576b"
                          ],
                          [
                            0.6666666666666666,
                            "#ed7953"
                          ],
                          [
                            0.7777777777777778,
                            "#fb9f3a"
                          ],
                          [
                            0.8888888888888888,
                            "#fdca26"
                          ],
                          [
                            1,
                            "#f0f921"
                          ]
                        ],
                        "type": "histogram2d"
                      }
                    ],
                    "histogram2dcontour": [
                      {
                        "colorbar": {
                          "outlinewidth": 0,
                          "ticks": ""
                        },
                        "colorscale": [
                          [
                            0,
                            "#0d0887"
                          ],
                          [
                            0.1111111111111111,
                            "#46039f"
                          ],
                          [
                            0.2222222222222222,
                            "#7201a8"
                          ],
                          [
                            0.3333333333333333,
                            "#9c179e"
                          ],
                          [
                            0.4444444444444444,
                            "#bd3786"
                          ],
                          [
                            0.5555555555555556,
                            "#d8576b"
                          ],
                          [
                            0.6666666666666666,
                            "#ed7953"
                          ],
                          [
                            0.7777777777777778,
                            "#fb9f3a"
                          ],
                          [
                            0.8888888888888888,
                            "#fdca26"
                          ],
                          [
                            1,
                            "#f0f921"
                          ]
                        ],
                        "type": "histogram2dcontour"
                      }
                    ],
                    "mesh3d": [
                      {
                        "colorbar": {
                          "outlinewidth": 0,
                          "ticks": ""
                        },
                        "type": "mesh3d"
                      }
                    ],
                    "parcoords": [
                      {
                        "line": {
                          "colorbar": {
                            "outlinewidth": 0,
                            "ticks": ""
                          }
                        },
                        "type": "parcoords"
                      }
                    ],
                    "pie": [
                      {
                        "automargin": true,
                        "type": "pie"
                      }
                    ],
                    "scatter": [
                      {
                        "fillpattern": {
                          "fillmode": "overlay",
                          "size": 10,
                          "solidity": 0.2
                        },
                        "type": "scatter"
                      }
                    ],
                    "scatter3d": [
                      {
                        "line": {
                          "colorbar": {
                            "outlinewidth": 0,
                            "ticks": ""
                          }
                        },
                        "marker": {
                          "colorbar": {
                            "outlinewidth": 0,
                            "ticks": ""
                          }
                        },
                        "type": "scatter3d"
                      }
                    ],
                    "scattercarpet": [
                      {
                        "marker": {
                          "colorbar": {
                            "outlinewidth": 0,
                            "ticks": ""
                          }
                        },
                        "type": "scattercarpet"
                      }
                    ],
                    "scattergeo": [
                      {
                        "marker": {
                          "colorbar": {
                            "outlinewidth": 0,
                            "ticks": ""
                          }
                        },
                        "type": "scattergeo"
                      }
                    ],
                    "scattergl": [
                      {
                        "marker": {
                          "colorbar": {
                            "outlinewidth": 0,
                            "ticks": ""
                          }
                        },
                        "type": "scattergl"
                      }
                    ],
                    "scattermapbox": [
                      {
                        "marker": {
                          "colorbar": {
                            "outlinewidth": 0,
                            "ticks": ""
                          }
                        },
                        "type": "scattermapbox"
                      }
                    ],
                    "scatterpolar": [
                      {
                        "marker": {
                          "colorbar": {
                            "outlinewidth": 0,
                            "ticks": ""
                          }
                        },
                        "type": "scatterpolar"
                      }
                    ],
                    "scatterpolargl": [
                      {
                        "marker": {
                          "colorbar": {
                            "outlinewidth": 0,
                            "ticks": ""
                          }
                        },
                        "type": "scatterpolargl"
                      }
                    ],
                    "scatterternary": [
                      {
                        "marker": {
                          "colorbar": {
                            "outlinewidth": 0,
                            "ticks": ""
                          }
                        },
                        "type": "scatterternary"
                      }
                    ],
                    "surface": [
                      {
                        "colorbar": {
                          "outlinewidth": 0,
                          "ticks": ""
                        },
                        "colorscale": [
                          [
                            0,
                            "#0d0887"
                          ],
                          [
                            0.1111111111111111,
                            "#46039f"
                          ],
                          [
                            0.2222222222222222,
                            "#7201a8"
                          ],
                          [
                            0.3333333333333333,
                            "#9c179e"
                          ],
                          [
                            0.4444444444444444,
                            "#bd3786"
                          ],
                          [
                            0.5555555555555556,
                            "#d8576b"
                          ],
                          [
                            0.6666666666666666,
                            "#ed7953"
                          ],
                          [
                            0.7777777777777778,
                            "#fb9f3a"
                          ],
                          [
                            0.8888888888888888,
                            "#fdca26"
                          ],
                          [
                            1,
                            "#f0f921"
                          ]
                        ],
                        "type": "surface"
                      }
                    ],
                    "table": [
                      {
                        "cells": {
                          "fill": {
                            "color": "#EBF0F8"
                          },
                          "line": {
                            "color": "white"
                          }
                        },
                        "header": {
                          "fill": {
                            "color": "#C8D4E3"
                          },
                          "line": {
                            "color": "white"
                          }
                        },
                        "type": "table"
                      }
                    ]
                  },
                  "layout": {
                    "annotationdefaults": {
                      "arrowcolor": "#2a3f5f",
                      "arrowhead": 0,
                      "arrowwidth": 1
                    },
                    "autotypenumbers": "strict",
                    "coloraxis": {
                      "colorbar": {
                        "outlinewidth": 0,
                        "ticks": ""
                      }
                    },
                    "colorscale": {
                      "diverging": [
                        [
                          0,
                          "#8e0152"
                        ],
                        [
                          0.1,
                          "#c51b7d"
                        ],
                        [
                          0.2,
                          "#de77ae"
                        ],
                        [
                          0.3,
                          "#f1b6da"
                        ],
                        [
                          0.4,
                          "#fde0ef"
                        ],
                        [
                          0.5,
                          "#f7f7f7"
                        ],
                        [
                          0.6,
                          "#e6f5d0"
                        ],
                        [
                          0.7,
                          "#b8e186"
                        ],
                        [
                          0.8,
                          "#7fbc41"
                        ],
                        [
                          0.9,
                          "#4d9221"
                        ],
                        [
                          1,
                          "#276419"
                        ]
                      ],
                      "sequential": [
                        [
                          0,
                          "#0d0887"
                        ],
                        [
                          0.1111111111111111,
                          "#46039f"
                        ],
                        [
                          0.2222222222222222,
                          "#7201a8"
                        ],
                        [
                          0.3333333333333333,
                          "#9c179e"
                        ],
                        [
                          0.4444444444444444,
                          "#bd3786"
                        ],
                        [
                          0.5555555555555556,
                          "#d8576b"
                        ],
                        [
                          0.6666666666666666,
                          "#ed7953"
                        ],
                        [
                          0.7777777777777778,
                          "#fb9f3a"
                        ],
                        [
                          0.8888888888888888,
                          "#fdca26"
                        ],
                        [
                          1,
                          "#f0f921"
                        ]
                      ],
                      "sequentialminus": [
                        [
                          0,
                          "#0d0887"
                        ],
                        [
                          0.1111111111111111,
                          "#46039f"
                        ],
                        [
                          0.2222222222222222,
                          "#7201a8"
                        ],
                        [
                          0.3333333333333333,
                          "#9c179e"
                        ],
                        [
                          0.4444444444444444,
                          "#bd3786"
                        ],
                        [
                          0.5555555555555556,
                          "#d8576b"
                        ],
                        [
                          0.6666666666666666,
                          "#ed7953"
                        ],
                        [
                          0.7777777777777778,
                          "#fb9f3a"
                        ],
                        [
                          0.8888888888888888,
                          "#fdca26"
                        ],
                        [
                          1,
                          "#f0f921"
                        ]
                      ]
                    },
                    "colorway": [
                      "#636efa",
                      "#EF553B",
                      "#00cc96",
                      "#ab63fa",
                      "#FFA15A",
                      "#19d3f3",
                      "#FF6692",
                      "#B6E880",
                      "#FF97FF",
                      "#FECB52"
                    ],
                    "font": {
                      "color": "#2a3f5f"
                    },
                    "geo": {
                      "bgcolor": "white",
                      "lakecolor": "white",
                      "landcolor": "#E5ECF6",
                      "showlakes": true,
                      "showland": true,
                      "subunitcolor": "white"
                    },
                    "hoverlabel": {
                      "align": "left"
                    },
                    "hovermode": "closest",
                    "mapbox": {
                      "style": "light"
                    },
                    "paper_bgcolor": "white",
                    "plot_bgcolor": "#E5ECF6",
                    "polar": {
                      "angularaxis": {
                        "gridcolor": "white",
                        "linecolor": "white",
                        "ticks": ""
                      },
                      "bgcolor": "#E5ECF6",
                      "radialaxis": {
                        "gridcolor": "white",
                        "linecolor": "white",
                        "ticks": ""
                      }
                    },
                    "scene": {
                      "xaxis": {
                        "backgroundcolor": "#E5ECF6",
                        "gridcolor": "white",
                        "gridwidth": 2,
                        "linecolor": "white",
                        "showbackground": true,
                        "ticks": "",
                        "zerolinecolor": "white"
                      },
                      "yaxis": {
                        "backgroundcolor": "#E5ECF6",
                        "gridcolor": "white",
                        "gridwidth": 2,
                        "linecolor": "white",
                        "showbackground": true,
                        "ticks": "",
                        "zerolinecolor": "white"
                      },
                      "zaxis": {
                        "backgroundcolor": "#E5ECF6",
                        "gridcolor": "white",
                        "gridwidth": 2,
                        "linecolor": "white",
                        "showbackground": true,
                        "ticks": "",
                        "zerolinecolor": "white"
                      }
                    },
                    "shapedefaults": {
                      "line": {
                        "color": "#2a3f5f"
                      }
                    },
                    "ternary": {
                      "aaxis": {
                        "gridcolor": "white",
                        "linecolor": "white",
                        "ticks": ""
                      },
                      "baxis": {
                        "gridcolor": "white",
                        "linecolor": "white",
                        "ticks": ""
                      },
                      "bgcolor": "#E5ECF6",
                      "caxis": {
                        "gridcolor": "white",
                        "linecolor": "white",
                        "ticks": ""
                      }
                    },
                    "title": {
                      "x": 0.05
                    },
                    "xaxis": {
                      "automargin": true,
                      "gridcolor": "white",
                      "linecolor": "white",
                      "ticks": "",
                      "title": {
                        "standoff": 15
                      },
                      "zerolinecolor": "white",
                      "zerolinewidth": 2
                    },
                    "yaxis": {
                      "automargin": true,
                      "gridcolor": "white",
                      "linecolor": "white",
                      "ticks": "",
                      "title": {
                        "standoff": 15
                      },
                      "zerolinecolor": "white",
                      "zerolinewidth": 2
                    }
                  }
                }
              }
            }
          },
          "metadata": {},
          "output_type": "display_data"
        }
      ],
      "source": [
        "fig = px.choropleth(df_poblacion_mundial,locations='Code',color='2019',hover_name='paises',\n",
        "                    color_continuous_scale=px.colors.sequential.Plasma)\n",
        "fig.show()"
      ]
    }
  ],
  "metadata": {
    "colab": {
      "provenance": []
    },
    "kernelspec": {
      "display_name": "base",
      "language": "python",
      "name": "python3"
    },
    "language_info": {
      "codemirror_mode": {
        "name": "ipython",
        "version": 3
      },
      "file_extension": ".py",
      "mimetype": "text/x-python",
      "name": "python",
      "nbconvert_exporter": "python",
      "pygments_lexer": "ipython3",
      "version": "3.9.12"
    },
    "orig_nbformat": 4
  },
  "nbformat": 4,
  "nbformat_minor": 0
}
