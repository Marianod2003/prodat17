{
  "cells": [
    {
      "attachments": {},
      "cell_type": "markdown",
      "metadata": {
        "id": "eJa84QsWN6OU"
      },
      "source": [
        "### **tk-01**  Verificar que el archivo exista en la ruta espacificada"
      ]
    },
    {
      "cell_type": "code",
      "execution_count": 2,
      "metadata": {
        "id": "9b9r6_c5N6OX",
        "outputId": "f070201e-b544-4b78-a84a-661667632cab"
      },
      "outputs": [
        {
          "name": "stdout",
          "output_type": "stream",
          "text": [
            "El archivo existe en la ruta especificada.\n"
          ]
        }
      ],
      "source": [
        "import os\n",
        "\n",
        "ruta = \"./poblacion-mundial.csv\"\n",
        "\n",
        "if os.path.exists(ruta):\n",
        "    print(\"El archivo existe en la ruta especificada.\")\n",
        "else:\n",
        "    print(\"El archivo no existe en la ruta especificada.\")"
      ]
    },
    {
      "attachments": {},
      "cell_type": "markdown",
      "metadata": {
        "id": "I_9fhBTjN6Oa"
      },
      "source": [
        "### **tk-02** Cargar el archivo CSV en el DataFrame e importar librerías necesarias"
      ]
    },
    {
      "cell_type": "code",
      "execution_count": 3,
      "metadata": {
        "id": "s-Agjbz8N6Ob"
      },
      "outputs": [],
      "source": [
        "import pandas as pd\n",
        "import matplotlib.pyplot as plt\n",
        "import seaborn as sns\n",
        "\n",
        "df_poblacion_mundial = pd.read_csv(\"./poblacion-mundial.csv\")"
      ]
    },
    {
      "attachments": {},
      "cell_type": "markdown",
      "metadata": {},
      "source": [
        "tk-08 Obtener una lista con todos los países que figuran en el DataSet"
      ]
    },
    {
      "cell_type": "code",
      "execution_count": 4,
      "metadata": {},
      "outputs": [
        {
          "name": "stdout",
          "output_type": "stream",
          "text": [
            "Afghanistan\n",
            "Albania\n",
            "Algeria\n",
            "Andorra\n",
            "Angola\n",
            "Antigua and Barbuda\n",
            "Argentina\n",
            "Armenia\n",
            "Australia\n",
            "Austria\n",
            "Azerbaijan\n",
            "Bahamas\n",
            "Bahrain\n",
            "Bangladesh\n",
            "Barbados\n",
            "Belarus\n",
            "Belgium\n",
            "Belize\n",
            "Benin\n",
            "Bhutan\n",
            "Bolivia\n",
            "Bosnia and Herzegovina\n",
            "Botswana\n",
            "Brazil\n",
            "Brunei\n",
            "Bulgaria\n",
            "Burkina Faso\n",
            "Burundi\n",
            "Cambodia\n",
            "Cameroon\n",
            "Canada\n",
            "Cape Verde\n",
            "Central African Republic\n",
            "Chad\n",
            "Chile\n",
            "China\n",
            "Colombia\n",
            "Comoros\n",
            "Congo\n",
            "Costa Rica\n",
            "Cote d'Ivoire\n",
            "Croatia\n",
            "Cuba\n",
            "Cyprus\n",
            "Czechia\n",
            "Democratic Republic of Congo\n",
            "Denmark\n",
            "Djibouti\n",
            "Dominica\n",
            "Dominican Republic\n",
            "Ecuador\n",
            "Egypt\n",
            "El Salvador\n",
            "Equatorial Guinea\n",
            "Eritrea\n",
            "Estonia\n",
            "Eswatini\n",
            "Ethiopia\n",
            "Fiji\n",
            "Finland\n",
            "France\n",
            "Gabon\n",
            "Gambia\n",
            "Georgia\n",
            "Germany\n",
            "Ghana\n",
            "Greece\n",
            "Grenada\n",
            "Guatemala\n",
            "Guinea\n",
            "Guinea-Bissau\n",
            "Guyana\n",
            "Haiti\n",
            "Honduras\n",
            "Hong Kong\n",
            "Hungary\n",
            "Iceland\n",
            "India\n",
            "Indonesia\n",
            "Iran\n",
            "Iraq\n",
            "Ireland\n",
            "Israel\n",
            "Italy\n",
            "Jamaica\n",
            "Japan\n",
            "Jordan\n",
            "Kazakhstan\n",
            "Kenya\n",
            "Kiribati\n",
            "Kuwait\n",
            "Kyrgyzstan\n",
            "Laos\n",
            "Latvia\n",
            "Lebanon\n",
            "Lesotho\n",
            "Liberia\n",
            "Libya\n",
            "Liechtenstein\n",
            "Lithuania\n",
            "Luxembourg\n",
            "Madagascar\n",
            "Malawi\n",
            "Malaysia\n",
            "Maldives\n",
            "Mali\n",
            "Malta\n",
            "Marshall Islands\n",
            "Mauritania\n",
            "Mauritius\n",
            "Mexico\n",
            "Micronesia (country)\n",
            "Moldova\n",
            "Monaco\n",
            "Mongolia\n",
            "Montenegro\n",
            "Morocco\n",
            "Mozambique\n",
            "Myanmar\n",
            "Namibia\n",
            "Nauru\n",
            "Nepal\n",
            "Netherlands\n",
            "New Zealand\n",
            "Nicaragua\n",
            "Niger\n",
            "Nigeria\n",
            "North Korea\n",
            "North Macedonia\n",
            "Norway\n",
            "Oman\n",
            "Pakistan\n",
            "Palau\n",
            "Palestine\n",
            "Panama\n",
            "Papua New Guinea\n",
            "Paraguay\n",
            "Peru\n",
            "Philippines\n",
            "Poland\n",
            "Portugal\n",
            "Qatar\n",
            "Romania\n",
            "Russia\n",
            "Rwanda\n",
            "Saint Kitts and Nevis\n",
            "Saint Lucia\n",
            "Saint Vincent and the Grenadines\n",
            "Samoa\n",
            "San Marino\n",
            "Sao Tome and Principe\n",
            "Saudi Arabia\n",
            "Senegal\n",
            "Serbia\n",
            "Seychelles\n",
            "Sierra Leone\n",
            "Singapore\n",
            "Slovakia\n",
            "Slovenia\n",
            "Solomon Islands\n",
            "Somalia\n",
            "South Africa\n",
            "South Korea\n",
            "South Sudan\n",
            "Spain\n",
            "Sri Lanka\n",
            "Sudan\n",
            "Suriname\n",
            "Sweden\n",
            "Switzerland\n",
            "Syria\n",
            "Taiwan\n",
            "Tajikistan\n",
            "Tanzania\n",
            "Thailand\n",
            "Timor\n",
            "Togo\n",
            "Tonga\n",
            "Trinidad and Tobago\n",
            "Tunisia\n",
            "Turkey\n",
            "Turkmenistan\n",
            "Tuvalu\n",
            "Uganda\n",
            "Ukraine\n",
            "United Arab Emirates\n",
            "United Kingdom\n",
            "United States\n",
            "Uruguay\n",
            "Uzbekistan\n",
            "Vanuatu\n",
            "Vatican\n",
            "Venezuela\n",
            "Vietnam\n",
            "Yemen\n",
            "Zambia\n",
            "Zimbabwe\n"
          ]
        }
      ],
      "source": [
        "\n",
        "data = pd.read_csv(\"poblacion-mundial.csv\")\n",
        "# Obtener una lista de los países únicos\n",
        "lista_paises = data[\"Entity\"].unique()\n",
        "\n",
        "# Imprimir la lista de países\n",
        "for Entity in lista_paises:\n",
        "    print(Entity)"
      ]
    },
    {
      "attachments": {},
      "cell_type": "markdown",
      "metadata": {},
      "source": [
        "tk-03 Mostrar los primeros 5 países de la tabla"
      ]
    },
    {
      "cell_type": "code",
      "execution_count": 5,
      "metadata": {},
      "outputs": [
        {
          "name": "stdout",
          "output_type": "stream",
          "text": [
            "        Entity     1801     1802     1803     1804     1805     1806     1807  \\\n",
            "0  Afghanistan  3280000  3280000  3280000  3280000  3280000  3280000  3280000   \n",
            "1      Albania   411734   413026   414323   415624   416929   418237   419550   \n",
            "2      Algeria  2512195  2521203  2530245  2539318  2548424  2557563  2566734   \n",
            "3      Andorra     2654     2654     2654     2654     2654     2654     2654   \n",
            "4       Angola  1567028  1567028  1567028  1567028  1567028  1567028  1567028   \n",
            "\n",
            "      1808     1809  ...      2010      2011      2012      2013      2014  \\\n",
            "0  3280000  3280000  ...  29186000  30117000  31161000  32270000  33371000   \n",
            "1   420868   422189  ...   2948000   2929000   2914000   2904000   2896000   \n",
            "2  2575939  2585176  ...  35977000  36661000  37384000  38140000  38924000   \n",
            "3     2654     2654  ...     84000     84000     82000     81000     79000   \n",
            "4  1567028  1567028  ...  23356000  24221000  25108000  26016000  26942000   \n",
            "\n",
            "       2015      2016      2017      2018      2019  \n",
            "0  34414000  35383000  36296000  37172000  38042000  \n",
            "1   2891000   2886000   2884000   2883000   2881000  \n",
            "2  39728000  40551000  41389000  42228000  43053000  \n",
            "3     78000     77000     77000     77000     77000  \n",
            "4  27884000  28842000  29817000  30810000  31825000  \n",
            "\n",
            "[5 rows x 220 columns]\n"
          ]
        }
      ],
      "source": [
        "# Mostrar los primeros 5 países\n",
        "data = pd.read_csv(\"poblacion-mundial.csv\")\n",
        "primeros_paises = data.head(5)\n",
        "print(primeros_paises)\n"
      ]
    },
    {
      "attachments": {},
      "cell_type": "markdown",
      "metadata": {
        "id": "g6reWdSsOZ3u"
      },
      "source": [
        "#### **tk-07** Información del DataSet"
      ]
    },
    {
      "cell_type": "code",
      "execution_count": 6,
      "metadata": {
        "colab": {
          "base_uri": "https://localhost:8080/"
        },
        "id": "dYMypz63Oele",
        "outputId": "f506ef45-8638-4df6-db78-bcd00bb7e6e4"
      },
      "outputs": [
        {
          "data": {
            "text/plain": [
              "<bound method DataFrame.info of           Entity     1801     1802     1803     1804     1805     1806  \\\n",
              "0    Afghanistan  3280000  3280000  3280000  3280000  3280000  3280000   \n",
              "1        Albania   411734   413026   414323   415624   416929   418237   \n",
              "2        Algeria  2512195  2521203  2530245  2539318  2548424  2557563   \n",
              "3        Andorra     2654     2654     2654     2654     2654     2654   \n",
              "4         Angola  1567028  1567028  1567028  1567028  1567028  1567028   \n",
              "..           ...      ...      ...      ...      ...      ...      ...   \n",
              "192    Venezuela   718000   718000   718000   718000   718000   718000   \n",
              "193      Vietnam  6551000  6551000  6551000  6551000  6551000  6551000   \n",
              "194        Yemen  2593000  2593000  2593000  2593000  2593000  2593000   \n",
              "195       Zambia   747000   747000   747000   747000   747000   747000   \n",
              "196     Zimbabwe  1085814  1085814  1085814  1085814  1085814  1085814   \n",
              "\n",
              "        1807     1808     1809  ...      2010      2011      2012      2013  \\\n",
              "0    3280000  3280000  3280000  ...  29186000  30117000  31161000  32270000   \n",
              "1     419550   420868   422189  ...   2948000   2929000   2914000   2904000   \n",
              "2    2566734  2575939  2585176  ...  35977000  36661000  37384000  38140000   \n",
              "3       2654     2654     2654  ...     84000     84000     82000     81000   \n",
              "4    1567028  1567028  1567028  ...  23356000  24221000  25108000  26016000   \n",
              "..       ...      ...      ...  ...       ...       ...       ...       ...   \n",
              "192   718000   718000   718000  ...  28440000  28888000  29361000  29781000   \n",
              "193  6551000  6551000  6551000  ...  87968000  88871000  89802000  90753000   \n",
              "194  2593000  2593000  2593000  ...  23155000  23808000  24473000  25147000   \n",
              "195   747000   747000   747000  ...  13606000  14023000  14465000  14927000   \n",
              "196  1085814  1085814  1085814  ...  12698000  12894000  13115000  13350000   \n",
              "\n",
              "         2014      2015      2016      2017      2018      2019  \n",
              "0    33371000  34414000  35383000  36296000  37172000  38042000  \n",
              "1     2896000   2891000   2886000   2884000   2883000   2881000  \n",
              "2    38924000  39728000  40551000  41389000  42228000  43053000  \n",
              "3       79000     78000     77000     77000     77000     77000  \n",
              "4    26942000  27884000  28842000  29817000  30810000  31825000  \n",
              "..        ...       ...       ...       ...       ...       ...  \n",
              "192  30043000  30082000  29851000  29402000  28887000  28516000  \n",
              "193  91714000  92677000  93640000  94601000  95546000  96462000  \n",
              "194  25823000  26498000  27168000  27835000  28499000  29162000  \n",
              "195  15400000  15879000  16363000  16854000  17352000  17861000  \n",
              "196  13587000  13815000  14030000  14237000  14439000  14645000  \n",
              "\n",
              "[197 rows x 220 columns]>"
            ]
          },
          "execution_count": 6,
          "metadata": {},
          "output_type": "execute_result"
        }
      ],
      "source": [
        "df_poblacion_mundial.info"
      ]
    },
    {
      "cell_type": "code",
      "execution_count": 7,
      "metadata": {
        "colab": {
          "base_uri": "https://localhost:8080/",
          "height": 299
        },
        "id": "yVUDXdk0RFWt",
        "outputId": "6c2190a5-b836-4606-c12e-8d029a791caf"
      },
      "outputs": [
        {
          "data": {
            "text/html": [
              "<div>\n",
              "<style scoped>\n",
              "    .dataframe tbody tr th:only-of-type {\n",
              "        vertical-align: middle;\n",
              "    }\n",
              "\n",
              "    .dataframe tbody tr th {\n",
              "        vertical-align: top;\n",
              "    }\n",
              "\n",
              "    .dataframe thead th {\n",
              "        text-align: right;\n",
              "    }\n",
              "</style>\n",
              "<table border=\"1\" class=\"dataframe\">\n",
              "  <thead>\n",
              "    <tr style=\"text-align: right;\">\n",
              "      <th></th>\n",
              "      <th>Entity</th>\n",
              "      <th>1801</th>\n",
              "      <th>1802</th>\n",
              "      <th>1803</th>\n",
              "      <th>1804</th>\n",
              "      <th>1805</th>\n",
              "      <th>1806</th>\n",
              "      <th>1807</th>\n",
              "      <th>1808</th>\n",
              "      <th>1809</th>\n",
              "      <th>...</th>\n",
              "      <th>2010</th>\n",
              "      <th>2011</th>\n",
              "      <th>2012</th>\n",
              "      <th>2013</th>\n",
              "      <th>2014</th>\n",
              "      <th>2015</th>\n",
              "      <th>2016</th>\n",
              "      <th>2017</th>\n",
              "      <th>2018</th>\n",
              "      <th>2019</th>\n",
              "    </tr>\n",
              "  </thead>\n",
              "  <tbody>\n",
              "    <tr>\n",
              "      <th>0</th>\n",
              "      <td>Afghanistan</td>\n",
              "      <td>3280000</td>\n",
              "      <td>3280000</td>\n",
              "      <td>3280000</td>\n",
              "      <td>3280000</td>\n",
              "      <td>3280000</td>\n",
              "      <td>3280000</td>\n",
              "      <td>3280000</td>\n",
              "      <td>3280000</td>\n",
              "      <td>3280000</td>\n",
              "      <td>...</td>\n",
              "      <td>29186000</td>\n",
              "      <td>30117000</td>\n",
              "      <td>31161000</td>\n",
              "      <td>32270000</td>\n",
              "      <td>33371000</td>\n",
              "      <td>34414000</td>\n",
              "      <td>35383000</td>\n",
              "      <td>36296000</td>\n",
              "      <td>37172000</td>\n",
              "      <td>38042000</td>\n",
              "    </tr>\n",
              "    <tr>\n",
              "      <th>1</th>\n",
              "      <td>Albania</td>\n",
              "      <td>411734</td>\n",
              "      <td>413026</td>\n",
              "      <td>414323</td>\n",
              "      <td>415624</td>\n",
              "      <td>416929</td>\n",
              "      <td>418237</td>\n",
              "      <td>419550</td>\n",
              "      <td>420868</td>\n",
              "      <td>422189</td>\n",
              "      <td>...</td>\n",
              "      <td>2948000</td>\n",
              "      <td>2929000</td>\n",
              "      <td>2914000</td>\n",
              "      <td>2904000</td>\n",
              "      <td>2896000</td>\n",
              "      <td>2891000</td>\n",
              "      <td>2886000</td>\n",
              "      <td>2884000</td>\n",
              "      <td>2883000</td>\n",
              "      <td>2881000</td>\n",
              "    </tr>\n",
              "    <tr>\n",
              "      <th>2</th>\n",
              "      <td>Algeria</td>\n",
              "      <td>2512195</td>\n",
              "      <td>2521203</td>\n",
              "      <td>2530245</td>\n",
              "      <td>2539318</td>\n",
              "      <td>2548424</td>\n",
              "      <td>2557563</td>\n",
              "      <td>2566734</td>\n",
              "      <td>2575939</td>\n",
              "      <td>2585176</td>\n",
              "      <td>...</td>\n",
              "      <td>35977000</td>\n",
              "      <td>36661000</td>\n",
              "      <td>37384000</td>\n",
              "      <td>38140000</td>\n",
              "      <td>38924000</td>\n",
              "      <td>39728000</td>\n",
              "      <td>40551000</td>\n",
              "      <td>41389000</td>\n",
              "      <td>42228000</td>\n",
              "      <td>43053000</td>\n",
              "    </tr>\n",
              "    <tr>\n",
              "      <th>3</th>\n",
              "      <td>Andorra</td>\n",
              "      <td>2654</td>\n",
              "      <td>2654</td>\n",
              "      <td>2654</td>\n",
              "      <td>2654</td>\n",
              "      <td>2654</td>\n",
              "      <td>2654</td>\n",
              "      <td>2654</td>\n",
              "      <td>2654</td>\n",
              "      <td>2654</td>\n",
              "      <td>...</td>\n",
              "      <td>84000</td>\n",
              "      <td>84000</td>\n",
              "      <td>82000</td>\n",
              "      <td>81000</td>\n",
              "      <td>79000</td>\n",
              "      <td>78000</td>\n",
              "      <td>77000</td>\n",
              "      <td>77000</td>\n",
              "      <td>77000</td>\n",
              "      <td>77000</td>\n",
              "    </tr>\n",
              "    <tr>\n",
              "      <th>4</th>\n",
              "      <td>Angola</td>\n",
              "      <td>1567028</td>\n",
              "      <td>1567028</td>\n",
              "      <td>1567028</td>\n",
              "      <td>1567028</td>\n",
              "      <td>1567028</td>\n",
              "      <td>1567028</td>\n",
              "      <td>1567028</td>\n",
              "      <td>1567028</td>\n",
              "      <td>1567028</td>\n",
              "      <td>...</td>\n",
              "      <td>23356000</td>\n",
              "      <td>24221000</td>\n",
              "      <td>25108000</td>\n",
              "      <td>26016000</td>\n",
              "      <td>26942000</td>\n",
              "      <td>27884000</td>\n",
              "      <td>28842000</td>\n",
              "      <td>29817000</td>\n",
              "      <td>30810000</td>\n",
              "      <td>31825000</td>\n",
              "    </tr>\n",
              "  </tbody>\n",
              "</table>\n",
              "<p>5 rows × 220 columns</p>\n",
              "</div>"
            ],
            "text/plain": [
              "        Entity     1801     1802     1803     1804     1805     1806     1807  \\\n",
              "0  Afghanistan  3280000  3280000  3280000  3280000  3280000  3280000  3280000   \n",
              "1      Albania   411734   413026   414323   415624   416929   418237   419550   \n",
              "2      Algeria  2512195  2521203  2530245  2539318  2548424  2557563  2566734   \n",
              "3      Andorra     2654     2654     2654     2654     2654     2654     2654   \n",
              "4       Angola  1567028  1567028  1567028  1567028  1567028  1567028  1567028   \n",
              "\n",
              "      1808     1809  ...      2010      2011      2012      2013      2014  \\\n",
              "0  3280000  3280000  ...  29186000  30117000  31161000  32270000  33371000   \n",
              "1   420868   422189  ...   2948000   2929000   2914000   2904000   2896000   \n",
              "2  2575939  2585176  ...  35977000  36661000  37384000  38140000  38924000   \n",
              "3     2654     2654  ...     84000     84000     82000     81000     79000   \n",
              "4  1567028  1567028  ...  23356000  24221000  25108000  26016000  26942000   \n",
              "\n",
              "       2015      2016      2017      2018      2019  \n",
              "0  34414000  35383000  36296000  37172000  38042000  \n",
              "1   2891000   2886000   2884000   2883000   2881000  \n",
              "2  39728000  40551000  41389000  42228000  43053000  \n",
              "3     78000     77000     77000     77000     77000  \n",
              "4  27884000  28842000  29817000  30810000  31825000  \n",
              "\n",
              "[5 rows x 220 columns]"
            ]
          },
          "execution_count": 7,
          "metadata": {},
          "output_type": "execute_result"
        }
      ],
      "source": [
        "#Obtener resumen de 5 filas del dataframe\n",
        "df_poblacion_mundial.head()"
      ]
    },
    {
      "cell_type": "code",
      "execution_count": 8,
      "metadata": {
        "colab": {
          "base_uri": "https://localhost:8080/",
          "height": 393
        },
        "id": "vOPmZiZ3Wyta",
        "outputId": "5f22f529-629b-4f2d-8809-c730039e7c11"
      },
      "outputs": [
        {
          "data": {
            "text/html": [
              "<div>\n",
              "<style scoped>\n",
              "    .dataframe tbody tr th:only-of-type {\n",
              "        vertical-align: middle;\n",
              "    }\n",
              "\n",
              "    .dataframe tbody tr th {\n",
              "        vertical-align: top;\n",
              "    }\n",
              "\n",
              "    .dataframe thead th {\n",
              "        text-align: right;\n",
              "    }\n",
              "</style>\n",
              "<table border=\"1\" class=\"dataframe\">\n",
              "  <thead>\n",
              "    <tr style=\"text-align: right;\">\n",
              "      <th></th>\n",
              "      <th>1801</th>\n",
              "      <th>1802</th>\n",
              "      <th>1803</th>\n",
              "      <th>1804</th>\n",
              "      <th>1805</th>\n",
              "      <th>1806</th>\n",
              "      <th>1807</th>\n",
              "      <th>1808</th>\n",
              "      <th>1809</th>\n",
              "      <th>1810</th>\n",
              "      <th>...</th>\n",
              "      <th>2010</th>\n",
              "      <th>2011</th>\n",
              "      <th>2012</th>\n",
              "      <th>2013</th>\n",
              "      <th>2014</th>\n",
              "      <th>2015</th>\n",
              "      <th>2016</th>\n",
              "      <th>2017</th>\n",
              "      <th>2018</th>\n",
              "      <th>2019</th>\n",
              "    </tr>\n",
              "  </thead>\n",
              "  <tbody>\n",
              "    <tr>\n",
              "      <th>count</th>\n",
              "      <td>1.970000e+02</td>\n",
              "      <td>1.970000e+02</td>\n",
              "      <td>1.970000e+02</td>\n",
              "      <td>1.970000e+02</td>\n",
              "      <td>1.970000e+02</td>\n",
              "      <td>1.970000e+02</td>\n",
              "      <td>1.970000e+02</td>\n",
              "      <td>1.970000e+02</td>\n",
              "      <td>1.970000e+02</td>\n",
              "      <td>1.970000e+02</td>\n",
              "      <td>...</td>\n",
              "      <td>1.970000e+02</td>\n",
              "      <td>1.970000e+02</td>\n",
              "      <td>1.970000e+02</td>\n",
              "      <td>1.970000e+02</td>\n",
              "      <td>1.970000e+02</td>\n",
              "      <td>1.970000e+02</td>\n",
              "      <td>1.970000e+02</td>\n",
              "      <td>1.970000e+02</td>\n",
              "      <td>1.970000e+02</td>\n",
              "      <td>1.970000e+02</td>\n",
              "    </tr>\n",
              "    <tr>\n",
              "      <th>mean</th>\n",
              "      <td>4.837408e+06</td>\n",
              "      <td>4.858826e+06</td>\n",
              "      <td>4.880457e+06</td>\n",
              "      <td>4.902266e+06</td>\n",
              "      <td>4.924243e+06</td>\n",
              "      <td>4.946375e+06</td>\n",
              "      <td>4.968646e+06</td>\n",
              "      <td>4.991054e+06</td>\n",
              "      <td>5.013560e+06</td>\n",
              "      <td>5.040095e+06</td>\n",
              "      <td>...</td>\n",
              "      <td>3.527043e+07</td>\n",
              "      <td>3.569857e+07</td>\n",
              "      <td>3.612807e+07</td>\n",
              "      <td>3.655824e+07</td>\n",
              "      <td>3.698820e+07</td>\n",
              "      <td>3.741725e+07</td>\n",
              "      <td>3.784502e+07</td>\n",
              "      <td>3.827091e+07</td>\n",
              "      <td>3.869377e+07</td>\n",
              "      <td>3.911220e+07</td>\n",
              "    </tr>\n",
              "    <tr>\n",
              "      <th>std</th>\n",
              "      <td>2.624999e+07</td>\n",
              "      <td>2.643363e+07</td>\n",
              "      <td>2.661897e+07</td>\n",
              "      <td>2.680602e+07</td>\n",
              "      <td>2.699480e+07</td>\n",
              "      <td>2.718532e+07</td>\n",
              "      <td>2.737761e+07</td>\n",
              "      <td>2.757167e+07</td>\n",
              "      <td>2.776753e+07</td>\n",
              "      <td>2.799480e+07</td>\n",
              "      <td>...</td>\n",
              "      <td>1.353020e+08</td>\n",
              "      <td>1.365382e+08</td>\n",
              "      <td>1.377560e+08</td>\n",
              "      <td>1.389560e+08</td>\n",
              "      <td>1.401392e+08</td>\n",
              "      <td>1.413059e+08</td>\n",
              "      <td>1.424561e+08</td>\n",
              "      <td>1.435872e+08</td>\n",
              "      <td>1.446934e+08</td>\n",
              "      <td>1.457677e+08</td>\n",
              "    </tr>\n",
              "    <tr>\n",
              "      <th>min</th>\n",
              "      <td>9.050000e+02</td>\n",
              "      <td>9.050000e+02</td>\n",
              "      <td>9.050000e+02</td>\n",
              "      <td>9.050000e+02</td>\n",
              "      <td>9.050000e+02</td>\n",
              "      <td>9.050000e+02</td>\n",
              "      <td>9.050000e+02</td>\n",
              "      <td>9.050000e+02</td>\n",
              "      <td>9.050000e+02</td>\n",
              "      <td>9.050000e+02</td>\n",
              "      <td>...</td>\n",
              "      <td>1.000000e+03</td>\n",
              "      <td>1.000000e+03</td>\n",
              "      <td>1.000000e+03</td>\n",
              "      <td>1.000000e+03</td>\n",
              "      <td>1.000000e+03</td>\n",
              "      <td>1.000000e+03</td>\n",
              "      <td>1.000000e+03</td>\n",
              "      <td>1.000000e+03</td>\n",
              "      <td>1.000000e+03</td>\n",
              "      <td>1.000000e+03</td>\n",
              "    </tr>\n",
              "    <tr>\n",
              "      <th>25%</th>\n",
              "      <td>1.032740e+05</td>\n",
              "      <td>1.032740e+05</td>\n",
              "      <td>1.032740e+05</td>\n",
              "      <td>1.032740e+05</td>\n",
              "      <td>1.032740e+05</td>\n",
              "      <td>1.032740e+05</td>\n",
              "      <td>1.032740e+05</td>\n",
              "      <td>1.032740e+05</td>\n",
              "      <td>1.032740e+05</td>\n",
              "      <td>1.032740e+05</td>\n",
              "      <td>...</td>\n",
              "      <td>1.793000e+06</td>\n",
              "      <td>1.848000e+06</td>\n",
              "      <td>1.905000e+06</td>\n",
              "      <td>1.964000e+06</td>\n",
              "      <td>2.021000e+06</td>\n",
              "      <td>1.998000e+06</td>\n",
              "      <td>2.008000e+06</td>\n",
              "      <td>2.065000e+06</td>\n",
              "      <td>2.078000e+06</td>\n",
              "      <td>2.079000e+06</td>\n",
              "    </tr>\n",
              "    <tr>\n",
              "      <th>50%</th>\n",
              "      <td>7.125580e+05</td>\n",
              "      <td>7.125580e+05</td>\n",
              "      <td>7.125580e+05</td>\n",
              "      <td>7.125580e+05</td>\n",
              "      <td>7.125580e+05</td>\n",
              "      <td>7.125580e+05</td>\n",
              "      <td>7.125580e+05</td>\n",
              "      <td>7.125580e+05</td>\n",
              "      <td>7.173200e+05</td>\n",
              "      <td>7.180000e+05</td>\n",
              "      <td>...</td>\n",
              "      <td>7.425000e+06</td>\n",
              "      <td>7.663000e+06</td>\n",
              "      <td>7.875000e+06</td>\n",
              "      <td>8.060000e+06</td>\n",
              "      <td>8.206000e+06</td>\n",
              "      <td>8.297000e+06</td>\n",
              "      <td>8.380000e+06</td>\n",
              "      <td>8.456000e+06</td>\n",
              "      <td>8.606000e+06</td>\n",
              "      <td>8.772000e+06</td>\n",
              "    </tr>\n",
              "    <tr>\n",
              "      <th>75%</th>\n",
              "      <td>2.101397e+06</td>\n",
              "      <td>2.101397e+06</td>\n",
              "      <td>2.101397e+06</td>\n",
              "      <td>2.101397e+06</td>\n",
              "      <td>2.101397e+06</td>\n",
              "      <td>2.101397e+06</td>\n",
              "      <td>2.101397e+06</td>\n",
              "      <td>2.101397e+06</td>\n",
              "      <td>2.101397e+06</td>\n",
              "      <td>2.101397e+06</td>\n",
              "      <td>...</td>\n",
              "      <td>2.335600e+07</td>\n",
              "      <td>2.418800e+07</td>\n",
              "      <td>2.480100e+07</td>\n",
              "      <td>2.514700e+07</td>\n",
              "      <td>2.582300e+07</td>\n",
              "      <td>2.649800e+07</td>\n",
              "      <td>2.716800e+07</td>\n",
              "      <td>2.763300e+07</td>\n",
              "      <td>2.809600e+07</td>\n",
              "      <td>2.851600e+07</td>\n",
              "    </tr>\n",
              "    <tr>\n",
              "      <th>max</th>\n",
              "      <td>3.244089e+08</td>\n",
              "      <td>3.271660e+08</td>\n",
              "      <td>3.299465e+08</td>\n",
              "      <td>3.327506e+08</td>\n",
              "      <td>3.355786e+08</td>\n",
              "      <td>3.384306e+08</td>\n",
              "      <td>3.413068e+08</td>\n",
              "      <td>3.442076e+08</td>\n",
              "      <td>3.471329e+08</td>\n",
              "      <td>3.505429e+08</td>\n",
              "      <td>...</td>\n",
              "      <td>1.368811e+09</td>\n",
              "      <td>1.376498e+09</td>\n",
              "      <td>1.384206e+09</td>\n",
              "      <td>1.391883e+09</td>\n",
              "      <td>1.399454e+09</td>\n",
              "      <td>1.406848e+09</td>\n",
              "      <td>1.414049e+09</td>\n",
              "      <td>1.421022e+09</td>\n",
              "      <td>1.427648e+09</td>\n",
              "      <td>1.433784e+09</td>\n",
              "    </tr>\n",
              "  </tbody>\n",
              "</table>\n",
              "<p>8 rows × 219 columns</p>\n",
              "</div>"
            ],
            "text/plain": [
              "               1801          1802          1803          1804          1805  \\\n",
              "count  1.970000e+02  1.970000e+02  1.970000e+02  1.970000e+02  1.970000e+02   \n",
              "mean   4.837408e+06  4.858826e+06  4.880457e+06  4.902266e+06  4.924243e+06   \n",
              "std    2.624999e+07  2.643363e+07  2.661897e+07  2.680602e+07  2.699480e+07   \n",
              "min    9.050000e+02  9.050000e+02  9.050000e+02  9.050000e+02  9.050000e+02   \n",
              "25%    1.032740e+05  1.032740e+05  1.032740e+05  1.032740e+05  1.032740e+05   \n",
              "50%    7.125580e+05  7.125580e+05  7.125580e+05  7.125580e+05  7.125580e+05   \n",
              "75%    2.101397e+06  2.101397e+06  2.101397e+06  2.101397e+06  2.101397e+06   \n",
              "max    3.244089e+08  3.271660e+08  3.299465e+08  3.327506e+08  3.355786e+08   \n",
              "\n",
              "               1806          1807          1808          1809          1810  \\\n",
              "count  1.970000e+02  1.970000e+02  1.970000e+02  1.970000e+02  1.970000e+02   \n",
              "mean   4.946375e+06  4.968646e+06  4.991054e+06  5.013560e+06  5.040095e+06   \n",
              "std    2.718532e+07  2.737761e+07  2.757167e+07  2.776753e+07  2.799480e+07   \n",
              "min    9.050000e+02  9.050000e+02  9.050000e+02  9.050000e+02  9.050000e+02   \n",
              "25%    1.032740e+05  1.032740e+05  1.032740e+05  1.032740e+05  1.032740e+05   \n",
              "50%    7.125580e+05  7.125580e+05  7.125580e+05  7.173200e+05  7.180000e+05   \n",
              "75%    2.101397e+06  2.101397e+06  2.101397e+06  2.101397e+06  2.101397e+06   \n",
              "max    3.384306e+08  3.413068e+08  3.442076e+08  3.471329e+08  3.505429e+08   \n",
              "\n",
              "       ...          2010          2011          2012          2013  \\\n",
              "count  ...  1.970000e+02  1.970000e+02  1.970000e+02  1.970000e+02   \n",
              "mean   ...  3.527043e+07  3.569857e+07  3.612807e+07  3.655824e+07   \n",
              "std    ...  1.353020e+08  1.365382e+08  1.377560e+08  1.389560e+08   \n",
              "min    ...  1.000000e+03  1.000000e+03  1.000000e+03  1.000000e+03   \n",
              "25%    ...  1.793000e+06  1.848000e+06  1.905000e+06  1.964000e+06   \n",
              "50%    ...  7.425000e+06  7.663000e+06  7.875000e+06  8.060000e+06   \n",
              "75%    ...  2.335600e+07  2.418800e+07  2.480100e+07  2.514700e+07   \n",
              "max    ...  1.368811e+09  1.376498e+09  1.384206e+09  1.391883e+09   \n",
              "\n",
              "               2014          2015          2016          2017          2018  \\\n",
              "count  1.970000e+02  1.970000e+02  1.970000e+02  1.970000e+02  1.970000e+02   \n",
              "mean   3.698820e+07  3.741725e+07  3.784502e+07  3.827091e+07  3.869377e+07   \n",
              "std    1.401392e+08  1.413059e+08  1.424561e+08  1.435872e+08  1.446934e+08   \n",
              "min    1.000000e+03  1.000000e+03  1.000000e+03  1.000000e+03  1.000000e+03   \n",
              "25%    2.021000e+06  1.998000e+06  2.008000e+06  2.065000e+06  2.078000e+06   \n",
              "50%    8.206000e+06  8.297000e+06  8.380000e+06  8.456000e+06  8.606000e+06   \n",
              "75%    2.582300e+07  2.649800e+07  2.716800e+07  2.763300e+07  2.809600e+07   \n",
              "max    1.399454e+09  1.406848e+09  1.414049e+09  1.421022e+09  1.427648e+09   \n",
              "\n",
              "               2019  \n",
              "count  1.970000e+02  \n",
              "mean   3.911220e+07  \n",
              "std    1.457677e+08  \n",
              "min    1.000000e+03  \n",
              "25%    2.079000e+06  \n",
              "50%    8.772000e+06  \n",
              "75%    2.851600e+07  \n",
              "max    1.433784e+09  \n",
              "\n",
              "[8 rows x 219 columns]"
            ]
          },
          "execution_count": 8,
          "metadata": {},
          "output_type": "execute_result"
        }
      ],
      "source": [
        "#Obtener información estadística del dataframe de los años\n",
        "df_poblacion_mundial.describe()"
      ]
    },
    {
      "attachments": {},
      "cell_type": "markdown",
      "metadata": {
        "id": "nX9zQIqzN6Ob"
      },
      "source": [
        "#### **tk-9** Obtener la población de un país en un año determinado"
      ]
    },
    {
      "cell_type": "code",
      "execution_count": 9,
      "metadata": {
        "colab": {
          "base_uri": "https://localhost:8080/"
        },
        "id": "jQaezzfgN6Ob",
        "outputId": "5914aceb-9026-43ea-83eb-f76e0fa148f1"
      },
      "outputs": [
        {
          "name": "stdout",
          "output_type": "stream",
          "text": [
            "Poblacion de  Rwanda en el año  2019: 12627000\n"
          ]
        }
      ],
      "source": [
        "pais_consulta = 'Rwanda'\n",
        "anio_consulta = '2019'\n",
        "poblacion = df_poblacion_mundial.loc[df_poblacion_mundial['Entity'] == pais_consulta,\n",
        "anio_consulta].values[0]\n",
        "print(\"Poblacion de \", pais_consulta, \"en el año \", anio_consulta + \":\", poblacion)"
      ]
    },
    {
      "attachments": {},
      "cell_type": "markdown",
      "metadata": {
        "id": "gS_gE-_LN6Ob"
      },
      "source": [
        "#### **tk-10** Podemos seleccionar un subconjunto de países de interés para analizar y trazar la población a lo largo de los años utilizando un gráfico de líneas. Aquí podemos comparar las tendencias de población entre diferentes países de forma más clara."
      ]
    },
    {
      "cell_type": "code",
      "execution_count": 10,
      "metadata": {
        "colab": {
          "base_uri": "https://localhost:8080/",
          "height": 565
        },
        "id": "pYF0Kbx2N6Oc",
        "outputId": "0f077a92-39d8-4366-f5ea-97a1b62b47da"
      },
      "outputs": [
        {
          "data": {
            "image/png": "[encoded data removed]",
            "text/plain": [
              "<Figure size 1000x600 with 1 Axes>"
            ]
          },
          "metadata": {},
          "output_type": "display_data"
        }
      ],
      "source": [
        "# Seleccionamos los países que queremos analizar\n",
        "paises_interesantes = ['Argentina', 'China', 'Serbia', 'India', 'Mexico', 'Tajikistan']\n",
        "\n",
        "# Filtramos el DataFrame para incluir solo los países de interés\n",
        "df_interes = df_poblacion_mundial[df_poblacion_mundial['Entity'].isin(paises_interesantes)]\n",
        "\n",
        "# Transponemos el DataFrame para que los años sean las columnas y los países sean las filas\n",
        "df_interes = df_interes.set_index('Entity').T\n",
        "\n",
        "# Creamos el gráfico de líneas\n",
        "df_interes.plot(kind='line', figsize=(10, 6))\n",
        "plt.xlabel('Año')\n",
        "plt.ylabel('Población (millones)')\n",
        "plt.title('Población mundial por país')\n",
        "plt.legend(loc='best')\n",
        "plt.show()"
      ]
    },
    {
      "attachments": {},
      "cell_type": "markdown",
      "metadata": {},
      "source": [
        "#### Obtener una lista con los 20 países con mayor población en 2019"
      ]
    },
    {
      "cell_type": "code",
      "execution_count": 11,
      "metadata": {},
      "outputs": [
        {
          "name": "stdout",
          "output_type": "stream",
          "text": [
            "                             País   Población\n",
            "35                          China  1433784064\n",
            "77                          India  1366418048\n",
            "187                 United States   329064992\n",
            "78                      Indonesia   270625984\n",
            "131                      Pakistan   216564992\n",
            "23                         Brazil   211050000\n",
            "126                       Nigeria   200964000\n",
            "13                     Bangladesh   163046000\n",
            "143                        Russia   145872000\n",
            "110                        Mexico   127576000\n",
            "85                          Japan   126860000\n",
            "57                       Ethiopia   112079000\n",
            "138                   Philippines   108117000\n",
            "51                          Egypt   100388000\n",
            "193                       Vietnam    96462000\n",
            "45   Democratic Republic of Congo    86791000\n",
            "64                        Germany    83517000\n",
            "180                        Turkey    83430000\n",
            "79                           Iran    82914000\n",
            "174                      Thailand    69626000\n"
          ]
        }
      ],
      "source": [
        "# Año a consultar\n",
        "anio_consulta = 2019\n",
        "\n",
        "# Filtrar los 20 países con mayor población en el año consultado\n",
        "top_20_paises = df_poblacion_mundial[['Entity', str(anio_consulta)]].nlargest(20, str(anio_consulta), keep='first')\n",
        "\n",
        "# Renombrar las columnas\n",
        "top_20_paises.columns = ['País', 'Población']\n",
        "\n",
        "# Imprimir el resultado\n",
        "print(top_20_paises)"
      ]
    },
    {
      "attachments": {},
      "cell_type": "markdown",
      "metadata": {
        "id": "y67CyOP4PLq6"
      },
      "source": [
        "#### **tk-11** Gráfico de barras de la población en 2019 de los 20 Países con mas población de ese año"
      ]
    },
    {
      "cell_type": "code",
      "execution_count": 12,
      "metadata": {
        "colab": {
          "base_uri": "https://localhost:8080/"
        },
        "id": "oUp1X-LCPbl4",
        "outputId": "85a418dc-3f46-4363-e117-1df0b74b26ba"
      },
      "outputs": [
        {
          "data": {
            "image/png": "[encoded data removed]",
            "text/plain": [
              "<Figure size 1200x600 with 1 Axes>"
            ]
          },
          "metadata": {},
          "output_type": "display_data"
        }
      ],
      "source": [
        "# Filtrar los 20 países con mayor población en el año consultado\n",
        "top_20_paises = df_poblacion_mundial[['Entity', str(anio_consulta)]].nlargest(20, str(anio_consulta), keep='first')\n",
        "\n",
        "# Configurar el estilo de Seaborn\n",
        "sns.set(style=\"whitegrid\")\n",
        "\n",
        "# Crear el gráfico de barras utilizando Seaborn\n",
        "plt.figure(figsize=(12, 6))\n",
        "ax = sns.barplot(x='Entity', y=str(anio_consulta), data=top_20_paises)\n",
        "\n",
        "# Configurar el título y las etiquetas de los ejes\n",
        "plt.title('Top 20 países con mayor población en {}'.format(anio_consulta))\n",
        "plt.xlabel('Países')\n",
        "plt.ylabel('Población')\n",
        "\n",
        "# Rotar las etiquetas del eje x para una mejor legibilidad\n",
        "ax.set_xticklabels(ax.get_xticklabels(), rotation=45, ha='right')\n",
        "\n",
        "# Mostrar el gráfico de barras\n",
        "plt.tight_layout()\n",
        "plt.show()"
      ]
    },
    {
      "attachments": {},
      "cell_type": "markdown",
      "metadata": {
        "id": "SPV391D7N6Oc"
      },
      "source": [
        "#### **tk-12** Gráfico de barras de la población en 1801 de los 20 Países con mas población de ese año"
      ]
    },
    {
      "cell_type": "code",
      "execution_count": 13,
      "metadata": {
        "colab": {
          "base_uri": "https://localhost:8080/",
          "height": 624
        },
        "id": "Jj3x1yMlN6Oc",
        "outputId": "e0a8fb13-a0cb-4f41-b7b3-9fafb24fd7d5"
      },
      "outputs": [
        {
          "data": {
            "image/png": "[encoded data removed]",
            "text/plain": [
              "<Figure size 1400x600 with 1 Axes>"
            ]
          },
          "metadata": {},
          "output_type": "display_data"
        }
      ],
      "source": [
        "# Seleccionamos una columna\n",
        "poblacion_1850 = df_poblacion_mundial['1801']\n",
        "\n",
        "# Ordenamos los datos por la columna seleccionada\n",
        "datos_ordenados = df_poblacion_mundial.sort_values('1850', ascending=False)\n",
        "\n",
        "# Tomamos los primeros 20 países\n",
        "datos_filtrados = datos_ordenados.head(20)\n",
        "\n",
        "plt.figure(figsize=(14, 6))  # Ajustamos el tamaño del lienzo según nuestras necesidades\n",
        "\n",
        "sns.barplot(x='Entity', y='1850', data=datos_filtrados)\n",
        "plt.xlabel('Países')\n",
        "plt.ylabel('Población')\n",
        "plt.title('Gráfico de barras con datos filtrados')\n",
        "plt.xticks(rotation=90)  # Rotamos las etiquetas del eje x para una mejor legibilidad\n",
        "plt.show()\n",
        "\n",
        "\n"
      ]
    },
    {
      "attachments": {},
      "cell_type": "markdown",
      "metadata": {
        "id": "hMjfrz9EN6Oc"
      },
      "source": [
        "#### **tk-13** Mostrar la población total mundial en un año determinado"
      ]
    },
    {
      "cell_type": "code",
      "execution_count": 14,
      "metadata": {
        "colab": {
          "base_uri": "https://localhost:8080/"
        },
        "id": "gEQZEH31N6Od",
        "outputId": "d49f472b-c259-4976-b692-62d9979b05e7"
      },
      "outputs": [
        {
          "name": "stdout",
          "output_type": "stream",
          "text": [
            "Población mundial en 2000 : 6135502040\n"
          ]
        }
      ],
      "source": [
        "# Obtener la población mundial total en un año determinado\n",
        "anio_determinado = '2000'  # Cambiar al año deseado\n",
        "poblacion_determinada = df_poblacion_mundial[anio_determinado].sum()\n",
        "print(\"Población mundial en\", anio_determinado, \":\", poblacion_determinada)"
      ]
    },
    {
      "attachments": {},
      "cell_type": "markdown",
      "metadata": {
        "id": "HsPfyWc_N6Od"
      },
      "source": [
        "#### **tk-14** Mostrar la población mundial total del año mas reciente y comparar con la mas antigua"
      ]
    },
    {
      "cell_type": "code",
      "execution_count": 15,
      "metadata": {
        "colab": {
          "base_uri": "https://localhost:8080/"
        },
        "id": "lD4ythPtN6Od",
        "outputId": "bf12e7e8-d664-4449-c11e-4d1e75a2a64d"
      },
      "outputs": [
        {
          "name": "stdout",
          "output_type": "stream",
          "text": [
            "Población mundial 2019: 7705103080\n",
            "Población mundial 1801: 952969356\n",
            "Diferencia de población entre 1801 y 2019 es de 6752133724\n"
          ]
        }
      ],
      "source": [
        "# Obtener la población mundial total del año más reciente\n",
        "ultimo_anio = df_poblacion_mundial.columns[-1]\n",
        "poblacion_actual = df_poblacion_mundial[ultimo_anio].sum()\n",
        "print(\"Población mundial 2019:\", poblacion_actual)\n",
        "\n",
        "# Obtener la población mundial total del año más antiguo\n",
        "primer_anio = df_poblacion_mundial.columns[1]\n",
        "poblacion_antigua = df_poblacion_mundial[primer_anio].sum()\n",
        "print(\"Población mundial 1801:\", poblacion_antigua)\n",
        "print(\"Diferencia de población entre 1801 y 2019 es de\", poblacion_actual-poblacion_antigua)"
      ]
    },
    {
      "attachments": {},
      "cell_type": "markdown",
      "metadata": {},
      "source": [
        "#### **tk-15** Renombrar columna de paises"
      ]
    },
    {
      "cell_type": "code",
      "execution_count": 16,
      "metadata": {},
      "outputs": [
        {
          "data": {
            "text/html": [
              "<div>\n",
              "<style scoped>\n",
              "    .dataframe tbody tr th:only-of-type {\n",
              "        vertical-align: middle;\n",
              "    }\n",
              "\n",
              "    .dataframe tbody tr th {\n",
              "        vertical-align: top;\n",
              "    }\n",
              "\n",
              "    .dataframe thead th {\n",
              "        text-align: right;\n",
              "    }\n",
              "</style>\n",
              "<table border=\"1\" class=\"dataframe\">\n",
              "  <thead>\n",
              "    <tr style=\"text-align: right;\">\n",
              "      <th></th>\n",
              "      <th>paises</th>\n",
              "      <th>1801</th>\n",
              "      <th>1802</th>\n",
              "      <th>1803</th>\n",
              "      <th>1804</th>\n",
              "      <th>1805</th>\n",
              "      <th>1806</th>\n",
              "      <th>1807</th>\n",
              "      <th>1808</th>\n",
              "      <th>1809</th>\n",
              "      <th>...</th>\n",
              "      <th>2010</th>\n",
              "      <th>2011</th>\n",
              "      <th>2012</th>\n",
              "      <th>2013</th>\n",
              "      <th>2014</th>\n",
              "      <th>2015</th>\n",
              "      <th>2016</th>\n",
              "      <th>2017</th>\n",
              "      <th>2018</th>\n",
              "      <th>2019</th>\n",
              "    </tr>\n",
              "  </thead>\n",
              "  <tbody>\n",
              "    <tr>\n",
              "      <th>38</th>\n",
              "      <td>Congo</td>\n",
              "      <td>314465</td>\n",
              "      <td>314465</td>\n",
              "      <td>314465</td>\n",
              "      <td>314465</td>\n",
              "      <td>314465</td>\n",
              "      <td>314465</td>\n",
              "      <td>314465</td>\n",
              "      <td>314465</td>\n",
              "      <td>314465</td>\n",
              "      <td>...</td>\n",
              "      <td>4274000</td>\n",
              "      <td>4395000</td>\n",
              "      <td>4510000</td>\n",
              "      <td>4623000</td>\n",
              "      <td>4737000</td>\n",
              "      <td>4856000</td>\n",
              "      <td>4981000</td>\n",
              "      <td>5111000</td>\n",
              "      <td>5244000</td>\n",
              "      <td>5381000</td>\n",
              "    </tr>\n",
              "    <tr>\n",
              "      <th>91</th>\n",
              "      <td>Kyrgyzstan</td>\n",
              "      <td>530343</td>\n",
              "      <td>530343</td>\n",
              "      <td>530343</td>\n",
              "      <td>530343</td>\n",
              "      <td>530343</td>\n",
              "      <td>530343</td>\n",
              "      <td>530343</td>\n",
              "      <td>530343</td>\n",
              "      <td>530343</td>\n",
              "      <td>...</td>\n",
              "      <td>5422000</td>\n",
              "      <td>5518000</td>\n",
              "      <td>5622000</td>\n",
              "      <td>5731000</td>\n",
              "      <td>5845000</td>\n",
              "      <td>5959000</td>\n",
              "      <td>6074000</td>\n",
              "      <td>6190000</td>\n",
              "      <td>6304000</td>\n",
              "      <td>6416000</td>\n",
              "    </tr>\n",
              "    <tr>\n",
              "      <th>193</th>\n",
              "      <td>Vietnam</td>\n",
              "      <td>6551000</td>\n",
              "      <td>6551000</td>\n",
              "      <td>6551000</td>\n",
              "      <td>6551000</td>\n",
              "      <td>6551000</td>\n",
              "      <td>6551000</td>\n",
              "      <td>6551000</td>\n",
              "      <td>6551000</td>\n",
              "      <td>6551000</td>\n",
              "      <td>...</td>\n",
              "      <td>87968000</td>\n",
              "      <td>88871000</td>\n",
              "      <td>89802000</td>\n",
              "      <td>90753000</td>\n",
              "      <td>91714000</td>\n",
              "      <td>92677000</td>\n",
              "      <td>93640000</td>\n",
              "      <td>94601000</td>\n",
              "      <td>95546000</td>\n",
              "      <td>96462000</td>\n",
              "    </tr>\n",
              "    <tr>\n",
              "      <th>45</th>\n",
              "      <td>Democratic Republic of Congo</td>\n",
              "      <td>5163819</td>\n",
              "      <td>5163819</td>\n",
              "      <td>5163819</td>\n",
              "      <td>5163819</td>\n",
              "      <td>5163819</td>\n",
              "      <td>5163819</td>\n",
              "      <td>5163819</td>\n",
              "      <td>5163819</td>\n",
              "      <td>5163819</td>\n",
              "      <td>...</td>\n",
              "      <td>64564000</td>\n",
              "      <td>66755000</td>\n",
              "      <td>69021000</td>\n",
              "      <td>71359000</td>\n",
              "      <td>73767000</td>\n",
              "      <td>76245000</td>\n",
              "      <td>78789000</td>\n",
              "      <td>81399000</td>\n",
              "      <td>84068000</td>\n",
              "      <td>86791000</td>\n",
              "    </tr>\n",
              "    <tr>\n",
              "      <th>90</th>\n",
              "      <td>Kuwait</td>\n",
              "      <td>81280</td>\n",
              "      <td>81280</td>\n",
              "      <td>81280</td>\n",
              "      <td>81280</td>\n",
              "      <td>81280</td>\n",
              "      <td>81280</td>\n",
              "      <td>81280</td>\n",
              "      <td>81280</td>\n",
              "      <td>81280</td>\n",
              "      <td>...</td>\n",
              "      <td>2992000</td>\n",
              "      <td>3168000</td>\n",
              "      <td>3349000</td>\n",
              "      <td>3526000</td>\n",
              "      <td>3691000</td>\n",
              "      <td>3836000</td>\n",
              "      <td>3957000</td>\n",
              "      <td>4056000</td>\n",
              "      <td>4137000</td>\n",
              "      <td>4207000</td>\n",
              "    </tr>\n",
              "  </tbody>\n",
              "</table>\n",
              "<p>5 rows × 220 columns</p>\n",
              "</div>"
            ],
            "text/plain": [
              "                           paises     1801     1802     1803     1804  \\\n",
              "38                          Congo   314465   314465   314465   314465   \n",
              "91                     Kyrgyzstan   530343   530343   530343   530343   \n",
              "193                       Vietnam  6551000  6551000  6551000  6551000   \n",
              "45   Democratic Republic of Congo  5163819  5163819  5163819  5163819   \n",
              "90                         Kuwait    81280    81280    81280    81280   \n",
              "\n",
              "        1805     1806     1807     1808     1809  ...      2010      2011  \\\n",
              "38    314465   314465   314465   314465   314465  ...   4274000   4395000   \n",
              "91    530343   530343   530343   530343   530343  ...   5422000   5518000   \n",
              "193  6551000  6551000  6551000  6551000  6551000  ...  87968000  88871000   \n",
              "45   5163819  5163819  5163819  5163819  5163819  ...  64564000  66755000   \n",
              "90     81280    81280    81280    81280    81280  ...   2992000   3168000   \n",
              "\n",
              "         2012      2013      2014      2015      2016      2017      2018  \\\n",
              "38    4510000   4623000   4737000   4856000   4981000   5111000   5244000   \n",
              "91    5622000   5731000   5845000   5959000   6074000   6190000   6304000   \n",
              "193  89802000  90753000  91714000  92677000  93640000  94601000  95546000   \n",
              "45   69021000  71359000  73767000  76245000  78789000  81399000  84068000   \n",
              "90    3349000   3526000   3691000   3836000   3957000   4056000   4137000   \n",
              "\n",
              "         2019  \n",
              "38    5381000  \n",
              "91    6416000  \n",
              "193  96462000  \n",
              "45   86791000  \n",
              "90    4207000  \n",
              "\n",
              "[5 rows x 220 columns]"
            ]
          },
          "execution_count": 16,
          "metadata": {},
          "output_type": "execute_result"
        }
      ],
      "source": [
        "df_poblacion_mundial.columns\n",
        "columnas = {'Entity': 'paises'}\n",
        "df_poblacion_mundial = df_poblacion_mundial.rename(columns=columnas)\n",
        "df_poblacion_mundial.sample(5)"
      ]
    },
    {
      "attachments": {},
      "cell_type": "markdown",
      "metadata": {},
      "source": [
        "#### **tk-16** Crear función que cambie nombre del país por un código de tres letras"
      ]
    },
    {
      "cell_type": "code",
      "execution_count": 17,
      "metadata": {},
      "outputs": [],
      "source": [
        "# Importar pycountry\n",
        "import pycountry\n",
        "\n",
        "# Crear función que cambie el nombre completo del país por un código de tres letras (alpha_3)\n",
        "\n",
        "def get_alpha_3(location):\n",
        "  try:\n",
        "    return pycountry.countries.get(name=location).alpha_3\n",
        "  except:\n",
        "    return None"
      ]
    },
    {
      "attachments": {},
      "cell_type": "markdown",
      "metadata": {},
      "source": [
        "#### **tk-17** Crear la columna del dataframe donde estarán los códigos del país"
      ]
    },
    {
      "cell_type": "code",
      "execution_count": 18,
      "metadata": {},
      "outputs": [
        {
          "name": "stdout",
          "output_type": "stream",
          "text": [
            "        paises     1801     1802     1803     1804     1805     1806     1807  \\\n",
            "0  Afghanistan  3280000  3280000  3280000  3280000  3280000  3280000  3280000   \n",
            "1      Albania   411734   413026   414323   415624   416929   418237   419550   \n",
            "2      Algeria  2512195  2521203  2530245  2539318  2548424  2557563  2566734   \n",
            "3      Andorra     2654     2654     2654     2654     2654     2654     2654   \n",
            "4       Angola  1567028  1567028  1567028  1567028  1567028  1567028  1567028   \n",
            "\n",
            "      1808     1809  ...      2011      2012      2013      2014      2015  \\\n",
            "0  3280000  3280000  ...  30117000  31161000  32270000  33371000  34414000   \n",
            "1   420868   422189  ...   2929000   2914000   2904000   2896000   2891000   \n",
            "2  2575939  2585176  ...  36661000  37384000  38140000  38924000  39728000   \n",
            "3     2654     2654  ...     84000     82000     81000     79000     78000   \n",
            "4  1567028  1567028  ...  24221000  25108000  26016000  26942000  27884000   \n",
            "\n",
            "       2016      2017      2018      2019  Code  \n",
            "0  35383000  36296000  37172000  38042000   AFG  \n",
            "1   2886000   2884000   2883000   2881000   ALB  \n",
            "2  40551000  41389000  42228000  43053000   DZA  \n",
            "3     77000     77000     77000     77000   AND  \n",
            "4  28842000  29817000  30810000  31825000   AGO  \n",
            "\n",
            "[5 rows x 221 columns]\n"
          ]
        }
      ],
      "source": [
        "df_poblacion_mundial['Code'] = df_poblacion_mundial['paises'].apply(lambda x:get_alpha_3(x))\n",
        "print(df_poblacion_mundial.head(5))"
      ]
    },
    {
      "attachments": {},
      "cell_type": "markdown",
      "metadata": {},
      "source": [
        "#### **tk-18** Gráfica tipo mapa de los datos de población de 1801"
      ]
    },
    {
      "cell_type": "code",
      "execution_count": 19,
      "metadata": {},
      "outputs": [
        {
          "data": {
            "application/vnd.plotly.v1+json": {
              "config": {
                "plotlyServerURL": "https://plot.ly"
              },
              "data": [
                {
                  "coloraxis": "coloraxis",
                  "geo": "geo",
                  "hovertemplate": "<b>%{hovertext}</b><br><br>Code=%{location}<br>1801=%{z}<extra></extra>",
                  "hovertext": [
                    "Afghanistan",
                    "Albania",
                    "Algeria",
                    "Andorra",
                    "Angola",
                    "Antigua and Barbuda",
                    "Argentina",
                    "Armenia",
                    "Australia",
                    "Austria",
                    "Azerbaijan",
                    "Bahamas",
                    "Bahrain",
                    "Bangladesh",
                    "Barbados",
                    "Belarus",
                    "Belgium",
                    "Belize",
                    "Benin",
                    "Bhutan",
                    "Bolivia",
                    "Bosnia and Herzegovina",
                    "Botswana",
                    "Brazil",
                    "Brunei",
                    "Bulgaria",
                    "Burkina Faso",
                    "Burundi",
                    "Cambodia",
                    "Cameroon",
                    "Canada",
                    "Cape Verde",
                    "Central African Republic",
                    "Chad",
                    "Chile",
                    "China",
                    "Colombia",
                    "Comoros",
                    "Congo",
                    "Costa Rica",
                    "Cote d'Ivoire",
                    "Croatia",
                    "Cuba",
                    "Cyprus",
                    "Czechia",
                    "Democratic Republic of Congo",
                    "Denmark",
                    "Djibouti",
                    "Dominica",
                    "Dominican Republic",
                    "Ecuador",
                    "Egypt",
                    "El Salvador",
                    "Equatorial Guinea",
                    "Eritrea",
                    "Estonia",
                    "Eswatini",
                    "Ethiopia",
                    "Fiji",
                    "Finland",
                    "France",
                    "Gabon",
                    "Gambia",
                    "Georgia",
                    "Germany",
                    "Ghana",
                    "Greece",
                    "Grenada",
                    "Guatemala",
                    "Guinea",
                    "Guinea-Bissau",
                    "Guyana",
                    "Haiti",
                    "Honduras",
                    "Hong Kong",
                    "Hungary",
                    "Iceland",
                    "India",
                    "Indonesia",
                    "Iran",
                    "Iraq",
                    "Ireland",
                    "Israel",
                    "Italy",
                    "Jamaica",
                    "Japan",
                    "Jordan",
                    "Kazakhstan",
                    "Kenya",
                    "Kiribati",
                    "Kuwait",
                    "Kyrgyzstan",
                    "Laos",
                    "Latvia",
                    "Lebanon",
                    "Lesotho",
                    "Liberia",
                    "Libya",
                    "Liechtenstein",
                    "Lithuania",
                    "Luxembourg",
                    "Madagascar",
                    "Malawi",
                    "Malaysia",
                    "Maldives",
                    "Mali",
                    "Malta",
                    "Marshall Islands",
                    "Mauritania",
                    "Mauritius",
                    "Mexico",
                    "Micronesia (country)",
                    "Moldova",
                    "Monaco",
                    "Mongolia",
                    "Montenegro",
                    "Morocco",
                    "Mozambique",
                    "Myanmar",
                    "Namibia",
                    "Nauru",
                    "Nepal",
                    "Netherlands",
                    "New Zealand",
                    "Nicaragua",
                    "Niger",
                    "Nigeria",
                    "North Korea",
                    "North Macedonia",
                    "Norway",
                    "Oman",
                    "Pakistan",
                    "Palau",
                    "Palestine",
                    "Panama",
                    "Papua New Guinea",
                    "Paraguay",
                    "Peru",
                    "Philippines",
                    "Poland",
                    "Portugal",
                    "Qatar",
                    "Romania",
                    "Russia",
                    "Rwanda",
                    "Saint Kitts and Nevis",
                    "Saint Lucia",
                    "Saint Vincent and the Grenadines",
                    "Samoa",
                    "San Marino",
                    "Sao Tome and Principe",
                    "Saudi Arabia",
                    "Senegal",
                    "Serbia",
                    "Seychelles",
                    "Sierra Leone",
                    "Singapore",
                    "Slovakia",
                    "Slovenia",
                    "Solomon Islands",
                    "Somalia",
                    "South Africa",
                    "South Korea",
                    "South Sudan",
                    "Spain",
                    "Sri Lanka",
                    "Sudan",
                    "Suriname",
                    "Sweden",
                    "Switzerland",
                    "Syria",
                    "Taiwan",
                    "Tajikistan",
                    "Tanzania",
                    "Thailand",
                    "Timor",
                    "Togo",
                    "Tonga",
                    "Trinidad and Tobago",
                    "Tunisia",
                    "Turkey",
                    "Turkmenistan",
                    "Tuvalu",
                    "Uganda",
                    "Ukraine",
                    "United Arab Emirates",
                    "United Kingdom",
                    "United States",
                    "Uruguay",
                    "Uzbekistan",
                    "Vanuatu",
                    "Vatican",
                    "Venezuela",
                    "Vietnam",
                    "Yemen",
                    "Zambia",
                    "Zimbabwe"
                  ],
                  "locations": [
                    "AFG",
                    "ALB",
                    "DZA",
                    "AND",
                    "AGO",
                    "ATG",
                    "ARG",
                    "ARM",
                    "AUS",
                    "AUT",
                    "AZE",
                    "BHS",
                    "BHR",
                    "BGD",
                    "BRB",
                    "BLR",
                    "BEL",
                    "BLZ",
                    "BEN",
                    "BTN",
                    null,
                    "BIH",
                    "BWA",
                    "BRA",
                    null,
                    "BGR",
                    "BFA",
                    "BDI",
                    "KHM",
                    "CMR",
                    "CAN",
                    null,
                    "CAF",
                    "TCD",
                    "CHL",
                    "CHN",
                    "COL",
                    "COM",
                    "COG",
                    "CRI",
                    null,
                    "HRV",
                    "CUB",
                    "CYP",
                    "CZE",
                    null,
                    "DNK",
                    "DJI",
                    "DMA",
                    "DOM",
                    "ECU",
                    "EGY",
                    "SLV",
                    "GNQ",
                    "ERI",
                    "EST",
                    "SWZ",
                    "ETH",
                    "FJI",
                    "FIN",
                    "FRA",
                    "GAB",
                    "GMB",
                    "GEO",
                    "DEU",
                    "GHA",
                    "GRC",
                    "GRD",
                    "GTM",
                    "GIN",
                    "GNB",
                    "GUY",
                    "HTI",
                    "HND",
                    "HKG",
                    "HUN",
                    "ISL",
                    "IND",
                    "IDN",
                    null,
                    "IRQ",
                    "IRL",
                    "ISR",
                    "ITA",
                    "JAM",
                    "JPN",
                    "JOR",
                    "KAZ",
                    "KEN",
                    "KIR",
                    "KWT",
                    "KGZ",
                    null,
                    "LVA",
                    "LBN",
                    "LSO",
                    "LBR",
                    "LBY",
                    "LIE",
                    "LTU",
                    "LUX",
                    "MDG",
                    "MWI",
                    "MYS",
                    "MDV",
                    "MLI",
                    "MLT",
                    "MHL",
                    "MRT",
                    "MUS",
                    "MEX",
                    null,
                    null,
                    "MCO",
                    "MNG",
                    "MNE",
                    "MAR",
                    "MOZ",
                    "MMR",
                    "NAM",
                    "NRU",
                    "NPL",
                    "NLD",
                    "NZL",
                    "NIC",
                    "NER",
                    "NGA",
                    null,
                    "MKD",
                    "NOR",
                    "OMN",
                    "PAK",
                    "PLW",
                    null,
                    "PAN",
                    "PNG",
                    "PRY",
                    "PER",
                    "PHL",
                    "POL",
                    "PRT",
                    "QAT",
                    "ROU",
                    null,
                    "RWA",
                    "KNA",
                    "LCA",
                    "VCT",
                    "WSM",
                    "SMR",
                    "STP",
                    "SAU",
                    "SEN",
                    "SRB",
                    "SYC",
                    "SLE",
                    "SGP",
                    "SVK",
                    "SVN",
                    "SLB",
                    "SOM",
                    "ZAF",
                    null,
                    "SSD",
                    "ESP",
                    "LKA",
                    "SDN",
                    "SUR",
                    "SWE",
                    "CHE",
                    null,
                    null,
                    "TJK",
                    null,
                    "THA",
                    null,
                    "TGO",
                    "TON",
                    "TTO",
                    "TUN",
                    "TUR",
                    "TKM",
                    "TUV",
                    "UGA",
                    "UKR",
                    "ARE",
                    "GBR",
                    "USA",
                    "URY",
                    "UZB",
                    "VUT",
                    null,
                    null,
                    null,
                    "YEM",
                    "ZMB",
                    "ZWE"
                  ],
                  "name": "",
                  "type": "choropleth",
                  "z": [
                    3280000,
                    411734,
                    2512195,
                    2654,
                    1567028,
                    37000,
                    534000,
                    413326,
                    350143,
                    3213566,
                    879960,
                    27350,
                    64474,
                    19265272,
                    81729,
                    2355081,
                    3152306,
                    25526,
                    636559,
                    89989,
                    1100000,
                    851806,
                    121000,
                    3678743,
                    2128,
                    2001629,
                    1665421,
                    899097,
                    2090000,
                    1860054,
                    653134,
                    55716,
                    479444,
                    1432000,
                    771447,
                    324408864,
                    1206000,
                    56346,
                    314465,
                    53000,
                    1088530,
                    1227886,
                    355456,
                    184412,
                    5516349,
                    5163819,
                    1066957,
                    22848,
                    19950,
                    89000,
                    500000,
                    4241025,
                    248000,
                    80377,
                    205010,
                    334136,
                    86000,
                    2948990,
                    130746,
                    986439,
                    29447068,
                    158227,
                    103274,
                    1072178,
                    22983824,
                    2016034,
                    2158925,
                    29409,
                    464961,
                    983959,
                    218167,
                    166034,
                    723000,
                    130000,
                    20000,
                    3529548,
                    61428,
                    168907296,
                    16150710,
                    6283925,
                    1077718,
                    4109205,
                    209954,
                    18887712,
                    401000,
                    30329276,
                    217000,
                    2041282,
                    2574000,
                    17876,
                    81280,
                    530343,
                    470000,
                    590588,
                    332000,
                    276361,
                    313543,
                    531797,
                    5802,
                    778655,
                    127030,
                    1549842,
                    737000,
                    287000,
                    42378,
                    1403398,
                    134072,
                    5828,
                    382696,
                    64209,
                    6201367,
                    16416,
                    712558,
                    7789,
                    619000,
                    126582,
                    2512195,
                    1987859,
                    3506000,
                    229000,
                    1834,
                    3881000,
                    2258382,
                    100000,
                    219387,
                    1244861,
                    12100855,
                    4345000,
                    391865,
                    873380,
                    318000,
                    13149511,
                    3875,
                    165944,
                    78842,
                    754894,
                    143000,
                    1314293,
                    1894389,
                    9552631,
                    3046116,
                    14092,
                    5506976,
                    31088398,
                    928368,
                    17202,
                    24000,
                    25781,
                    47292,
                    5492,
                    22731,
                    2091000,
                    1009886,
                    2147197,
                    12522,
                    794264,
                    30000,
                    2140651,
                    469664,
                    56998,
                    991912,
                    1446092,
                    9395000,
                    1028736,
                    11581132,
                    1213000,
                    3999435,
                    80721,
                    2354278,
                    1833734,
                    1337000,
                    2000000,
                    466629,
                    3019768,
                    4665000,
                    137262,
                    445985,
                    18654,
                    60000,
                    862673,
                    9788268,
                    367215,
                    2499,
                    2101397,
                    11215490,
                    40153,
                    12483870,
                    6933517,
                    55000,
                    1919159,
                    27791,
                    905,
                    718000,
                    6551000,
                    2593000,
                    747000,
                    1085814
                  ]
                }
              ],
              "layout": {
                "coloraxis": {
                  "colorbar": {
                    "title": {
                      "text": "1801"
                    }
                  },
                  "colorscale": [
                    [
                      0,
                      "#0d0887"
                    ],
                    [
                      0.1111111111111111,
                      "#46039f"
                    ],
                    [
                      0.2222222222222222,
                      "#7201a8"
                    ],
                    [
                      0.3333333333333333,
                      "#9c179e"
                    ],
                    [
                      0.4444444444444444,
                      "#bd3786"
                    ],
                    [
                      0.5555555555555556,
                      "#d8576b"
                    ],
                    [
                      0.6666666666666666,
                      "#ed7953"
                    ],
                    [
                      0.7777777777777778,
                      "#fb9f3a"
                    ],
                    [
                      0.8888888888888888,
                      "#fdca26"
                    ],
                    [
                      1,
                      "#f0f921"
                    ]
                  ]
                },
                "geo": {
                  "center": {},
                  "domain": {
                    "x": [
                      0,
                      1
                    ],
                    "y": [
                      0,
                      1
                    ]
                  }
                },
                "legend": {
                  "tracegroupgap": 0
                },
                "margin": {
                  "t": 60
                },
                "template": {
                  "data": {
                    "bar": [
                      {
                        "error_x": {
                          "color": "#2a3f5f"
                        },
                        "error_y": {
                          "color": "#2a3f5f"
                        },
                        "marker": {
                          "line": {
                            "color": "#E5ECF6",
                            "width": 0.5
                          },
                          "pattern": {
                            "fillmode": "overlay",
                            "size": 10,
                            "solidity": 0.2
                          }
                        },
                        "type": "bar"
                      }
                    ],
                    "barpolar": [
                      {
                        "marker": {
                          "line": {
                            "color": "#E5ECF6",
                            "width": 0.5
                          },
                          "pattern": {
                            "fillmode": "overlay",
                            "size": 10,
                            "solidity": 0.2
                          }
                        },
                        "type": "barpolar"
                      }
                    ],
                    "carpet": [
                      {
                        "aaxis": {
                          "endlinecolor": "#2a3f5f",
                          "gridcolor": "white",
                          "linecolor": "white",
                          "minorgridcolor": "white",
                          "startlinecolor": "#2a3f5f"
                        },
                        "baxis": {
                          "endlinecolor": "#2a3f5f",
                          "gridcolor": "white",
                          "linecolor": "white",
                          "minorgridcolor": "white",
                          "startlinecolor": "#2a3f5f"
                        },
                        "type": "carpet"
                      }
                    ],
                    "choropleth": [
                      {
                        "colorbar": {
                          "outlinewidth": 0,
                          "ticks": ""
                        },
                        "type": "choropleth"
                      }
                    ],
                    "contour": [
                      {
                        "colorbar": {
                          "outlinewidth": 0,
                          "ticks": ""
                        },
                        "colorscale": [
                          [
                            0,
                            "#0d0887"
                          ],
                          [
                            0.1111111111111111,
                            "#46039f"
                          ],
                          [
                            0.2222222222222222,
                            "#7201a8"
                          ],
                          [
                            0.3333333333333333,
                            "#9c179e"
                          ],
                          [
                            0.4444444444444444,
                            "#bd3786"
                          ],
                          [
                            0.5555555555555556,
                            "#d8576b"
                          ],
                          [
                            0.6666666666666666,
                            "#ed7953"
                          ],
                          [
                            0.7777777777777778,
                            "#fb9f3a"
                          ],
                          [
                            0.8888888888888888,
                            "#fdca26"
                          ],
                          [
                            1,
                            "#f0f921"
                          ]
                        ],
                        "type": "contour"
                      }
                    ],
                    "contourcarpet": [
                      {
                        "colorbar": {
                          "outlinewidth": 0,
                          "ticks": ""
                        },
                        "type": "contourcarpet"
                      }
                    ],
                    "heatmap": [
                      {
                        "colorbar": {
                          "outlinewidth": 0,
                          "ticks": ""
                        },
                        "colorscale": [
                          [
                            0,
                            "#0d0887"
                          ],
                          [
                            0.1111111111111111,
                            "#46039f"
                          ],
                          [
                            0.2222222222222222,
                            "#7201a8"
                          ],
                          [
                            0.3333333333333333,
                            "#9c179e"
                          ],
                          [
                            0.4444444444444444,
                            "#bd3786"
                          ],
                          [
                            0.5555555555555556,
                            "#d8576b"
                          ],
                          [
                            0.6666666666666666,
                            "#ed7953"
                          ],
                          [
                            0.7777777777777778,
                            "#fb9f3a"
                          ],
                          [
                            0.8888888888888888,
                            "#fdca26"
                          ],
                          [
                            1,
                            "#f0f921"
                          ]
                        ],
                        "type": "heatmap"
                      }
                    ],
                    "heatmapgl": [
                      {
                        "colorbar": {
                          "outlinewidth": 0,
                          "ticks": ""
                        },
                        "colorscale": [
                          [
                            0,
                            "#0d0887"
                          ],
                          [
                            0.1111111111111111,
                            "#46039f"
                          ],
                          [
                            0.2222222222222222,
                            "#7201a8"
                          ],
                          [
                            0.3333333333333333,
                            "#9c179e"
                          ],
                          [
                            0.4444444444444444,
                            "#bd3786"
                          ],
                          [
                            0.5555555555555556,
                            "#d8576b"
                          ],
                          [
                            0.6666666666666666,
                            "#ed7953"
                          ],
                          [
                            0.7777777777777778,
                            "#fb9f3a"
                          ],
                          [
                            0.8888888888888888,
                            "#fdca26"
                          ],
                          [
                            1,
                            "#f0f921"
                          ]
                        ],
                        "type": "heatmapgl"
                      }
                    ],
                    "histogram": [
                      {
                        "marker": {
                          "pattern": {
                            "fillmode": "overlay",
                            "size": 10,
                            "solidity": 0.2
                          }
                        },
                        "type": "histogram"
                      }
                    ],
                    "histogram2d": [
                      {
                        "colorbar": {
                          "outlinewidth": 0,
                          "ticks": ""
                        },
                        "colorscale": [
                          [
                            0,
                            "#0d0887"
                          ],
                          [
                            0.1111111111111111,
                            "#46039f"
                          ],
                          [
                            0.2222222222222222,
                            "#7201a8"
                          ],
                          [
                            0.3333333333333333,
                            "#9c179e"
                          ],
                          [
                            0.4444444444444444,
                            "#bd3786"
                          ],
                          [
                            0.5555555555555556,
                            "#d8576b"
                          ],
                          [
                            0.6666666666666666,
                            "#ed7953"
                          ],
                          [
                            0.7777777777777778,
                            "#fb9f3a"
                          ],
                          [
                            0.8888888888888888,
                            "#fdca26"
                          ],
                          [
                            1,
                            "#f0f921"
                          ]
                        ],
                        "type": "histogram2d"
                      }
                    ],
                    "histogram2dcontour": [
                      {
                        "colorbar": {
                          "outlinewidth": 0,
                          "ticks": ""
                        },
                        "colorscale": [
                          [
                            0,
                            "#0d0887"
                          ],
                          [
                            0.1111111111111111,
                            "#46039f"
                          ],
                          [
                            0.2222222222222222,
                            "#7201a8"
                          ],
                          [
                            0.3333333333333333,
                            "#9c179e"
                          ],
                          [
                            0.4444444444444444,
                            "#bd3786"
                          ],
                          [
                            0.5555555555555556,
                            "#d8576b"
                          ],
                          [
                            0.6666666666666666,
                            "#ed7953"
                          ],
                          [
                            0.7777777777777778,
                            "#fb9f3a"
                          ],
                          [
                            0.8888888888888888,
                            "#fdca26"
                          ],
                          [
                            1,
                            "#f0f921"
                          ]
                        ],
                        "type": "histogram2dcontour"
                      }
                    ],
                    "mesh3d": [
                      {
                        "colorbar": {
                          "outlinewidth": 0,
                          "ticks": ""
                        },
                        "type": "mesh3d"
                      }
                    ],
                    "parcoords": [
                      {
                        "line": {
                          "colorbar": {
                            "outlinewidth": 0,
                            "ticks": ""
                          }
                        },
                        "type": "parcoords"
                      }
                    ],
                    "pie": [
                      {
                        "automargin": true,
                        "type": "pie"
                      }
                    ],
                    "scatter": [
                      {
                        "fillpattern": {
                          "fillmode": "overlay",
                          "size": 10,
                          "solidity": 0.2
                        },
                        "type": "scatter"
                      }
                    ],
                    "scatter3d": [
                      {
                        "line": {
                          "colorbar": {
                            "outlinewidth": 0,
                            "ticks": ""
                          }
                        },
                        "marker": {
                          "colorbar": {
                            "outlinewidth": 0,
                            "ticks": ""
                          }
                        },
                        "type": "scatter3d"
                      }
                    ],
                    "scattercarpet": [
                      {
                        "marker": {
                          "colorbar": {
                            "outlinewidth": 0,
                            "ticks": ""
                          }
                        },
                        "type": "scattercarpet"
                      }
                    ],
                    "scattergeo": [
                      {
                        "marker": {
                          "colorbar": {
                            "outlinewidth": 0,
                            "ticks": ""
                          }
                        },
                        "type": "scattergeo"
                      }
                    ],
                    "scattergl": [
                      {
                        "marker": {
                          "colorbar": {
                            "outlinewidth": 0,
                            "ticks": ""
                          }
                        },
                        "type": "scattergl"
                      }
                    ],
                    "scattermapbox": [
                      {
                        "marker": {
                          "colorbar": {
                            "outlinewidth": 0,
                            "ticks": ""
                          }
                        },
                        "type": "scattermapbox"
                      }
                    ],
                    "scatterpolar": [
                      {
                        "marker": {
                          "colorbar": {
                            "outlinewidth": 0,
                            "ticks": ""
                          }
                        },
                        "type": "scatterpolar"
                      }
                    ],
                    "scatterpolargl": [
                      {
                        "marker": {
                          "colorbar": {
                            "outlinewidth": 0,
                            "ticks": ""
                          }
                        },
                        "type": "scatterpolargl"
                      }
                    ],
                    "scatterternary": [
                      {
                        "marker": {
                          "colorbar": {
                            "outlinewidth": 0,
                            "ticks": ""
                          }
                        },
                        "type": "scatterternary"
                      }
                    ],
                    "surface": [
                      {
                        "colorbar": {
                          "outlinewidth": 0,
                          "ticks": ""
                        },
                        "colorscale": [
                          [
                            0,
                            "#0d0887"
                          ],
                          [
                            0.1111111111111111,
                            "#46039f"
                          ],
                          [
                            0.2222222222222222,
                            "#7201a8"
                          ],
                          [
                            0.3333333333333333,
                            "#9c179e"
                          ],
                          [
                            0.4444444444444444,
                            "#bd3786"
                          ],
                          [
                            0.5555555555555556,
                            "#d8576b"
                          ],
                          [
                            0.6666666666666666,
                            "#ed7953"
                          ],
                          [
                            0.7777777777777778,
                            "#fb9f3a"
                          ],
                          [
                            0.8888888888888888,
                            "#fdca26"
                          ],
                          [
                            1,
                            "#f0f921"
                          ]
                        ],
                        "type": "surface"
                      }
                    ],
                    "table": [
                      {
                        "cells": {
                          "fill": {
                            "color": "#EBF0F8"
                          },
                          "line": {
                            "color": "white"
                          }
                        },
                        "header": {
                          "fill": {
                            "color": "#C8D4E3"
                          },
                          "line": {
                            "color": "white"
                          }
                        },
                        "type": "table"
                      }
                    ]
                  },
                  "layout": {
                    "annotationdefaults": {
                      "arrowcolor": "#2a3f5f",
                      "arrowhead": 0,
                      "arrowwidth": 1
                    },
                    "autotypenumbers": "strict",
                    "coloraxis": {
                      "colorbar": {
                        "outlinewidth": 0,
                        "ticks": ""
                      }
                    },
                    "colorscale": {
                      "diverging": [
                        [
                          0,
                          "#8e0152"
                        ],
                        [
                          0.1,
                          "#c51b7d"
                        ],
                        [
                          0.2,
                          "#de77ae"
                        ],
                        [
                          0.3,
                          "#f1b6da"
                        ],
                        [
                          0.4,
                          "#fde0ef"
                        ],
                        [
                          0.5,
                          "#f7f7f7"
                        ],
                        [
                          0.6,
                          "#e6f5d0"
                        ],
                        [
                          0.7,
                          "#b8e186"
                        ],
                        [
                          0.8,
                          "#7fbc41"
                        ],
                        [
                          0.9,
                          "#4d9221"
                        ],
                        [
                          1,
                          "#276419"
                        ]
                      ],
                      "sequential": [
                        [
                          0,
                          "#0d0887"
                        ],
                        [
                          0.1111111111111111,
                          "#46039f"
                        ],
                        [
                          0.2222222222222222,
                          "#7201a8"
                        ],
                        [
                          0.3333333333333333,
                          "#9c179e"
                        ],
                        [
                          0.4444444444444444,
                          "#bd3786"
                        ],
                        [
                          0.5555555555555556,
                          "#d8576b"
                        ],
                        [
                          0.6666666666666666,
                          "#ed7953"
                        ],
                        [
                          0.7777777777777778,
                          "#fb9f3a"
                        ],
                        [
                          0.8888888888888888,
                          "#fdca26"
                        ],
                        [
                          1,
                          "#f0f921"
                        ]
                      ],
                      "sequentialminus": [
                        [
                          0,
                          "#0d0887"
                        ],
                        [
                          0.1111111111111111,
                          "#46039f"
                        ],
                        [
                          0.2222222222222222,
                          "#7201a8"
                        ],
                        [
                          0.3333333333333333,
                          "#9c179e"
                        ],
                        [
                          0.4444444444444444,
                          "#bd3786"
                        ],
                        [
                          0.5555555555555556,
                          "#d8576b"
                        ],
                        [
                          0.6666666666666666,
                          "#ed7953"
                        ],
                        [
                          0.7777777777777778,
                          "#fb9f3a"
                        ],
                        [
                          0.8888888888888888,
                          "#fdca26"
                        ],
                        [
                          1,
                          "#f0f921"
                        ]
                      ]
                    },
                    "colorway": [
                      "#636efa",
                      "#EF553B",
                      "#00cc96",
                      "#ab63fa",
                      "#FFA15A",
                      "#19d3f3",
                      "#FF6692",
                      "#B6E880",
                      "#FF97FF",
                      "#FECB52"
                    ],
                    "font": {
                      "color": "#2a3f5f"
                    },
                    "geo": {
                      "bgcolor": "white",
                      "lakecolor": "white",
                      "landcolor": "#E5ECF6",
                      "showlakes": true,
                      "showland": true,
                      "subunitcolor": "white"
                    },
                    "hoverlabel": {
                      "align": "left"
                    },
                    "hovermode": "closest",
                    "mapbox": {
                      "style": "light"
                    },
                    "paper_bgcolor": "white",
                    "plot_bgcolor": "#E5ECF6",
                    "polar": {
                      "angularaxis": {
                        "gridcolor": "white",
                        "linecolor": "white",
                        "ticks": ""
                      },
                      "bgcolor": "#E5ECF6",
                      "radialaxis": {
                        "gridcolor": "white",
                        "linecolor": "white",
                        "ticks": ""
                      }
                    },
                    "scene": {
                      "xaxis": {
                        "backgroundcolor": "#E5ECF6",
                        "gridcolor": "white",
                        "gridwidth": 2,
                        "linecolor": "white",
                        "showbackground": true,
                        "ticks": "",
                        "zerolinecolor": "white"
                      },
                      "yaxis": {
                        "backgroundcolor": "#E5ECF6",
                        "gridcolor": "white",
                        "gridwidth": 2,
                        "linecolor": "white",
                        "showbackground": true,
                        "ticks": "",
                        "zerolinecolor": "white"
                      },
                      "zaxis": {
                        "backgroundcolor": "#E5ECF6",
                        "gridcolor": "white",
                        "gridwidth": 2,
                        "linecolor": "white",
                        "showbackground": true,
                        "ticks": "",
                        "zerolinecolor": "white"
                      }
                    },
                    "shapedefaults": {
                      "line": {
                        "color": "#2a3f5f"
                      }
                    },
                    "ternary": {
                      "aaxis": {
                        "gridcolor": "white",
                        "linecolor": "white",
                        "ticks": ""
                      },
                      "baxis": {
                        "gridcolor": "white",
                        "linecolor": "white",
                        "ticks": ""
                      },
                      "bgcolor": "#E5ECF6",
                      "caxis": {
                        "gridcolor": "white",
                        "linecolor": "white",
                        "ticks": ""
                      }
                    },
                    "title": {
                      "x": 0.05
                    },
                    "xaxis": {
                      "automargin": true,
                      "gridcolor": "white",
                      "linecolor": "white",
                      "ticks": "",
                      "title": {
                        "standoff": 15
                      },
                      "zerolinecolor": "white",
                      "zerolinewidth": 2
                    },
                    "yaxis": {
                      "automargin": true,
                      "gridcolor": "white",
                      "linecolor": "white",
                      "ticks": "",
                      "title": {
                        "standoff": 15
                      },
                      "zerolinecolor": "white",
                      "zerolinewidth": 2
                    }
                  }
                }
              }
            }
          },
          "metadata": {},
          "output_type": "display_data"
        }
      ],
      "source": [
        "#Gráfica tipo mapa (choropleth)\n",
        "\n",
        "import plotly.express as px\n",
        "\n",
        "fig = px.choropleth(df_poblacion_mundial,locations='Code',color='1801',hover_name='paises',color_continuous_scale=px.colors.sequential.Plasma)\n",
        "fig.show()"
      ]
    },
    {
      "attachments": {},
      "cell_type": "markdown",
      "metadata": {},
      "source": [
        "#### **tk-19** Gráfica tipo mapa de los datos de población de 2019"
      ]
    },
    {
      "cell_type": "code",
      "execution_count": 20,
      "metadata": {},
      "outputs": [
        {
          "data": {
            "application/vnd.plotly.v1+json": {
              "config": {
                "plotlyServerURL": "https://plot.ly"
              },
              "data": [
                {
                  "coloraxis": "coloraxis",
                  "geo": "geo",
                  "hovertemplate": "<b>%{hovertext}</b><br><br>Code=%{location}<br>2019=%{z}<extra></extra>",
                  "hovertext": [
                    "Afghanistan",
                    "Albania",
                    "Algeria",
                    "Andorra",
                    "Angola",
                    "Antigua and Barbuda",
                    "Argentina",
                    "Armenia",
                    "Australia",
                    "Austria",
                    "Azerbaijan",
                    "Bahamas",
                    "Bahrain",
                    "Bangladesh",
                    "Barbados",
                    "Belarus",
                    "Belgium",
                    "Belize",
                    "Benin",
                    "Bhutan",
                    "Bolivia",
                    "Bosnia and Herzegovina",
                    "Botswana",
                    "Brazil",
                    "Brunei",
                    "Bulgaria",
                    "Burkina Faso",
                    "Burundi",
                    "Cambodia",
                    "Cameroon",
                    "Canada",
                    "Cape Verde",
                    "Central African Republic",
                    "Chad",
                    "Chile",
                    "China",
                    "Colombia",
                    "Comoros",
                    "Congo",
                    "Costa Rica",
                    "Cote d'Ivoire",
                    "Croatia",
                    "Cuba",
                    "Cyprus",
                    "Czechia",
                    "Democratic Republic of Congo",
                    "Denmark",
                    "Djibouti",
                    "Dominica",
                    "Dominican Republic",
                    "Ecuador",
                    "Egypt",
                    "El Salvador",
                    "Equatorial Guinea",
                    "Eritrea",
                    "Estonia",
                    "Eswatini",
                    "Ethiopia",
                    "Fiji",
                    "Finland",
                    "France",
                    "Gabon",
                    "Gambia",
                    "Georgia",
                    "Germany",
                    "Ghana",
                    "Greece",
                    "Grenada",
                    "Guatemala",
                    "Guinea",
                    "Guinea-Bissau",
                    "Guyana",
                    "Haiti",
                    "Honduras",
                    "Hong Kong",
                    "Hungary",
                    "Iceland",
                    "India",
                    "Indonesia",
                    "Iran",
                    "Iraq",
                    "Ireland",
                    "Israel",
                    "Italy",
                    "Jamaica",
                    "Japan",
                    "Jordan",
                    "Kazakhstan",
                    "Kenya",
                    "Kiribati",
                    "Kuwait",
                    "Kyrgyzstan",
                    "Laos",
                    "Latvia",
                    "Lebanon",
                    "Lesotho",
                    "Liberia",
                    "Libya",
                    "Liechtenstein",
                    "Lithuania",
                    "Luxembourg",
                    "Madagascar",
                    "Malawi",
                    "Malaysia",
                    "Maldives",
                    "Mali",
                    "Malta",
                    "Marshall Islands",
                    "Mauritania",
                    "Mauritius",
                    "Mexico",
                    "Micronesia (country)",
                    "Moldova",
                    "Monaco",
                    "Mongolia",
                    "Montenegro",
                    "Morocco",
                    "Mozambique",
                    "Myanmar",
                    "Namibia",
                    "Nauru",
                    "Nepal",
                    "Netherlands",
                    "New Zealand",
                    "Nicaragua",
                    "Niger",
                    "Nigeria",
                    "North Korea",
                    "North Macedonia",
                    "Norway",
                    "Oman",
                    "Pakistan",
                    "Palau",
                    "Palestine",
                    "Panama",
                    "Papua New Guinea",
                    "Paraguay",
                    "Peru",
                    "Philippines",
                    "Poland",
                    "Portugal",
                    "Qatar",
                    "Romania",
                    "Russia",
                    "Rwanda",
                    "Saint Kitts and Nevis",
                    "Saint Lucia",
                    "Saint Vincent and the Grenadines",
                    "Samoa",
                    "San Marino",
                    "Sao Tome and Principe",
                    "Saudi Arabia",
                    "Senegal",
                    "Serbia",
                    "Seychelles",
                    "Sierra Leone",
                    "Singapore",
                    "Slovakia",
                    "Slovenia",
                    "Solomon Islands",
                    "Somalia",
                    "South Africa",
                    "South Korea",
                    "South Sudan",
                    "Spain",
                    "Sri Lanka",
                    "Sudan",
                    "Suriname",
                    "Sweden",
                    "Switzerland",
                    "Syria",
                    "Taiwan",
                    "Tajikistan",
                    "Tanzania",
                    "Thailand",
                    "Timor",
                    "Togo",
                    "Tonga",
                    "Trinidad and Tobago",
                    "Tunisia",
                    "Turkey",
                    "Turkmenistan",
                    "Tuvalu",
                    "Uganda",
                    "Ukraine",
                    "United Arab Emirates",
                    "United Kingdom",
                    "United States",
                    "Uruguay",
                    "Uzbekistan",
                    "Vanuatu",
                    "Vatican",
                    "Venezuela",
                    "Vietnam",
                    "Yemen",
                    "Zambia",
                    "Zimbabwe"
                  ],
                  "locations": [
                    "AFG",
                    "ALB",
                    "DZA",
                    "AND",
                    "AGO",
                    "ATG",
                    "ARG",
                    "ARM",
                    "AUS",
                    "AUT",
                    "AZE",
                    "BHS",
                    "BHR",
                    "BGD",
                    "BRB",
                    "BLR",
                    "BEL",
                    "BLZ",
                    "BEN",
                    "BTN",
                    null,
                    "BIH",
                    "BWA",
                    "BRA",
                    null,
                    "BGR",
                    "BFA",
                    "BDI",
                    "KHM",
                    "CMR",
                    "CAN",
                    null,
                    "CAF",
                    "TCD",
                    "CHL",
                    "CHN",
                    "COL",
                    "COM",
                    "COG",
                    "CRI",
                    null,
                    "HRV",
                    "CUB",
                    "CYP",
                    "CZE",
                    null,
                    "DNK",
                    "DJI",
                    "DMA",
                    "DOM",
                    "ECU",
                    "EGY",
                    "SLV",
                    "GNQ",
                    "ERI",
                    "EST",
                    "SWZ",
                    "ETH",
                    "FJI",
                    "FIN",
                    "FRA",
                    "GAB",
                    "GMB",
                    "GEO",
                    "DEU",
                    "GHA",
                    "GRC",
                    "GRD",
                    "GTM",
                    "GIN",
                    "GNB",
                    "GUY",
                    "HTI",
                    "HND",
                    "HKG",
                    "HUN",
                    "ISL",
                    "IND",
                    "IDN",
                    null,
                    "IRQ",
                    "IRL",
                    "ISR",
                    "ITA",
                    "JAM",
                    "JPN",
                    "JOR",
                    "KAZ",
                    "KEN",
                    "KIR",
                    "KWT",
                    "KGZ",
                    null,
                    "LVA",
                    "LBN",
                    "LSO",
                    "LBR",
                    "LBY",
                    "LIE",
                    "LTU",
                    "LUX",
                    "MDG",
                    "MWI",
                    "MYS",
                    "MDV",
                    "MLI",
                    "MLT",
                    "MHL",
                    "MRT",
                    "MUS",
                    "MEX",
                    null,
                    null,
                    "MCO",
                    "MNG",
                    "MNE",
                    "MAR",
                    "MOZ",
                    "MMR",
                    "NAM",
                    "NRU",
                    "NPL",
                    "NLD",
                    "NZL",
                    "NIC",
                    "NER",
                    "NGA",
                    null,
                    "MKD",
                    "NOR",
                    "OMN",
                    "PAK",
                    "PLW",
                    null,
                    "PAN",
                    "PNG",
                    "PRY",
                    "PER",
                    "PHL",
                    "POL",
                    "PRT",
                    "QAT",
                    "ROU",
                    null,
                    "RWA",
                    "KNA",
                    "LCA",
                    "VCT",
                    "WSM",
                    "SMR",
                    "STP",
                    "SAU",
                    "SEN",
                    "SRB",
                    "SYC",
                    "SLE",
                    "SGP",
                    "SVK",
                    "SVN",
                    "SLB",
                    "SOM",
                    "ZAF",
                    null,
                    "SSD",
                    "ESP",
                    "LKA",
                    "SDN",
                    "SUR",
                    "SWE",
                    "CHE",
                    null,
                    null,
                    "TJK",
                    null,
                    "THA",
                    null,
                    "TGO",
                    "TON",
                    "TTO",
                    "TUN",
                    "TUR",
                    "TKM",
                    "TUV",
                    "UGA",
                    "UKR",
                    "ARE",
                    "GBR",
                    "USA",
                    "URY",
                    "UZB",
                    "VUT",
                    null,
                    null,
                    null,
                    "YEM",
                    "ZMB",
                    "ZWE"
                  ],
                  "name": "",
                  "type": "choropleth",
                  "z": [
                    38042000,
                    2881000,
                    43053000,
                    77000,
                    31825000,
                    97000,
                    44781000,
                    2958000,
                    25203000,
                    8955000,
                    10048000,
                    389000,
                    1641000,
                    163046000,
                    287000,
                    9452000,
                    11539000,
                    390000,
                    11801000,
                    763000,
                    11513000,
                    3301000,
                    2304000,
                    211050000,
                    433000,
                    7000000,
                    20321000,
                    11531000,
                    16487000,
                    25876000,
                    37411000,
                    550000,
                    4745000,
                    15947000,
                    18952000,
                    1433784064,
                    50339000,
                    851000,
                    5381000,
                    5048000,
                    25717000,
                    4130000,
                    11333000,
                    1199000,
                    10689000,
                    86791000,
                    5772000,
                    974000,
                    72000,
                    10739000,
                    17374000,
                    100388000,
                    6454000,
                    1356000,
                    3497000,
                    1326000,
                    1148000,
                    112079000,
                    890000,
                    5532000,
                    65130000,
                    2173000,
                    2348000,
                    3997000,
                    83517000,
                    30418000,
                    10473000,
                    112000,
                    17581000,
                    12771000,
                    1921000,
                    783000,
                    11263000,
                    9746000,
                    7436000,
                    9685000,
                    339000,
                    1366418048,
                    270625984,
                    82914000,
                    39310000,
                    4882000,
                    8519000,
                    60550000,
                    2948000,
                    126860000,
                    10102000,
                    18551000,
                    52574000,
                    118000,
                    4207000,
                    6416000,
                    7169000,
                    1907000,
                    6856000,
                    2125000,
                    4937000,
                    6777000,
                    38000,
                    2760000,
                    616000,
                    26969000,
                    18629000,
                    31950000,
                    531000,
                    19658000,
                    440000,
                    59000,
                    4526000,
                    1270000,
                    127576000,
                    114000,
                    4043000,
                    39000,
                    3225000,
                    628000,
                    36472000,
                    30366000,
                    54045000,
                    2495000,
                    11000,
                    28609000,
                    17097000,
                    4783000,
                    6546000,
                    23311000,
                    200964000,
                    25666000,
                    2083000,
                    5379000,
                    4975000,
                    216564992,
                    18000,
                    4981000,
                    4246000,
                    8776000,
                    7045000,
                    32510000,
                    108117000,
                    37888000,
                    10226000,
                    2832000,
                    19365000,
                    145872000,
                    12627000,
                    53000,
                    183000,
                    111000,
                    197000,
                    34000,
                    215000,
                    34269000,
                    16296000,
                    8772000,
                    98000,
                    7813000,
                    5804000,
                    5457000,
                    2079000,
                    670000,
                    15443000,
                    58558000,
                    51225000,
                    11062000,
                    46737000,
                    21324000,
                    42813000,
                    581000,
                    10036000,
                    8591000,
                    17070000,
                    23774000,
                    9321000,
                    58005000,
                    69626000,
                    1293000,
                    8082000,
                    104000,
                    1395000,
                    11695000,
                    83430000,
                    5942000,
                    12000,
                    44270000,
                    43994000,
                    9771000,
                    67530000,
                    329064992,
                    3462000,
                    32982000,
                    300000,
                    1000,
                    28516000,
                    96462000,
                    29162000,
                    17861000,
                    14645000
                  ]
                }
              ],
              "layout": {
                "coloraxis": {
                  "colorbar": {
                    "title": {
                      "text": "2019"
                    }
                  },
                  "colorscale": [
                    [
                      0,
                      "#0d0887"
                    ],
                    [
                      0.1111111111111111,
                      "#46039f"
                    ],
                    [
                      0.2222222222222222,
                      "#7201a8"
                    ],
                    [
                      0.3333333333333333,
                      "#9c179e"
                    ],
                    [
                      0.4444444444444444,
                      "#bd3786"
                    ],
                    [
                      0.5555555555555556,
                      "#d8576b"
                    ],
                    [
                      0.6666666666666666,
                      "#ed7953"
                    ],
                    [
                      0.7777777777777778,
                      "#fb9f3a"
                    ],
                    [
                      0.8888888888888888,
                      "#fdca26"
                    ],
                    [
                      1,
                      "#f0f921"
                    ]
                  ]
                },
                "geo": {
                  "center": {},
                  "domain": {
                    "x": [
                      0,
                      1
                    ],
                    "y": [
                      0,
                      1
                    ]
                  }
                },
                "legend": {
                  "tracegroupgap": 0
                },
                "margin": {
                  "t": 60
                },
                "template": {
                  "data": {
                    "bar": [
                      {
                        "error_x": {
                          "color": "#2a3f5f"
                        },
                        "error_y": {
                          "color": "#2a3f5f"
                        },
                        "marker": {
                          "line": {
                            "color": "#E5ECF6",
                            "width": 0.5
                          },
                          "pattern": {
                            "fillmode": "overlay",
                            "size": 10,
                            "solidity": 0.2
                          }
                        },
                        "type": "bar"
                      }
                    ],
                    "barpolar": [
                      {
                        "marker": {
                          "line": {
                            "color": "#E5ECF6",
                            "width": 0.5
                          },
                          "pattern": {
                            "fillmode": "overlay",
                            "size": 10,
                            "solidity": 0.2
                          }
                        },
                        "type": "barpolar"
                      }
                    ],
                    "carpet": [
                      {
                        "aaxis": {
                          "endlinecolor": "#2a3f5f",
                          "gridcolor": "white",
                          "linecolor": "white",
                          "minorgridcolor": "white",
                          "startlinecolor": "#2a3f5f"
                        },
                        "baxis": {
                          "endlinecolor": "#2a3f5f",
                          "gridcolor": "white",
                          "linecolor": "white",
                          "minorgridcolor": "white",
                          "startlinecolor": "#2a3f5f"
                        },
                        "type": "carpet"
                      }
                    ],
                    "choropleth": [
                      {
                        "colorbar": {
                          "outlinewidth": 0,
                          "ticks": ""
                        },
                        "type": "choropleth"
                      }
                    ],
                    "contour": [
                      {
                        "colorbar": {
                          "outlinewidth": 0,
                          "ticks": ""
                        },
                        "colorscale": [
                          [
                            0,
                            "#0d0887"
                          ],
                          [
                            0.1111111111111111,
                            "#46039f"
                          ],
                          [
                            0.2222222222222222,
                            "#7201a8"
                          ],
                          [
                            0.3333333333333333,
                            "#9c179e"
                          ],
                          [
                            0.4444444444444444,
                            "#bd3786"
                          ],
                          [
                            0.5555555555555556,
                            "#d8576b"
                          ],
                          [
                            0.6666666666666666,
                            "#ed7953"
                          ],
                          [
                            0.7777777777777778,
                            "#fb9f3a"
                          ],
                          [
                            0.8888888888888888,
                            "#fdca26"
                          ],
                          [
                            1,
                            "#f0f921"
                          ]
                        ],
                        "type": "contour"
                      }
                    ],
                    "contourcarpet": [
                      {
                        "colorbar": {
                          "outlinewidth": 0,
                          "ticks": ""
                        },
                        "type": "contourcarpet"
                      }
                    ],
                    "heatmap": [
                      {
                        "colorbar": {
                          "outlinewidth": 0,
                          "ticks": ""
                        },
                        "colorscale": [
                          [
                            0,
                            "#0d0887"
                          ],
                          [
                            0.1111111111111111,
                            "#46039f"
                          ],
                          [
                            0.2222222222222222,
                            "#7201a8"
                          ],
                          [
                            0.3333333333333333,
                            "#9c179e"
                          ],
                          [
                            0.4444444444444444,
                            "#bd3786"
                          ],
                          [
                            0.5555555555555556,
                            "#d8576b"
                          ],
                          [
                            0.6666666666666666,
                            "#ed7953"
                          ],
                          [
                            0.7777777777777778,
                            "#fb9f3a"
                          ],
                          [
                            0.8888888888888888,
                            "#fdca26"
                          ],
                          [
                            1,
                            "#f0f921"
                          ]
                        ],
                        "type": "heatmap"
                      }
                    ],
                    "heatmapgl": [
                      {
                        "colorbar": {
                          "outlinewidth": 0,
                          "ticks": ""
                        },
                        "colorscale": [
                          [
                            0,
                            "#0d0887"
                          ],
                          [
                            0.1111111111111111,
                            "#46039f"
                          ],
                          [
                            0.2222222222222222,
                            "#7201a8"
                          ],
                          [
                            0.3333333333333333,
                            "#9c179e"
                          ],
                          [
                            0.4444444444444444,
                            "#bd3786"
                          ],
                          [
                            0.5555555555555556,
                            "#d8576b"
                          ],
                          [
                            0.6666666666666666,
                            "#ed7953"
                          ],
                          [
                            0.7777777777777778,
                            "#fb9f3a"
                          ],
                          [
                            0.8888888888888888,
                            "#fdca26"
                          ],
                          [
                            1,
                            "#f0f921"
                          ]
                        ],
                        "type": "heatmapgl"
                      }
                    ],
                    "histogram": [
                      {
                        "marker": {
                          "pattern": {
                            "fillmode": "overlay",
                            "size": 10,
                            "solidity": 0.2
                          }
                        },
                        "type": "histogram"
                      }
                    ],
                    "histogram2d": [
                      {
                        "colorbar": {
                          "outlinewidth": 0,
                          "ticks": ""
                        },
                        "colorscale": [
                          [
                            0,
                            "#0d0887"
                          ],
                          [
                            0.1111111111111111,
                            "#46039f"
                          ],
                          [
                            0.2222222222222222,
                            "#7201a8"
                          ],
                          [
                            0.3333333333333333,
                            "#9c179e"
                          ],
                          [
                            0.4444444444444444,
                            "#bd3786"
                          ],
                          [
                            0.5555555555555556,
                            "#d8576b"
                          ],
                          [
                            0.6666666666666666,
                            "#ed7953"
                          ],
                          [
                            0.7777777777777778,
                            "#fb9f3a"
                          ],
                          [
                            0.8888888888888888,
                            "#fdca26"
                          ],
                          [
                            1,
                            "#f0f921"
                          ]
                        ],
                        "type": "histogram2d"
                      }
                    ],
                    "histogram2dcontour": [
                      {
                        "colorbar": {
                          "outlinewidth": 0,
                          "ticks": ""
                        },
                        "colorscale": [
                          [
                            0,
                            "#0d0887"
                          ],
                          [
                            0.1111111111111111,
                            "#46039f"
                          ],
                          [
                            0.2222222222222222,
                            "#7201a8"
                          ],
                          [
                            0.3333333333333333,
                            "#9c179e"
                          ],
                          [
                            0.4444444444444444,
                            "#bd3786"
                          ],
                          [
                            0.5555555555555556,
                            "#d8576b"
                          ],
                          [
                            0.6666666666666666,
                            "#ed7953"
                          ],
                          [
                            0.7777777777777778,
                            "#fb9f3a"
                          ],
                          [
                            0.8888888888888888,
                            "#fdca26"
                          ],
                          [
                            1,
                            "#f0f921"
                          ]
                        ],
                        "type": "histogram2dcontour"
                      }
                    ],
                    "mesh3d": [
                      {
                        "colorbar": {
                          "outlinewidth": 0,
                          "ticks": ""
                        },
                        "type": "mesh3d"
                      }
                    ],
                    "parcoords": [
                      {
                        "line": {
                          "colorbar": {
                            "outlinewidth": 0,
                            "ticks": ""
                          }
                        },
                        "type": "parcoords"
                      }
                    ],
                    "pie": [
                      {
                        "automargin": true,
                        "type": "pie"
                      }
                    ],
                    "scatter": [
                      {
                        "fillpattern": {
                          "fillmode": "overlay",
                          "size": 10,
                          "solidity": 0.2
                        },
                        "type": "scatter"
                      }
                    ],
                    "scatter3d": [
                      {
                        "line": {
                          "colorbar": {
                            "outlinewidth": 0,
                            "ticks": ""
                          }
                        },
                        "marker": {
                          "colorbar": {
                            "outlinewidth": 0,
                            "ticks": ""
                          }
                        },
                        "type": "scatter3d"
                      }
                    ],
                    "scattercarpet": [
                      {
                        "marker": {
                          "colorbar": {
                            "outlinewidth": 0,
                            "ticks": ""
                          }
                        },
                        "type": "scattercarpet"
                      }
                    ],
                    "scattergeo": [
                      {
                        "marker": {
                          "colorbar": {
                            "outlinewidth": 0,
                            "ticks": ""
                          }
                        },
                        "type": "scattergeo"
                      }
                    ],
                    "scattergl": [
                      {
                        "marker": {
                          "colorbar": {
                            "outlinewidth": 0,
                            "ticks": ""
                          }
                        },
                        "type": "scattergl"
                      }
                    ],
                    "scattermapbox": [
                      {
                        "marker": {
                          "colorbar": {
                            "outlinewidth": 0,
                            "ticks": ""
                          }
                        },
                        "type": "scattermapbox"
                      }
                    ],
                    "scatterpolar": [
                      {
                        "marker": {
                          "colorbar": {
                            "outlinewidth": 0,
                            "ticks": ""
                          }
                        },
                        "type": "scatterpolar"
                      }
                    ],
                    "scatterpolargl": [
                      {
                        "marker": {
                          "colorbar": {
                            "outlinewidth": 0,
                            "ticks": ""
                          }
                        },
                        "type": "scatterpolargl"
                      }
                    ],
                    "scatterternary": [
                      {
                        "marker": {
                          "colorbar": {
                            "outlinewidth": 0,
                            "ticks": ""
                          }
                        },
                        "type": "scatterternary"
                      }
                    ],
                    "surface": [
                      {
                        "colorbar": {
                          "outlinewidth": 0,
                          "ticks": ""
                        },
                        "colorscale": [
                          [
                            0,
                            "#0d0887"
                          ],
                          [
                            0.1111111111111111,
                            "#46039f"
                          ],
                          [
                            0.2222222222222222,
                            "#7201a8"
                          ],
                          [
                            0.3333333333333333,
                            "#9c179e"
                          ],
                          [
                            0.4444444444444444,
                            "#bd3786"
                          ],
                          [
                            0.5555555555555556,
                            "#d8576b"
                          ],
                          [
                            0.6666666666666666,
                            "#ed7953"
                          ],
                          [
                            0.7777777777777778,
                            "#fb9f3a"
                          ],
                          [
                            0.8888888888888888,
                            "#fdca26"
                          ],
                          [
                            1,
                            "#f0f921"
                          ]
                        ],
                        "type": "surface"
                      }
                    ],
                    "table": [
                      {
                        "cells": {
                          "fill": {
                            "color": "#EBF0F8"
                          },
                          "line": {
                            "color": "white"
                          }
                        },
                        "header": {
                          "fill": {
                            "color": "#C8D4E3"
                          },
                          "line": {
                            "color": "white"
                          }
                        },
                        "type": "table"
                      }
                    ]
                  },
                  "layout": {
                    "annotationdefaults": {
                      "arrowcolor": "#2a3f5f",
                      "arrowhead": 0,
                      "arrowwidth": 1
                    },
                    "autotypenumbers": "strict",
                    "coloraxis": {
                      "colorbar": {
                        "outlinewidth": 0,
                        "ticks": ""
                      }
                    },
                    "colorscale": {
                      "diverging": [
                        [
                          0,
                          "#8e0152"
                        ],
                        [
                          0.1,
                          "#c51b7d"
                        ],
                        [
                          0.2,
                          "#de77ae"
                        ],
                        [
                          0.3,
                          "#f1b6da"
                        ],
                        [
                          0.4,
                          "#fde0ef"
                        ],
                        [
                          0.5,
                          "#f7f7f7"
                        ],
                        [
                          0.6,
                          "#e6f5d0"
                        ],
                        [
                          0.7,
                          "#b8e186"
                        ],
                        [
                          0.8,
                          "#7fbc41"
                        ],
                        [
                          0.9,
                          "#4d9221"
                        ],
                        [
                          1,
                          "#276419"
                        ]
                      ],
                      "sequential": [
                        [
                          0,
                          "#0d0887"
                        ],
                        [
                          0.1111111111111111,
                          "#46039f"
                        ],
                        [
                          0.2222222222222222,
                          "#7201a8"
                        ],
                        [
                          0.3333333333333333,
                          "#9c179e"
                        ],
                        [
                          0.4444444444444444,
                          "#bd3786"
                        ],
                        [
                          0.5555555555555556,
                          "#d8576b"
                        ],
                        [
                          0.6666666666666666,
                          "#ed7953"
                        ],
                        [
                          0.7777777777777778,
                          "#fb9f3a"
                        ],
                        [
                          0.8888888888888888,
                          "#fdca26"
                        ],
                        [
                          1,
                          "#f0f921"
                        ]
                      ],
                      "sequentialminus": [
                        [
                          0,
                          "#0d0887"
                        ],
                        [
                          0.1111111111111111,
                          "#46039f"
                        ],
                        [
                          0.2222222222222222,
                          "#7201a8"
                        ],
                        [
                          0.3333333333333333,
                          "#9c179e"
                        ],
                        [
                          0.4444444444444444,
                          "#bd3786"
                        ],
                        [
                          0.5555555555555556,
                          "#d8576b"
                        ],
                        [
                          0.6666666666666666,
                          "#ed7953"
                        ],
                        [
                          0.7777777777777778,
                          "#fb9f3a"
                        ],
                        [
                          0.8888888888888888,
                          "#fdca26"
                        ],
                        [
                          1,
                          "#f0f921"
                        ]
                      ]
                    },
                    "colorway": [
                      "#636efa",
                      "#EF553B",
                      "#00cc96",
                      "#ab63fa",
                      "#FFA15A",
                      "#19d3f3",
                      "#FF6692",
                      "#B6E880",
                      "#FF97FF",
                      "#FECB52"
                    ],
                    "font": {
                      "color": "#2a3f5f"
                    },
                    "geo": {
                      "bgcolor": "white",
                      "lakecolor": "white",
                      "landcolor": "#E5ECF6",
                      "showlakes": true,
                      "showland": true,
                      "subunitcolor": "white"
                    },
                    "hoverlabel": {
                      "align": "left"
                    },
                    "hovermode": "closest",
                    "mapbox": {
                      "style": "light"
                    },
                    "paper_bgcolor": "white",
                    "plot_bgcolor": "#E5ECF6",
                    "polar": {
                      "angularaxis": {
                        "gridcolor": "white",
                        "linecolor": "white",
                        "ticks": ""
                      },
                      "bgcolor": "#E5ECF6",
                      "radialaxis": {
                        "gridcolor": "white",
                        "linecolor": "white",
                        "ticks": ""
                      }
                    },
                    "scene": {
                      "xaxis": {
                        "backgroundcolor": "#E5ECF6",
                        "gridcolor": "white",
                        "gridwidth": 2,
                        "linecolor": "white",
                        "showbackground": true,
                        "ticks": "",
                        "zerolinecolor": "white"
                      },
                      "yaxis": {
                        "backgroundcolor": "#E5ECF6",
                        "gridcolor": "white",
                        "gridwidth": 2,
                        "linecolor": "white",
                        "showbackground": true,
                        "ticks": "",
                        "zerolinecolor": "white"
                      },
                      "zaxis": {
                        "backgroundcolor": "#E5ECF6",
                        "gridcolor": "white",
                        "gridwidth": 2,
                        "linecolor": "white",
                        "showbackground": true,
                        "ticks": "",
                        "zerolinecolor": "white"
                      }
                    },
                    "shapedefaults": {
                      "line": {
                        "color": "#2a3f5f"
                      }
                    },
                    "ternary": {
                      "aaxis": {
                        "gridcolor": "white",
                        "linecolor": "white",
                        "ticks": ""
                      },
                      "baxis": {
                        "gridcolor": "white",
                        "linecolor": "white",
                        "ticks": ""
                      },
                      "bgcolor": "#E5ECF6",
                      "caxis": {
                        "gridcolor": "white",
                        "linecolor": "white",
                        "ticks": ""
                      }
                    },
                    "title": {
                      "x": 0.05
                    },
                    "xaxis": {
                      "automargin": true,
                      "gridcolor": "white",
                      "linecolor": "white",
                      "ticks": "",
                      "title": {
                        "standoff": 15
                      },
                      "zerolinecolor": "white",
                      "zerolinewidth": 2
                    },
                    "yaxis": {
                      "automargin": true,
                      "gridcolor": "white",
                      "linecolor": "white",
                      "ticks": "",
                      "title": {
                        "standoff": 15
                      },
                      "zerolinecolor": "white",
                      "zerolinewidth": 2
                    }
                  }
                }
              }
            }
          },
          "metadata": {},
          "output_type": "display_data"
        }
      ],
      "source": [
        "fig = px.choropleth(df_poblacion_mundial,locations='Code',color='2019',hover_name='paises',\n",
        "                    color_continuous_scale=px.colors.sequential.Plasma)\n",
        "fig.show()"
      ]
    }
  ],
  "metadata": {
    "colab": {
      "provenance": []
    },
    "kernelspec": {
      "display_name": "base",
      "language": "python",
      "name": "python3"
    },
    "language_info": {
      "codemirror_mode": {
        "name": "ipython",
        "version": 3
      },
      "file_extension": ".py",
      "mimetype": "text/x-python",
      "name": "python",
      "nbconvert_exporter": "python",
      "pygments_lexer": "ipython3",
      "version": "3.10.0"
    },
    "orig_nbformat": 4
  },
  "nbformat": 4,
  "nbformat_minor": 0
}
